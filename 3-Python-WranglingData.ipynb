{
 "cells": [
  {
   "cell_type": "markdown",
   "metadata": {},
   "source": [
    "<header style=\"background:#00233C;padding-left:20pt;padding-right:20pt;padding-top:20pt;padding-bottom:10pt;\"><img id=\"Teradata-logo\" src=\"https://storage.googleapis.com/clearscape_analytics_demo_data/DEMO_Logo/teradata.svg\" alt=\"Teradata\" style=\"width: 100px; height: auto; margin-top: 20pt;\" align=\"right\">\n",
    "<p style=\"font-size:20px; color:#ffffff\">UDW INNOVATION DAYS</p>\n",
    "<p style=\"font-size:24px; color:#ffffff\">Wrangling Data with Virtual DataFrames</p>\n",
    "</header>"
   ]
  },
  {
   "cell_type": "markdown",
   "metadata": {},
   "source": [
    "#### Install teradataml package\n",
    "Note: You only need to run this once. The \"!\" allows you to run Linux script from the notebook cell. "
   ]
  },
  {
   "cell_type": "code",
   "execution_count": null,
   "metadata": {},
   "outputs": [],
   "source": [
    "#!pip install teradataml --user"
   ]
  },
  {
   "cell_type": "markdown",
   "metadata": {},
   "source": [
    "#### Import Packages"
   ]
  },
  {
   "cell_type": "code",
   "execution_count": 3,
   "metadata": {
    "tags": []
   },
   "outputs": [],
   "source": [
    "# for managing connections\n",
    "from teradataml import create_context, get_context, remove_context\n",
    "\n",
    "# for setting configure options\n",
    "from teradataml import configure\n",
    "\n",
    "# to hide authentication strings\n",
    "import getpass as gp\n",
    "\n",
    "# DataFrames\n",
    "from teradataml import DataFrame, in_schema, db_list_tables, execute_sql\n",
    "\n",
    "import pandas as pd\n",
    "import numpy as np"
   ]
  },
  {
   "cell_type": "markdown",
   "metadata": {},
   "source": [
    "### Connection Variables"
   ]
  },
  {
   "cell_type": "markdown",
   "metadata": {},
   "source": [
    "##### Set User and Password Variables"
   ]
  },
  {
   "cell_type": "code",
   "execution_count": 4,
   "metadata": {
    "tags": []
   },
   "outputs": [
    {
     "name": "stdin",
     "output_type": "stream",
     "text": [
      "User ········\n"
     ]
    }
   ],
   "source": [
    "user = gp.getpass(\"User\")"
   ]
  },
  {
   "cell_type": "code",
   "execution_count": 5,
   "metadata": {
    "tags": []
   },
   "outputs": [
    {
     "name": "stdin",
     "output_type": "stream",
     "text": [
      "Password ········\n"
     ]
    }
   ],
   "source": [
    "password = gp.getpass(\"Password\")"
   ]
  },
  {
   "cell_type": "markdown",
   "metadata": {},
   "source": [
    "##### Set Connection Variables"
   ]
  },
  {
   "cell_type": "code",
   "execution_count": 6,
   "metadata": {
    "tags": []
   },
   "outputs": [],
   "source": [
    "host = 'UDWTest'\n",
    "logmech = 'LDAP'\n",
    "defaultDB = 'INOUDWTRAINING2024' "
   ]
  },
  {
   "cell_type": "markdown",
   "metadata": {},
   "source": [
    "##### Create Context\n",
    "See the PythonBasics-1-ConnectingToVantage Notebook for more information about contexts and garbage collection.  "
   ]
  },
  {
   "cell_type": "code",
   "execution_count": 7,
   "metadata": {
    "tags": []
   },
   "outputs": [
    {
     "name": "stderr",
     "output_type": "stream",
     "text": [
      "/home/tlugtu/conda/lib/python3.10/site-packages/teradataml/context/context.py:484: TeradataMlRuntimeWarning: Warning: Password is URL encoded.\n",
      "  warnings.warn(\"Warning: Password is URL encoded.\", category=TeradataMlRuntimeWarning)\n"
     ]
    }
   ],
   "source": [
    "td_context = create_context(host = host, \n",
    "                            username= user, \n",
    "                            password = password, \n",
    "                            logmech='LDAP', \n",
    "                            database=defaultDB)"
   ]
  },
  {
   "cell_type": "markdown",
   "metadata": {},
   "source": [
    "### teradataml DataFrames (plots, species, surveys)\n",
    "A teradataml DataFrame() can be constructed from a Vantage table, view, or query.\n",
    "\n",
    "See help documentation for DataFrame - "
   ]
  },
  {
   "cell_type": "code",
   "execution_count": null,
   "metadata": {
    "scrolled": true,
    "tags": []
   },
   "outputs": [],
   "source": [
    "help(\"teradataml.DataFrame\")"
   ]
  },
  {
   "cell_type": "markdown",
   "metadata": {},
   "source": [
    "#### Plots DataFrame and `.head()` Function\n",
    "- \"td_\" will denote a teradataml dataframe\n",
    "- \"pd_\" will denote a pandas dataframe\n",
    "\n",
    "Use `in_schema()` function to pull a table from a different database.\n",
    "\n",
    "`td_df = DataFrame(in_schema([other_db],[table_or_view]))`\n",
    "\n",
    "`DataFrame.head(n)` function will show the first n records. Default n=10."
   ]
  },
  {
   "cell_type": "code",
   "execution_count": 10,
   "metadata": {
    "tags": []
   },
   "outputs": [
    {
     "data": {
      "text/html": [
       "<style type=\"text/css\">\n",
       "\ttable {border:ridge 5px;}\n",
       "\ttable td {border:inset 1px;}\n",
       "\ttable tr#HeaderRow {background-color:grey; color:white;}</style>\n",
       "<html><table>\n",
       "\t<tr id=\"HeaderRow\">\n",
       "\t\t<th>plot_id</th>\n",
       "\t\t<th>plot_type</th>\n",
       "\t</tr>\n",
       "\t<tr>\n",
       "\t\t<td>3</td>\n",
       "\t\t<td>Long-term Krat Exclosure</td>\n",
       "\t</tr>\n",
       "\t<tr>\n",
       "\t\t<td>5</td>\n",
       "\t\t<td>Rodent Exclosure</td>\n",
       "\t</tr>\n",
       "\t<tr>\n",
       "\t\t<td>4</td>\n",
       "\t\t<td>Control</td>\n",
       "\t</tr>\n",
       "\t<tr>\n",
       "\t\t<td>2</td>\n",
       "\t\t<td>Control</td>\n",
       "\t</tr>\n",
       "\t<tr>\n",
       "\t\t<td>1</td>\n",
       "\t\t<td>Spectab exclosure</td>\n",
       "\t</tr>\n",
       "</table></html>"
      ],
      "text/plain": [
       "                        plot_type\n",
       "plot_id                          \n",
       "3        Long-term Krat Exclosure\n",
       "5                Rodent Exclosure\n",
       "4                         Control\n",
       "2                         Control\n",
       "1               Spectab exclosure"
      ]
     },
     "execution_count": 10,
     "metadata": {},
     "output_type": "execute_result"
    }
   ],
   "source": [
    "td_plots = DataFrame(in_schema(defaultDB, 'plots'))\n",
    "td_plots.head(5)"
   ]
  },
  {
   "cell_type": "markdown",
   "metadata": {},
   "source": [
    "#### teradataml DataFrames are In-Database\n",
    "\n",
    "The actual plots data is in-database. The td_plots object is only holding SQL script locally in memory."
   ]
  },
  {
   "cell_type": "code",
   "execution_count": 11,
   "metadata": {
    "tags": []
   },
   "outputs": [
    {
     "data": {
      "text/plain": [
       "'select * from \"INOUDWTRAINING2024\".\"plots\"'"
      ]
     },
     "execution_count": 11,
     "metadata": {},
     "output_type": "execute_result"
    }
   ],
   "source": [
    "td_plots.show_query()"
   ]
  },
  {
   "cell_type": "markdown",
   "metadata": {},
   "source": [
    "#### Species DataFrame\n",
    "\n",
    "You can also use a SQL query with the function DataFrame.from_query() - \n",
    "\n",
    "`DataFrame.from_query([SELECT field1, field2 FROM other_db.table_or_view])`"
   ]
  },
  {
   "cell_type": "code",
   "execution_count": 12,
   "metadata": {},
   "outputs": [
    {
     "data": {
      "text/html": [
       "<style type=\"text/css\">\n",
       "\ttable {border:ridge 5px;}\n",
       "\ttable td {border:inset 1px;}\n",
       "\ttable tr#HeaderRow {background-color:grey; color:white;}</style>\n",
       "<html><table>\n",
       "\t<tr id=\"HeaderRow\">\n",
       "\t\t<th>species_id</th>\n",
       "\t\t<th>genus</th>\n",
       "\t\t<th>species</th>\n",
       "\t\t<th>taxa</th>\n",
       "\t</tr>\n",
       "\t<tr>\n",
       "\t\t<td>AS</td>\n",
       "\t\t<td>Ammodramus</td>\n",
       "\t\t<td>savannarum</td>\n",
       "\t\t<td>Bird</td>\n",
       "\t</tr>\n",
       "\t<tr>\n",
       "\t\t<td>CB</td>\n",
       "\t\t<td>Campylorhynchus</td>\n",
       "\t\t<td>brunneicapillus</td>\n",
       "\t\t<td>Bird</td>\n",
       "\t</tr>\n",
       "\t<tr>\n",
       "\t\t<td>BA</td>\n",
       "\t\t<td>Baiomys</td>\n",
       "\t\t<td>taylori</td>\n",
       "\t\t<td>Rodent</td>\n",
       "\t</tr>\n",
       "\t<tr>\n",
       "\t\t<td>AH</td>\n",
       "\t\t<td>Ammospermophilus</td>\n",
       "\t\t<td>harrisi</td>\n",
       "\t\t<td>Rodent</td>\n",
       "\t</tr>\n",
       "\t<tr>\n",
       "\t\t<td>AB</td>\n",
       "\t\t<td>Amphispiza</td>\n",
       "\t\t<td>bilineata</td>\n",
       "\t\t<td>Bird</td>\n",
       "\t</tr>\n",
       "</table></html>"
      ],
      "text/plain": [
       "                       genus          species    taxa\n",
       "species_id                                           \n",
       "AS                Ammodramus       savannarum    Bird\n",
       "CB           Campylorhynchus  brunneicapillus    Bird\n",
       "BA                   Baiomys          taylori  Rodent\n",
       "AH          Ammospermophilus          harrisi  Rodent\n",
       "AB                Amphispiza        bilineata    Bird"
      ]
     },
     "execution_count": 12,
     "metadata": {},
     "output_type": "execute_result"
    }
   ],
   "source": [
    "td_species = DataFrame.from_query(f'select * from {defaultDB}.species')\n",
    "td_species.head(5)"
   ]
  },
  {
   "cell_type": "code",
   "execution_count": 13,
   "metadata": {},
   "outputs": [
    {
     "data": {
      "text/plain": [
       "'select * from INOUDWTRAINING2024.species'"
      ]
     },
     "execution_count": 13,
     "metadata": {},
     "output_type": "execute_result"
    }
   ],
   "source": [
    "td_species.show_query()"
   ]
  },
  {
   "cell_type": "markdown",
   "metadata": {},
   "source": [
    "#### Surveys DataFrame\n",
    "Note that default row display = 10 rows, but not in record order."
   ]
  },
  {
   "cell_type": "code",
   "execution_count": 14,
   "metadata": {},
   "outputs": [
    {
     "data": {
      "text/html": [
       "<style type=\"text/css\">\n",
       "\ttable {border:ridge 5px;}\n",
       "\ttable td {border:inset 1px;}\n",
       "\ttable tr#HeaderRow {background-color:grey; color:white;}</style>\n",
       "<html><table>\n",
       "\t<tr id=\"HeaderRow\">\n",
       "\t\t<th>record_id</th>\n",
       "\t\t<th>month</th>\n",
       "\t\t<th>day</th>\n",
       "\t\t<th>year</th>\n",
       "\t\t<th>plot_id</th>\n",
       "\t\t<th>species_id</th>\n",
       "\t\t<th>sex</th>\n",
       "\t\t<th>hindfoot_length</th>\n",
       "\t\t<th>weight</th>\n",
       "\t</tr>\n",
       "\t<tr>\n",
       "\t\t<td>20554</td>\n",
       "\t\t<td>12</td>\n",
       "\t\t<td>22</td>\n",
       "\t\t<td>1992</td>\n",
       "\t\t<td>                   4</td>\n",
       "\t\t<td>DM</td>\n",
       "\t\t<td>M</td>\n",
       "\t\t<td>32.000</td>\n",
       "\t\t<td>None</td>\n",
       "\t</tr>\n",
       "\t<tr>\n",
       "\t\t<td>122</td>\n",
       "\t\t<td>8</td>\n",
       "\t\t<td>21</td>\n",
       "\t\t<td>1977</td>\n",
       "\t\t<td>                  22</td>\n",
       "\t\t<td>DM</td>\n",
       "\t\t<td>F</td>\n",
       "\t\t<td>33.000</td>\n",
       "\t\t<td>None</td>\n",
       "\t</tr>\n",
       "\t<tr>\n",
       "\t\t<td>32300</td>\n",
       "\t\t<td>7</td>\n",
       "\t\t<td>22</td>\n",
       "\t\t<td>2001</td>\n",
       "\t\t<td>                   9</td>\n",
       "\t\t<td>NL</td>\n",
       "\t\t<td>None</td>\n",
       "\t\t<td>34.000</td>\n",
       "\t\t<td>95.000</td>\n",
       "\t</tr>\n",
       "\t<tr>\n",
       "\t\t<td>30954</td>\n",
       "\t\t<td>7</td>\n",
       "\t\t<td>1</td>\n",
       "\t\t<td>2000</td>\n",
       "\t\t<td>                  21</td>\n",
       "\t\t<td>PB</td>\n",
       "\t\t<td>F</td>\n",
       "\t\t<td>24.000</td>\n",
       "\t\t<td>30.000</td>\n",
       "\t</tr>\n",
       "\t<tr>\n",
       "\t\t<td>5220</td>\n",
       "\t\t<td>1</td>\n",
       "\t\t<td>24</td>\n",
       "\t\t<td>1982</td>\n",
       "\t\t<td>                  20</td>\n",
       "\t\t<td>AB</td>\n",
       "\t\t<td>None</td>\n",
       "\t\t<td>None</td>\n",
       "\t\t<td>None</td>\n",
       "\t</tr>\n",
       "\t<tr>\n",
       "\t\t<td>11664</td>\n",
       "\t\t<td>7</td>\n",
       "\t\t<td>3</td>\n",
       "\t\t<td>1986</td>\n",
       "\t\t<td>                  19</td>\n",
       "\t\t<td>OT</td>\n",
       "\t\t<td>M</td>\n",
       "\t\t<td>18.000</td>\n",
       "\t\t<td>14.000</td>\n",
       "\t</tr>\n",
       "\t<tr>\n",
       "\t\t<td>31383</td>\n",
       "\t\t<td>9</td>\n",
       "\t\t<td>30</td>\n",
       "\t\t<td>2000</td>\n",
       "\t\t<td>                   2</td>\n",
       "\t\t<td>PB</td>\n",
       "\t\t<td>M</td>\n",
       "\t\t<td>27.000</td>\n",
       "\t\t<td>33.000</td>\n",
       "\t</tr>\n",
       "\t<tr>\n",
       "\t\t<td>24266</td>\n",
       "\t\t<td>7</td>\n",
       "\t\t<td>21</td>\n",
       "\t\t<td>1996</td>\n",
       "\t\t<td>                  11</td>\n",
       "\t\t<td>OT</td>\n",
       "\t\t<td>M</td>\n",
       "\t\t<td>20.000</td>\n",
       "\t\t<td>19.000</td>\n",
       "\t</tr>\n",
       "\t<tr>\n",
       "\t\t<td>13437</td>\n",
       "\t\t<td>9</td>\n",
       "\t\t<td>27</td>\n",
       "\t\t<td>1987</td>\n",
       "\t\t<td>                   1</td>\n",
       "\t\t<td>DS</td>\n",
       "\t\t<td>M</td>\n",
       "\t\t<td>49.000</td>\n",
       "\t\t<td>132.000</td>\n",
       "\t</tr>\n",
       "\t<tr>\n",
       "\t\t<td>13580</td>\n",
       "\t\t<td>10</td>\n",
       "\t\t<td>25</td>\n",
       "\t\t<td>1987</td>\n",
       "\t\t<td>                   7</td>\n",
       "\t\t<td>RM</td>\n",
       "\t\t<td>M</td>\n",
       "\t\t<td>16.000</td>\n",
       "\t\t<td>10.000</td>\n",
       "\t</tr>\n",
       "</table></html>"
      ],
      "text/plain": [
       "           month  day  year               plot_id species_id   sex  hindfoot_length  weight\n",
       "record_id                                                                                  \n",
       "23183         12   22  1995                     4         DM     F             37.0    52.0\n",
       "27772          5    2  1998                    17         DM     M             34.0    43.0\n",
       "31095          7   22  2000                     1         PP     F             21.0    14.0\n",
       "2812           3   22  1980                    13         DS     M             47.0    90.0\n",
       "7849           5   14  1983                    20         NL     F             31.0   151.0\n",
       "29995         11    6  1999                    23       None  None              NaN     NaN\n",
       "21267         11   14  1993                     4         DM     F             38.0    34.0\n",
       "27589          3    1  1998                     2         PB     F             26.0     NaN\n",
       "59             7   18  1977                    19         DM     M             33.0     NaN\n",
       "29179          2   20  1999                    12         DM     M             35.0    46.0"
      ]
     },
     "execution_count": 14,
     "metadata": {},
     "output_type": "execute_result"
    }
   ],
   "source": [
    "td_surveys = DataFrame(in_schema(defaultDB, 'surveys'))\n",
    "td_surveys"
   ]
  },
  {
   "cell_type": "markdown",
   "metadata": {},
   "source": [
    "#### teradataml Display and Configure Options\n",
    "Like with pandas, you can change the teradataml DataFrame diplay defaults using print_options properties. See all display and configure options below."
   ]
  },
  {
   "cell_type": "code",
   "execution_count": 15,
   "metadata": {},
   "outputs": [
    {
     "name": "stdout",
     "output_type": "stream",
     "text": [
      "Display Options\n",
      "------------------\n",
      "blob_length = 10\n",
      "byte_encoding = base16\n",
      "geometry_column_length = 30\n",
      "max_rows = 10\n",
      "precision = 3\n",
      "print_sqlmr_query = False\n",
      "suppress_vantage_runtime_warnings = False\n",
      "\n",
      "Configure Options\n",
      "------------------\n",
      "byom_install_location = None\n",
      "certificate_file = False\n",
      "column_casesensitive_handler = False\n",
      "cran_repositories = None\n",
      "database_version = 17.20.03.26\n",
      "default_varchar_size = 1024\n",
      "indb_install_location = /var/opt/teradata/languages/sles12sp3/Python/\n",
      "inline_plot = True\n",
      "read_nos_function_mapping = read_nos\n",
      "sandbox_container_id = None\n",
      "temp_table_database = None\n",
      "temp_view_database = None\n",
      "ues_url = None\n",
      "val_install_location = None\n",
      "vantage_version = vantage1.3\n",
      "write_nos_function_mapping = write_nos\n"
     ]
    }
   ],
   "source": [
    "from teradataml import print_options\n",
    "print_options()"
   ]
  },
  {
   "cell_type": "markdown",
   "metadata": {},
   "source": [
    "##### Change max_rows\n",
    "To change the number of rows displayed -"
   ]
  },
  {
   "cell_type": "code",
   "execution_count": 16,
   "metadata": {},
   "outputs": [],
   "source": [
    " display.max_rows = 100"
   ]
  },
  {
   "cell_type": "markdown",
   "metadata": {},
   "source": [
    "### In-Database Data Wrangling with teradataml DataFrame\n",
    "#### Sorting Data"
   ]
  },
  {
   "cell_type": "code",
   "execution_count": 17,
   "metadata": {
    "tags": []
   },
   "outputs": [
    {
     "data": {
      "text/html": [
       "<style type=\"text/css\">\n",
       "\ttable {border:ridge 5px;}\n",
       "\ttable td {border:inset 1px;}\n",
       "\ttable tr#HeaderRow {background-color:grey; color:white;}</style>\n",
       "<html><table>\n",
       "\t<tr id=\"HeaderRow\">\n",
       "\t\t<th>record_id</th>\n",
       "\t\t<th>month</th>\n",
       "\t\t<th>day</th>\n",
       "\t\t<th>year</th>\n",
       "\t\t<th>plot_id</th>\n",
       "\t\t<th>species_id</th>\n",
       "\t\t<th>sex</th>\n",
       "\t\t<th>hindfoot_length</th>\n",
       "\t\t<th>weight</th>\n",
       "\t</tr>\n",
       "\t<tr>\n",
       "\t\t<td>3</td>\n",
       "\t\t<td>7</td>\n",
       "\t\t<td>16</td>\n",
       "\t\t<td>1977</td>\n",
       "\t\t<td>                   2</td>\n",
       "\t\t<td>DM</td>\n",
       "\t\t<td>F</td>\n",
       "\t\t<td>37.000</td>\n",
       "\t\t<td>None</td>\n",
       "\t</tr>\n",
       "\t<tr>\n",
       "\t\t<td>1</td>\n",
       "\t\t<td>7</td>\n",
       "\t\t<td>16</td>\n",
       "\t\t<td>1977</td>\n",
       "\t\t<td>                   2</td>\n",
       "\t\t<td>NL</td>\n",
       "\t\t<td>M</td>\n",
       "\t\t<td>32.000</td>\n",
       "\t\t<td>None</td>\n",
       "\t</tr>\n",
       "\t<tr>\n",
       "\t\t<td>5</td>\n",
       "\t\t<td>7</td>\n",
       "\t\t<td>16</td>\n",
       "\t\t<td>1977</td>\n",
       "\t\t<td>                   3</td>\n",
       "\t\t<td>DM</td>\n",
       "\t\t<td>M</td>\n",
       "\t\t<td>35.000</td>\n",
       "\t\t<td>None</td>\n",
       "\t</tr>\n",
       "\t<tr>\n",
       "\t\t<td>2</td>\n",
       "\t\t<td>7</td>\n",
       "\t\t<td>16</td>\n",
       "\t\t<td>1977</td>\n",
       "\t\t<td>                   3</td>\n",
       "\t\t<td>NL</td>\n",
       "\t\t<td>M</td>\n",
       "\t\t<td>33.000</td>\n",
       "\t\t<td>None</td>\n",
       "\t</tr>\n",
       "\t<tr>\n",
       "\t\t<td>4</td>\n",
       "\t\t<td>7</td>\n",
       "\t\t<td>16</td>\n",
       "\t\t<td>1977</td>\n",
       "\t\t<td>                   7</td>\n",
       "\t\t<td>DM</td>\n",
       "\t\t<td>M</td>\n",
       "\t\t<td>36.000</td>\n",
       "\t\t<td>None</td>\n",
       "\t</tr>\n",
       "</table></html>"
      ],
      "text/plain": [
       "           month  day  year               plot_id species_id sex  hindfoot_length weight\n",
       "record_id                                                                               \n",
       "3              7   16  1977                     2         DM   F             37.0   None\n",
       "1              7   16  1977                     2         NL   M             32.0   None\n",
       "5              7   16  1977                     3         DM   M             35.0   None\n",
       "2              7   16  1977                     3         NL   M             33.0   None\n",
       "4              7   16  1977                     7         DM   M             36.0   None"
      ]
     },
     "execution_count": 17,
     "metadata": {},
     "output_type": "execute_result"
    }
   ],
   "source": [
    "td_surveys_sorted = td_surveys.sort(['plot_id','species_id'], ascending=[True,True])\n",
    "td_surveys_sorted.head(5)"
   ]
  },
  {
   "cell_type": "markdown",
   "metadata": {},
   "source": [
    "####  Subsetting Data\n",
    "Extract the survey observations for the winter months of each year"
   ]
  },
  {
   "cell_type": "code",
   "execution_count": 18,
   "metadata": {},
   "outputs": [
    {
     "data": {
      "text/html": [
       "<style type=\"text/css\">\n",
       "\ttable {border:ridge 5px;}\n",
       "\ttable td {border:inset 1px;}\n",
       "\ttable tr#HeaderRow {background-color:grey; color:white;}</style>\n",
       "<html><table>\n",
       "\t<tr id=\"HeaderRow\">\n",
       "\t\t<th>record_id</th>\n",
       "\t\t<th>month</th>\n",
       "\t\t<th>day</th>\n",
       "\t\t<th>year</th>\n",
       "\t\t<th>plot_id</th>\n",
       "\t\t<th>species_id</th>\n",
       "\t\t<th>sex</th>\n",
       "\t\t<th>hindfoot_length</th>\n",
       "\t\t<th>weight</th>\n",
       "\t</tr>\n",
       "\t<tr>\n",
       "\t\t<td>488</td>\n",
       "\t\t<td>12</td>\n",
       "\t\t<td>11</td>\n",
       "\t\t<td>1977</td>\n",
       "\t\t<td>                  12</td>\n",
       "\t\t<td>DM</td>\n",
       "\t\t<td>M</td>\n",
       "\t\t<td>37.000</td>\n",
       "\t\t<td>41.000</td>\n",
       "\t</tr>\n",
       "\t<tr>\n",
       "\t\t<td>591</td>\n",
       "\t\t<td>2</td>\n",
       "\t\t<td>18</td>\n",
       "\t\t<td>1978</td>\n",
       "\t\t<td>                   6</td>\n",
       "\t\t<td>DM</td>\n",
       "\t\t<td>F</td>\n",
       "\t\t<td>38.000</td>\n",
       "\t\t<td>None</td>\n",
       "\t</tr>\n",
       "\t<tr>\n",
       "\t\t<td>528</td>\n",
       "\t\t<td>1</td>\n",
       "\t\t<td>8</td>\n",
       "\t\t<td>1978</td>\n",
       "\t\t<td>                  20</td>\n",
       "\t\t<td>DS</td>\n",
       "\t\t<td>M</td>\n",
       "\t\t<td>51.000</td>\n",
       "\t\t<td>122.000</td>\n",
       "\t</tr>\n",
       "\t<tr>\n",
       "\t\t<td>448</td>\n",
       "\t\t<td>12</td>\n",
       "\t\t<td>10</td>\n",
       "\t\t<td>1977</td>\n",
       "\t\t<td>                  20</td>\n",
       "\t\t<td>DS</td>\n",
       "\t\t<td>M</td>\n",
       "\t\t<td>51.000</td>\n",
       "\t\t<td>116.000</td>\n",
       "\t</tr>\n",
       "\t<tr>\n",
       "\t\t<td>446</td>\n",
       "\t\t<td>12</td>\n",
       "\t\t<td>10</td>\n",
       "\t\t<td>1977</td>\n",
       "\t\t<td>                   2</td>\n",
       "\t\t<td>OT</td>\n",
       "\t\t<td>None</td>\n",
       "\t\t<td>None</td>\n",
       "\t\t<td>None</td>\n",
       "\t</tr>\n",
       "</table></html>"
      ],
      "text/plain": [
       "           month  day  year               plot_id species_id   sex  hindfoot_length  weight\n",
       "record_id                                                                                  \n",
       "488           12   11  1977                    12         DM     M             37.0    41.0\n",
       "591            2   18  1978                     6         DM     F             38.0     NaN\n",
       "528            1    8  1978                    20         DS     M             51.0   122.0\n",
       "448           12   10  1977                    20         DS     M             51.0   116.0\n",
       "446           12   10  1977                     2         OT  None              NaN     NaN"
      ]
     },
     "execution_count": 18,
     "metadata": {},
     "output_type": "execute_result"
    }
   ],
   "source": [
    "# subset by selecting the winter months\n",
    "td_surveys_winter = td_surveys[\n",
    "    ((td_surveys.month == 1) | (td_surveys.month == 2) | (td_surveys.month == 12))]\n",
    "td_surveys_winter.head(5)"
   ]
  },
  {
   "cell_type": "markdown",
   "metadata": {},
   "source": [
    "#### View SQL behind the scenes - `show_query()`\n",
    "Note that this query creates a temp - or volatile - table in the database."
   ]
  },
  {
   "cell_type": "code",
   "execution_count": 19,
   "metadata": {},
   "outputs": [
    {
     "data": {
      "text/plain": [
       "'select * from \"INOUDWTRAINING2024\".\"surveys\" where \"month\" = 1 OR \"month\" = 2 OR \"month\" = 12'"
      ]
     },
     "execution_count": 19,
     "metadata": {},
     "output_type": "execute_result"
    }
   ],
   "source": [
    "td_surveys_winter.show_query()"
   ]
  },
  {
   "cell_type": "markdown",
   "metadata": {},
   "source": [
    "#### Aggregations\n",
    "Count the number of individuals by species observed in the winters. "
   ]
  },
  {
   "cell_type": "code",
   "execution_count": 20,
   "metadata": {},
   "outputs": [
    {
     "data": {
      "text/html": [
       "<style type=\"text/css\">\n",
       "\ttable {border:ridge 5px;}\n",
       "\ttable td {border:inset 1px;}\n",
       "\ttable tr#HeaderRow {background-color:grey; color:white;}</style>\n",
       "<html><table>\n",
       "\t<tr id=\"HeaderRow\">\n",
       "\t\t<th>species_id</th>\n",
       "\t\t<th>count_record_id</th>\n",
       "\t</tr>\n",
       "\t<tr>\n",
       "\t\t<td>AH</td>\n",
       "\t\t<td>3</td>\n",
       "\t</tr>\n",
       "\t<tr>\n",
       "\t\t<td>CB</td>\n",
       "\t\t<td>1</td>\n",
       "\t</tr>\n",
       "\t<tr>\n",
       "\t\t<td>BA</td>\n",
       "\t\t<td>2</td>\n",
       "\t</tr>\n",
       "\t<tr>\n",
       "\t\t<td>AB</td>\n",
       "\t\t<td>5</td>\n",
       "\t</tr>\n",
       "\t<tr>\n",
       "\t\t<td>None</td>\n",
       "\t\t<td>8</td>\n",
       "\t</tr>\n",
       "</table></html>"
      ],
      "text/plain": [
       "  species_id  count_record_id\n",
       "0         AH                3\n",
       "1         CB                1\n",
       "2         BA                2\n",
       "3         AB                5\n",
       "4       None                8"
      ]
     },
     "execution_count": 20,
     "metadata": {},
     "output_type": "execute_result"
    }
   ],
   "source": [
    "# Notice the default name of an aggregation field\n",
    "td_surveys_winter_count = td_surveys_winter.groupby('species_id').count().select(['species_id', 'count_record_id'])\n",
    "td_surveys_winter_count.head(5)"
   ]
  },
  {
   "cell_type": "markdown",
   "metadata": {},
   "source": [
    "#### Layering DataFrame Methods\n",
    "\n",
    "Note that each method applied on an object is adding another SQL query layer - i.e. layering subqueries. Note that they can cause the query to take longer or you might run out of spool space. Play with these to test your limits.\n",
    "\n",
    "#### Renaming Columns \n",
    "Rename a Column by Creating a New One - `.assign()` - and Dropping the Old One - `.drop()`"
   ]
  },
  {
   "cell_type": "code",
   "execution_count": 21,
   "metadata": {},
   "outputs": [
    {
     "data": {
      "text/html": [
       "<style type=\"text/css\">\n",
       "\ttable {border:ridge 5px;}\n",
       "\ttable td {border:inset 1px;}\n",
       "\ttable tr#HeaderRow {background-color:grey; color:white;}</style>\n",
       "<html><table>\n",
       "\t<tr id=\"HeaderRow\">\n",
       "\t\t<th>species_id</th>\n",
       "\t\t<th>count1</th>\n",
       "\t</tr>\n",
       "\t<tr>\n",
       "\t\t<td>AH</td>\n",
       "\t\t<td>3</td>\n",
       "\t</tr>\n",
       "\t<tr>\n",
       "\t\t<td>CB</td>\n",
       "\t\t<td>1</td>\n",
       "\t</tr>\n",
       "\t<tr>\n",
       "\t\t<td>DM</td>\n",
       "\t\t<td>96</td>\n",
       "\t</tr>\n",
       "\t<tr>\n",
       "\t\t<td>DO</td>\n",
       "\t\t<td>23</td>\n",
       "\t</tr>\n",
       "\t<tr>\n",
       "\t\t<td>NL</td>\n",
       "\t\t<td>9</td>\n",
       "\t</tr>\n",
       "\t<tr>\n",
       "\t\t<td>OL</td>\n",
       "\t\t<td>10</td>\n",
       "\t</tr>\n",
       "\t<tr>\n",
       "\t\t<td>DS</td>\n",
       "\t\t<td>20</td>\n",
       "\t</tr>\n",
       "\t<tr>\n",
       "\t\t<td>BA</td>\n",
       "\t\t<td>2</td>\n",
       "\t</tr>\n",
       "\t<tr>\n",
       "\t\t<td>AB</td>\n",
       "\t\t<td>5</td>\n",
       "\t</tr>\n",
       "\t<tr>\n",
       "\t\t<td>None</td>\n",
       "\t\t<td>8</td>\n",
       "\t</tr>\n",
       "</table></html>"
      ],
      "text/plain": [
       "  species_id  count1\n",
       "0         AH       3\n",
       "1         CB       1\n",
       "2         DM      96\n",
       "3         DO      23\n",
       "4         NL       9\n",
       "5         OL      10\n",
       "6         DS      20\n",
       "7         BA       2\n",
       "8         AB       5\n",
       "9       None       8"
      ]
     },
     "execution_count": 21,
     "metadata": {},
     "output_type": "execute_result"
    }
   ],
   "source": [
    "# Create new field - .assign()\n",
    "td_surveys_winter_count = td_surveys_winter_count.assign(count1 = td_surveys_winter_count.count_record_id)\n",
    "\n",
    "# Drop old field - .drop()\n",
    "td_surveys_winter_count = td_surveys_winter_count.drop(['count_record_id'], axis=1)\n",
    "\n",
    "# View top 10 rows\n",
    "td_surveys_winter_count.head()"
   ]
  },
  {
   "cell_type": "markdown",
   "metadata": {},
   "source": [
    "#### Get a Total Count of Species"
   ]
  },
  {
   "cell_type": "code",
   "execution_count": 22,
   "metadata": {},
   "outputs": [
    {
     "data": {
      "text/html": [
       "<style type=\"text/css\">\n",
       "\ttable {border:ridge 5px;}\n",
       "\ttable td {border:inset 1px;}\n",
       "\ttable tr#HeaderRow {background-color:grey; color:white;}</style>\n",
       "<html><table>\n",
       "\t<tr id=\"HeaderRow\">\n",
       "\t\t<th>sum_count1</th>\n",
       "\t</tr>\n",
       "\t<tr>\n",
       "\t\t<td>283</td>\n",
       "\t</tr>\n",
       "</table></html>"
      ],
      "text/plain": [
       "   sum_count1\n",
       "0         283"
      ]
     },
     "execution_count": 22,
     "metadata": {},
     "output_type": "execute_result"
    }
   ],
   "source": [
    "td_total_count = td_surveys_winter_count.select('count1').sum()\n",
    "td_total_count"
   ]
  },
  {
   "cell_type": "markdown",
   "metadata": {},
   "source": [
    "#### Conversion to pandas dataframe is supported by `DataFrame.to_pandas()`\n",
    "Use pandas index to get the totals value"
   ]
  },
  {
   "cell_type": "code",
   "execution_count": 23,
   "metadata": {},
   "outputs": [
    {
     "data": {
      "text/plain": [
       "283"
      ]
     },
     "execution_count": 23,
     "metadata": {},
     "output_type": "execute_result"
    }
   ],
   "source": [
    "tot_cnt = td_total_count.to_pandas()['sum_count1'][0]\n",
    "tot_cnt"
   ]
  },
  {
   "cell_type": "markdown",
   "metadata": {},
   "source": [
    "#### Use the Total Count to Create a new Population Proportion Column Using `.assign()`"
   ]
  },
  {
   "cell_type": "code",
   "execution_count": 24,
   "metadata": {},
   "outputs": [
    {
     "data": {
      "text/html": [
       "<style type=\"text/css\">\n",
       "\ttable {border:ridge 5px;}\n",
       "\ttable td {border:inset 1px;}\n",
       "\ttable tr#HeaderRow {background-color:grey; color:white;}</style>\n",
       "<html><table>\n",
       "\t<tr id=\"HeaderRow\">\n",
       "\t\t<th>species_id</th>\n",
       "\t\t<th>count1</th>\n",
       "\t\t<th>pop_prop</th>\n",
       "\t</tr>\n",
       "\t<tr>\n",
       "\t\t<td>OT</td>\n",
       "\t\t<td>11</td>\n",
       "\t\t<td>0.038869257950530034</td>\n",
       "\t</tr>\n",
       "\t<tr>\n",
       "\t\t<td>SF</td>\n",
       "\t\t<td>1</td>\n",
       "\t\t<td>0.0035335689045936395</td>\n",
       "\t</tr>\n",
       "\t<tr>\n",
       "\t\t<td>AH</td>\n",
       "\t\t<td>3</td>\n",
       "\t\t<td>0.01060070671378092</td>\n",
       "\t</tr>\n",
       "\t<tr>\n",
       "\t\t<td>CB</td>\n",
       "\t\t<td>1</td>\n",
       "\t\t<td>0.0035335689045936395</td>\n",
       "\t</tr>\n",
       "\t<tr>\n",
       "\t\t<td>DO</td>\n",
       "\t\t<td>23</td>\n",
       "\t\t<td>0.0812720848056537</td>\n",
       "\t</tr>\n",
       "\t<tr>\n",
       "\t\t<td>None</td>\n",
       "\t\t<td>8</td>\n",
       "\t\t<td>0.028268551236749116</td>\n",
       "\t</tr>\n",
       "\t<tr>\n",
       "\t\t<td>PM</td>\n",
       "\t\t<td>7</td>\n",
       "\t\t<td>0.024734982332155476</td>\n",
       "\t</tr>\n",
       "\t<tr>\n",
       "\t\t<td>OL</td>\n",
       "\t\t<td>10</td>\n",
       "\t\t<td>0.0353356890459364</td>\n",
       "\t</tr>\n",
       "\t<tr>\n",
       "\t\t<td>DS</td>\n",
       "\t\t<td>20</td>\n",
       "\t\t<td>0.0706713780918728</td>\n",
       "\t</tr>\n",
       "\t<tr>\n",
       "\t\t<td>BA</td>\n",
       "\t\t<td>2</td>\n",
       "\t\t<td>0.007067137809187279</td>\n",
       "\t</tr>\n",
       "</table></html>"
      ],
      "text/plain": [
       "  species_id  count1  pop_prop\n",
       "0         PF       9  0.031802\n",
       "1         SH       1  0.003534\n",
       "2         NL       9  0.031802\n",
       "3         SF       1  0.003534\n",
       "4         OL      10  0.035336\n",
       "5         DS      20  0.070671\n",
       "6         BA       2  0.007067\n",
       "7         PB      18  0.063604\n",
       "8         PG       1  0.003534\n",
       "9         PC       1  0.003534"
      ]
     },
     "execution_count": 24,
     "metadata": {},
     "output_type": "execute_result"
    }
   ],
   "source": [
    "# we use the previously obtained count variable to derive the PROPORTION of individuals represented by\n",
    "# each species, and assign the result to a new 'pop_prop' column.\n",
    "td_surveys_winter_count = td_surveys_winter_count.assign(pop_prop = td_surveys_winter_count.count1 / float(tot_cnt))\n",
    "td_surveys_winter_count"
   ]
  },
  {
   "cell_type": "code",
   "execution_count": 25,
   "metadata": {},
   "outputs": [
    {
     "data": {
      "text/plain": [
       "'select species_id AS species_id, count1 AS count1, count1 / CAST(CAST(283.0 as FLOAT) AS FLOAT) AS pop_prop from (select species_id,count1 from (select species_id AS species_id, count_record_id AS count_record_id, count_record_id AS count1 from (select species_id,count_record_id from (select \"species_id\", count(record_id) AS count_record_id, count(\"month\") AS count_month, count(\"day\") AS count_day, count(\"year\") AS count_year, count(plot_id) AS count_plot_id, count(sex) AS count_sex, count(hindfoot_length) AS count_hindfoot_length, count(weight) AS count_weight from (select * from \"INOUDWTRAINING2024\".\"surveys\" where \"month\" = 1 OR \"month\" = 2 OR \"month\" = 12) as temp_table group by \"species_id\") as temp_table) as temp_table) as temp_table) as temp_table'"
      ]
     },
     "execution_count": 25,
     "metadata": {},
     "output_type": "execute_result"
    }
   ],
   "source": [
    "# view the sql query\n",
    "td_surveys_winter_count.show_query()"
   ]
  },
  {
   "cell_type": "markdown",
   "metadata": {},
   "source": [
    "#### Join DataFrames\n",
    "Add the count and proportion to the species table"
   ]
  },
  {
   "cell_type": "code",
   "execution_count": 26,
   "metadata": {},
   "outputs": [
    {
     "name": "stderr",
     "output_type": "stream",
     "text": [
      "/tmp/ipykernel_2899/3336986459.py:2: DeprecationWarning: \n",
      "Behaviour of the argument(s) \"['lsuffix', 'rsuffix']\" will change in future.\n",
      "Use argument(s) \"['lprefix', 'rprefix']\" instead.\n",
      "  td_winter_inner_join = td_surveys_winter_count.join(td_species, on = 'species_id', how = \"inner\", lsuffix = 't1', rsuffix = 't2')\n"
     ]
    },
    {
     "data": {
      "text/html": [
       "<style type=\"text/css\">\n",
       "\ttable {border:ridge 5px;}\n",
       "\ttable td {border:inset 1px;}\n",
       "\ttable tr#HeaderRow {background-color:grey; color:white;}</style>\n",
       "<html><table>\n",
       "\t<tr id=\"HeaderRow\">\n",
       "\t\t<th>t1_species_id</th>\n",
       "\t\t<th>t2_species_id</th>\n",
       "\t\t<th>count1</th>\n",
       "\t\t<th>pop_prop</th>\n",
       "\t\t<th>genus</th>\n",
       "\t\t<th>species</th>\n",
       "\t\t<th>taxa</th>\n",
       "\t</tr>\n",
       "\t<tr>\n",
       "\t\t<td>PG</td>\n",
       "\t\t<td>PG</td>\n",
       "\t\t<td>1</td>\n",
       "\t\t<td>0.0035335689045936395</td>\n",
       "\t\t<td>Pooecetes</td>\n",
       "\t\t<td>gramineus</td>\n",
       "\t\t<td>Bird</td>\n",
       "\t</tr>\n",
       "\t<tr>\n",
       "\t\t<td>OT</td>\n",
       "\t\t<td>OT</td>\n",
       "\t\t<td>11</td>\n",
       "\t\t<td>0.038869257950530034</td>\n",
       "\t\t<td>Onychomys</td>\n",
       "\t\t<td>torridus</td>\n",
       "\t\t<td>Rodent</td>\n",
       "\t</tr>\n",
       "\t<tr>\n",
       "\t\t<td>PE</td>\n",
       "\t\t<td>PE</td>\n",
       "\t\t<td>4</td>\n",
       "\t\t<td>0.014134275618374558</td>\n",
       "\t\t<td>Peromyscus</td>\n",
       "\t\t<td>eremicus</td>\n",
       "\t\t<td>Rodent</td>\n",
       "\t</tr>\n",
       "\t<tr>\n",
       "\t\t<td>PM</td>\n",
       "\t\t<td>PM</td>\n",
       "\t\t<td>7</td>\n",
       "\t\t<td>0.024734982332155476</td>\n",
       "\t\t<td>Peromyscus</td>\n",
       "\t\t<td>maniculatus</td>\n",
       "\t\t<td>Rodent</td>\n",
       "\t</tr>\n",
       "\t<tr>\n",
       "\t\t<td>BA</td>\n",
       "\t\t<td>BA</td>\n",
       "\t\t<td>2</td>\n",
       "\t\t<td>0.007067137809187279</td>\n",
       "\t\t<td>Baiomys</td>\n",
       "\t\t<td>taylori</td>\n",
       "\t\t<td>Rodent</td>\n",
       "\t</tr>\n",
       "\t<tr>\n",
       "\t\t<td>PF</td>\n",
       "\t\t<td>PF</td>\n",
       "\t\t<td>9</td>\n",
       "\t\t<td>0.03180212014134275</td>\n",
       "\t\t<td>Perognathus</td>\n",
       "\t\t<td>flavus</td>\n",
       "\t\t<td>Rodent</td>\n",
       "\t</tr>\n",
       "\t<tr>\n",
       "\t\t<td>PC</td>\n",
       "\t\t<td>PC</td>\n",
       "\t\t<td>1</td>\n",
       "\t\t<td>0.0035335689045936395</td>\n",
       "\t\t<td>Pipilo</td>\n",
       "\t\t<td>chlorurus</td>\n",
       "\t\t<td>Bird</td>\n",
       "\t</tr>\n",
       "\t<tr>\n",
       "\t\t<td>AB</td>\n",
       "\t\t<td>AB</td>\n",
       "\t\t<td>5</td>\n",
       "\t\t<td>0.0176678445229682</td>\n",
       "\t\t<td>Amphispiza</td>\n",
       "\t\t<td>bilineata</td>\n",
       "\t\t<td>Bird</td>\n",
       "\t</tr>\n",
       "\t<tr>\n",
       "\t\t<td>PP</td>\n",
       "\t\t<td>PP</td>\n",
       "\t\t<td>10</td>\n",
       "\t\t<td>0.0353356890459364</td>\n",
       "\t\t<td>Chaetodipus</td>\n",
       "\t\t<td>penicillatus</td>\n",
       "\t\t<td>Rodent</td>\n",
       "\t</tr>\n",
       "\t<tr>\n",
       "\t\t<td>DM</td>\n",
       "\t\t<td>DM</td>\n",
       "\t\t<td>96</td>\n",
       "\t\t<td>0.3392226148409894</td>\n",
       "\t\t<td>Dipodomys</td>\n",
       "\t\t<td>merriami</td>\n",
       "\t\t<td>Rodent</td>\n",
       "\t</tr>\n",
       "</table></html>"
      ],
      "text/plain": [
       "  t1_species_id t2_species_id  count1  pop_prop             genus       species    taxa\n",
       "0            PE            PE       4  0.014134        Peromyscus      eremicus  Rodent\n",
       "1            AH            AH       3  0.010601  Ammospermophilus       harrisi  Rodent\n",
       "2            AB            AB       5  0.017668        Amphispiza     bilineata    Bird\n",
       "3            PP            PP      10  0.035336       Chaetodipus  penicillatus  Rodent\n",
       "4            PM            PM       7  0.024735        Peromyscus   maniculatus  Rodent\n",
       "5            PB            PB      18  0.063604       Chaetodipus       baileyi  Rodent\n",
       "6            BA            BA       2  0.007067           Baiomys       taylori  Rodent\n",
       "7            DM            DM      96  0.339223         Dipodomys      merriami  Rodent\n",
       "8            DO            DO      23  0.081272         Dipodomys         ordii  Rodent\n",
       "9            UP            UP       1  0.003534            Pipilo           sp.    Bird"
      ]
     },
     "execution_count": 26,
     "metadata": {},
     "output_type": "execute_result"
    }
   ],
   "source": [
    "# Inner Join between td_surveys_1990w_count and td_species\n",
    "td_winter_inner_join = td_surveys_winter_count.join(td_species, on = 'species_id', how = \"inner\", lsuffix = 't1', rsuffix = 't2')\n",
    "\n",
    "# Note first two columns are duplicates\n",
    "td_winter_inner_join"
   ]
  },
  {
   "cell_type": "markdown",
   "metadata": {},
   "source": [
    "#### Rename by Creating New and Dropping Old Columns "
   ]
  },
  {
   "cell_type": "code",
   "execution_count": 27,
   "metadata": {},
   "outputs": [
    {
     "data": {
      "text/html": [
       "<style type=\"text/css\">\n",
       "\ttable {border:ridge 5px;}\n",
       "\ttable td {border:inset 1px;}\n",
       "\ttable tr#HeaderRow {background-color:grey; color:white;}</style>\n",
       "<html><table>\n",
       "\t<tr id=\"HeaderRow\">\n",
       "\t\t<th>count1</th>\n",
       "\t\t<th>pop_prop</th>\n",
       "\t\t<th>genus</th>\n",
       "\t\t<th>species</th>\n",
       "\t\t<th>taxa</th>\n",
       "\t\t<th>species_id</th>\n",
       "\t</tr>\n",
       "\t<tr>\n",
       "\t\t<td>5</td>\n",
       "\t\t<td>0.0176678445229682</td>\n",
       "\t\t<td>Amphispiza</td>\n",
       "\t\t<td>bilineata</td>\n",
       "\t\t<td>Bird</td>\n",
       "\t\t<td>AB</td>\n",
       "\t</tr>\n",
       "\t<tr>\n",
       "\t\t<td>3</td>\n",
       "\t\t<td>0.01060070671378092</td>\n",
       "\t\t<td>Ammospermophilus</td>\n",
       "\t\t<td>harrisi</td>\n",
       "\t\t<td>Rodent</td>\n",
       "\t\t<td>AH</td>\n",
       "\t</tr>\n",
       "\t<tr>\n",
       "\t\t<td>2</td>\n",
       "\t\t<td>0.007067137809187279</td>\n",
       "\t\t<td>Baiomys</td>\n",
       "\t\t<td>taylori</td>\n",
       "\t\t<td>Rodent</td>\n",
       "\t\t<td>BA</td>\n",
       "\t</tr>\n",
       "\t<tr>\n",
       "\t\t<td>1</td>\n",
       "\t\t<td>0.0035335689045936395</td>\n",
       "\t\t<td>Campylorhynchus</td>\n",
       "\t\t<td>brunneicapillus</td>\n",
       "\t\t<td>Bird</td>\n",
       "\t\t<td>CB</td>\n",
       "\t</tr>\n",
       "\t<tr>\n",
       "\t\t<td>96</td>\n",
       "\t\t<td>0.3392226148409894</td>\n",
       "\t\t<td>Dipodomys</td>\n",
       "\t\t<td>merriami</td>\n",
       "\t\t<td>Rodent</td>\n",
       "\t\t<td>DM</td>\n",
       "\t</tr>\n",
       "\t<tr>\n",
       "\t\t<td>23</td>\n",
       "\t\t<td>0.0812720848056537</td>\n",
       "\t\t<td>Dipodomys</td>\n",
       "\t\t<td>ordii</td>\n",
       "\t\t<td>Rodent</td>\n",
       "\t\t<td>DO</td>\n",
       "\t</tr>\n",
       "\t<tr>\n",
       "\t\t<td>20</td>\n",
       "\t\t<td>0.0706713780918728</td>\n",
       "\t\t<td>Dipodomys</td>\n",
       "\t\t<td>spectabilis</td>\n",
       "\t\t<td>Rodent</td>\n",
       "\t\t<td>DS</td>\n",
       "\t</tr>\n",
       "\t<tr>\n",
       "\t\t<td>9</td>\n",
       "\t\t<td>0.03180212014134275</td>\n",
       "\t\t<td>Neotoma</td>\n",
       "\t\t<td>albigula</td>\n",
       "\t\t<td>Rodent</td>\n",
       "\t\t<td>NL</td>\n",
       "\t</tr>\n",
       "\t<tr>\n",
       "\t\t<td>10</td>\n",
       "\t\t<td>0.0353356890459364</td>\n",
       "\t\t<td>Onychomys</td>\n",
       "\t\t<td>leucogaster</td>\n",
       "\t\t<td>Rodent</td>\n",
       "\t\t<td>OL</td>\n",
       "\t</tr>\n",
       "\t<tr>\n",
       "\t\t<td>11</td>\n",
       "\t\t<td>0.038869257950530034</td>\n",
       "\t\t<td>Onychomys</td>\n",
       "\t\t<td>torridus</td>\n",
       "\t\t<td>Rodent</td>\n",
       "\t\t<td>OT</td>\n",
       "\t</tr>\n",
       "</table></html>"
      ],
      "text/plain": [
       "   count1  pop_prop             genus          species    taxa species_id\n",
       "0       5  0.017668        Amphispiza        bilineata    Bird         AB\n",
       "1       3  0.010601  Ammospermophilus          harrisi  Rodent         AH\n",
       "2       2  0.007067           Baiomys          taylori  Rodent         BA\n",
       "3       1  0.003534   Campylorhynchus  brunneicapillus    Bird         CB\n",
       "4      96  0.339223         Dipodomys         merriami  Rodent         DM\n",
       "5      23  0.081272         Dipodomys            ordii  Rodent         DO\n",
       "6      20  0.070671         Dipodomys      spectabilis  Rodent         DS\n",
       "7       9  0.031802           Neotoma         albigula  Rodent         NL\n",
       "8      10  0.035336         Onychomys      leucogaster  Rodent         OL\n",
       "9      11  0.038869         Onychomys         torridus  Rodent         OT"
      ]
     },
     "execution_count": 27,
     "metadata": {},
     "output_type": "execute_result"
    }
   ],
   "source": [
    "td_winter_inner_join = td_winter_inner_join.assign(species_id = td_winter_inner_join.t1_species_id)\n",
    "td_winter_inner_join = td_winter_inner_join.drop(['t1_species_id', 't2_species_id'], axis = 1)\n",
    "td_winter_inner_join.sort([\"species_id\"])"
   ]
  },
  {
   "cell_type": "markdown",
   "metadata": {},
   "source": [
    "#### The Volatile View\n",
    "The DataFrame sql is saved as a volatile (temporary) View, which is referenced below - \"ml__join__[some number]\". The previous manipulation, which dropped a column, is now filtering that view.\n",
    "\n",
    "When you remove_context() at the end of your notebook, these volatile views will be dropped automatically."
   ]
  },
  {
   "cell_type": "code",
   "execution_count": 28,
   "metadata": {},
   "outputs": [
    {
     "data": {
      "text/plain": [
       "'select count1,pop_prop,genus,species,taxa,species_id from (select t1_species_id AS t1_species_id, t2_species_id AS t2_species_id, count1 AS count1, pop_prop AS pop_prop, genus AS genus, species AS species, taxa AS taxa, t1_species_id AS species_id from \"INOUDWTRAINING2024\".\"ml__join__1721214745211017\") as temp_table'"
      ]
     },
     "execution_count": 28,
     "metadata": {},
     "output_type": "execute_result"
    }
   ],
   "source": [
    "# View the query\n",
    "td_winter_inner_join.show_query()"
   ]
  },
  {
   "cell_type": "markdown",
   "metadata": {},
   "source": [
    "#### Other Helpful Properties of teradataml DataFrames\n",
    "\n",
    "##### You can get the `shape` property."
   ]
  },
  {
   "cell_type": "code",
   "execution_count": 29,
   "metadata": {},
   "outputs": [
    {
     "data": {
      "text/plain": [
       "(23, 6)"
      ]
     },
     "execution_count": 29,
     "metadata": {},
     "output_type": "execute_result"
    }
   ],
   "source": [
    "td_winter_inner_join.shape"
   ]
  },
  {
   "cell_type": "markdown",
   "metadata": {},
   "source": [
    "##### Get Column Names"
   ]
  },
  {
   "cell_type": "code",
   "execution_count": 30,
   "metadata": {},
   "outputs": [
    {
     "data": {
      "text/plain": [
       "['count1', 'pop_prop', 'genus', 'species', 'taxa', 'species_id']"
      ]
     },
     "execution_count": 30,
     "metadata": {},
     "output_type": "execute_result"
    }
   ],
   "source": [
    "td_winter_inner_join.columns"
   ]
  },
  {
   "cell_type": "markdown",
   "metadata": {},
   "source": [
    "##### You can see the SQL datatypes by using `.tdtypes` (Teradata Data Types)"
   ]
  },
  {
   "cell_type": "code",
   "execution_count": 31,
   "metadata": {},
   "outputs": [
    {
     "data": {
      "text/html": [
       "<style type=\"text/css\">\n",
       "                                table {border:ridge 5px;}\n",
       "                                table td {border:inset 1px;}\n",
       "                                table tr#HeaderRow {background-color:grey; color:white;}\n",
       "                               </style>\n",
       "                               <html>\n",
       "                                  <table>\n",
       "                                    <tr id=\"HeaderRow\">\n",
       "                                        <th>COLUMN NAME</th>\n",
       "                                        <th>TYPE</th>\n",
       "                                    </tr>\n",
       "                                    <tr><td>count1</td><td>INTEGER()</td></tr>\n",
       "<tr><td>pop_prop</td><td>FLOAT()</td></tr>\n",
       "<tr><td>genus</td><td>VARCHAR(length=64000, charset='LATIN')</td></tr>\n",
       "<tr><td>species</td><td>VARCHAR(length=64000, charset='LATIN')</td></tr>\n",
       "<tr><td>taxa</td><td>VARCHAR(length=64000, charset='LATIN')</td></tr>\n",
       "<tr><td>species_id</td><td>VARCHAR(length=64000, charset='LATIN')</td></tr>\n",
       "                                  </table>\n",
       "                               </html>\n",
       "                            "
      ],
      "text/plain": [
       "count1                                     INTEGER()\n",
       "pop_prop                                     FLOAT()\n",
       "genus         VARCHAR(length=64000, charset='LATIN')\n",
       "species       VARCHAR(length=64000, charset='LATIN')\n",
       "taxa          VARCHAR(length=64000, charset='LATIN')\n",
       "species_id    VARCHAR(length=64000, charset='LATIN')"
      ]
     },
     "execution_count": 31,
     "metadata": {},
     "output_type": "execute_result"
    }
   ],
   "source": [
    "td_winter_inner_join.tdtypes"
   ]
  },
  {
   "cell_type": "markdown",
   "metadata": {},
   "source": [
    "##### You can also see the corresponding pandas datatypes if you were to convert to pandas using `.dtypes`"
   ]
  },
  {
   "cell_type": "code",
   "execution_count": 32,
   "metadata": {},
   "outputs": [
    {
     "data": {
      "text/html": [
       "<style type=\"text/css\">\n",
       "                                table {border:ridge 5px;}\n",
       "                                table td {border:inset 1px;}\n",
       "                                table tr#HeaderRow {background-color:grey; color:white;}\n",
       "                               </style>\n",
       "                               <html>\n",
       "                                  <table>\n",
       "                                    <tr id=\"HeaderRow\">\n",
       "                                        <th>COLUMN NAME</th>\n",
       "                                        <th>TYPE</th>\n",
       "                                    </tr>\n",
       "                                    <tr><td>count1</td><td>int</td></tr>\n",
       "<tr><td>pop_prop</td><td>float</td></tr>\n",
       "<tr><td>genus</td><td>str</td></tr>\n",
       "<tr><td>species</td><td>str</td></tr>\n",
       "<tr><td>taxa</td><td>str</td></tr>\n",
       "<tr><td>species_id</td><td>str</td></tr>\n",
       "                                  </table>\n",
       "                               </html>\n",
       "                            "
      ],
      "text/plain": [
       "count1          int\n",
       "pop_prop      float\n",
       "genus           str\n",
       "species         str\n",
       "taxa            str\n",
       "species_id      str"
      ]
     },
     "execution_count": 32,
     "metadata": {},
     "output_type": "execute_result"
    }
   ],
   "source": [
    "td_winter_inner_join.dtypes"
   ]
  },
  {
   "cell_type": "markdown",
   "metadata": {},
   "source": [
    "#### Save Volatile DataFrame as Permanent Table Using `to_sql()`"
   ]
  },
  {
   "cell_type": "code",
   "execution_count": 33,
   "metadata": {},
   "outputs": [],
   "source": [
    "td_winter_inner_join.to_sql(\"perm_table_from_join\", if_exists=\"replace\")"
   ]
  },
  {
   "cell_type": "markdown",
   "metadata": {},
   "source": [
    "#### Retrieve Permanent Table to a New teradataml Dataframe"
   ]
  },
  {
   "cell_type": "code",
   "execution_count": 34,
   "metadata": {},
   "outputs": [
    {
     "data": {
      "text/html": [
       "<style type=\"text/css\">\n",
       "\ttable {border:ridge 5px;}\n",
       "\ttable td {border:inset 1px;}\n",
       "\ttable tr#HeaderRow {background-color:grey; color:white;}</style>\n",
       "<html><table>\n",
       "\t<tr id=\"HeaderRow\">\n",
       "\t\t<th>count1</th>\n",
       "\t\t<th>pop_prop</th>\n",
       "\t\t<th>genus</th>\n",
       "\t\t<th>species</th>\n",
       "\t\t<th>taxa</th>\n",
       "\t\t<th>species_id</th>\n",
       "\t</tr>\n",
       "\t<tr>\n",
       "\t\t<td>1</td>\n",
       "\t\t<td>0.0035335689045936395</td>\n",
       "\t\t<td>Sigmodon</td>\n",
       "\t\t<td>hispidus</td>\n",
       "\t\t<td>Rodent</td>\n",
       "\t\t<td>SH</td>\n",
       "\t</tr>\n",
       "\t<tr>\n",
       "\t\t<td>1</td>\n",
       "\t\t<td>0.0035335689045936395</td>\n",
       "\t\t<td>Sigmodon</td>\n",
       "\t\t<td>fulviventer</td>\n",
       "\t\t<td>Rodent</td>\n",
       "\t\t<td>SF</td>\n",
       "\t</tr>\n",
       "\t<tr>\n",
       "\t\t<td>1</td>\n",
       "\t\t<td>0.0035335689045936395</td>\n",
       "\t\t<td>Pipilo</td>\n",
       "\t\t<td>chlorurus</td>\n",
       "\t\t<td>Bird</td>\n",
       "\t\t<td>PC</td>\n",
       "\t</tr>\n",
       "\t<tr>\n",
       "\t\t<td>1</td>\n",
       "\t\t<td>0.0035335689045936395</td>\n",
       "\t\t<td>Reithrodontomys</td>\n",
       "\t\t<td>fulvescens</td>\n",
       "\t\t<td>Rodent</td>\n",
       "\t\t<td>RF</td>\n",
       "\t</tr>\n",
       "\t<tr>\n",
       "\t\t<td>1</td>\n",
       "\t\t<td>0.0035335689045936395</td>\n",
       "\t\t<td>Pooecetes</td>\n",
       "\t\t<td>gramineus</td>\n",
       "\t\t<td>Bird</td>\n",
       "\t\t<td>PG</td>\n",
       "\t</tr>\n",
       "</table></html>"
      ],
      "text/plain": [
       "   count1  pop_prop            genus          species    taxa species_id\n",
       "0       1  0.003534  Reithrodontomys              sp.  Rodent         RX\n",
       "1       1  0.003534           Pipilo              sp.    Bird         UP\n",
       "2       1  0.003534        Pooecetes        gramineus    Bird         PG\n",
       "3       1  0.003534         Sigmodon         hispidus  Rodent         SH\n",
       "4       1  0.003534  Campylorhynchus  brunneicapillus    Bird         CB"
      ]
     },
     "execution_count": 34,
     "metadata": {},
     "output_type": "execute_result"
    }
   ],
   "source": [
    "td_perm_table = DataFrame('perm_table_from_join')\n",
    "td_perm_table.head(5)"
   ]
  },
  {
   "cell_type": "code",
   "execution_count": 35,
   "metadata": {},
   "outputs": [
    {
     "data": {
      "text/plain": [
       "'select * from \"perm_table_from_join\"'"
      ]
     },
     "execution_count": 35,
     "metadata": {},
     "output_type": "execute_result"
    }
   ],
   "source": [
    "td_perm_table.show_query()"
   ]
  },
  {
   "cell_type": "markdown",
   "metadata": {},
   "source": [
    "#### Left Join Example\n",
    "Observe one species with a `None` species_id, which is not present in td_winter_inner_join table"
   ]
  },
  {
   "cell_type": "code",
   "execution_count": 36,
   "metadata": {},
   "outputs": [
    {
     "name": "stderr",
     "output_type": "stream",
     "text": [
      "/tmp/ipykernel_2899/2795168631.py:2: DeprecationWarning: \n",
      "Behaviour of the argument(s) \"['lsuffix', 'rsuffix']\" will change in future.\n",
      "Use argument(s) \"['lprefix', 'rprefix']\" instead.\n",
      "  td_winter_left_join = td_surveys_winter_count.join(td_species, on = 'species_id', how = \"left\", lsuffix = 't1', rsuffix = 't2')\n"
     ]
    },
    {
     "name": "stdout",
     "output_type": "stream",
     "text": [
      "(24, 6)\n"
     ]
    },
    {
     "data": {
      "text/html": [
       "<style type=\"text/css\">\n",
       "\ttable {border:ridge 5px;}\n",
       "\ttable td {border:inset 1px;}\n",
       "\ttable tr#HeaderRow {background-color:grey; color:white;}</style>\n",
       "<html><table>\n",
       "\t<tr id=\"HeaderRow\">\n",
       "\t\t<th>count1</th>\n",
       "\t\t<th>pop_prop</th>\n",
       "\t\t<th>genus</th>\n",
       "\t\t<th>species</th>\n",
       "\t\t<th>taxa</th>\n",
       "\t\t<th>species_id</th>\n",
       "\t</tr>\n",
       "\t<tr>\n",
       "\t\t<td>8</td>\n",
       "\t\t<td>0.028268551236749116</td>\n",
       "\t\t<td>None</td>\n",
       "\t\t<td>None</td>\n",
       "\t\t<td>None</td>\n",
       "\t\t<td>None</td>\n",
       "\t</tr>\n",
       "\t<tr>\n",
       "\t\t<td>5</td>\n",
       "\t\t<td>0.0176678445229682</td>\n",
       "\t\t<td>Amphispiza</td>\n",
       "\t\t<td>bilineata</td>\n",
       "\t\t<td>Bird</td>\n",
       "\t\t<td>AB</td>\n",
       "\t</tr>\n",
       "\t<tr>\n",
       "\t\t<td>3</td>\n",
       "\t\t<td>0.01060070671378092</td>\n",
       "\t\t<td>Ammospermophilus</td>\n",
       "\t\t<td>harrisi</td>\n",
       "\t\t<td>Rodent</td>\n",
       "\t\t<td>AH</td>\n",
       "\t</tr>\n",
       "\t<tr>\n",
       "\t\t<td>2</td>\n",
       "\t\t<td>0.007067137809187279</td>\n",
       "\t\t<td>Baiomys</td>\n",
       "\t\t<td>taylori</td>\n",
       "\t\t<td>Rodent</td>\n",
       "\t\t<td>BA</td>\n",
       "\t</tr>\n",
       "\t<tr>\n",
       "\t\t<td>1</td>\n",
       "\t\t<td>0.0035335689045936395</td>\n",
       "\t\t<td>Campylorhynchus</td>\n",
       "\t\t<td>brunneicapillus</td>\n",
       "\t\t<td>Bird</td>\n",
       "\t\t<td>CB</td>\n",
       "\t</tr>\n",
       "\t<tr>\n",
       "\t\t<td>96</td>\n",
       "\t\t<td>0.3392226148409894</td>\n",
       "\t\t<td>Dipodomys</td>\n",
       "\t\t<td>merriami</td>\n",
       "\t\t<td>Rodent</td>\n",
       "\t\t<td>DM</td>\n",
       "\t</tr>\n",
       "\t<tr>\n",
       "\t\t<td>23</td>\n",
       "\t\t<td>0.0812720848056537</td>\n",
       "\t\t<td>Dipodomys</td>\n",
       "\t\t<td>ordii</td>\n",
       "\t\t<td>Rodent</td>\n",
       "\t\t<td>DO</td>\n",
       "\t</tr>\n",
       "\t<tr>\n",
       "\t\t<td>20</td>\n",
       "\t\t<td>0.0706713780918728</td>\n",
       "\t\t<td>Dipodomys</td>\n",
       "\t\t<td>spectabilis</td>\n",
       "\t\t<td>Rodent</td>\n",
       "\t\t<td>DS</td>\n",
       "\t</tr>\n",
       "\t<tr>\n",
       "\t\t<td>9</td>\n",
       "\t\t<td>0.03180212014134275</td>\n",
       "\t\t<td>Neotoma</td>\n",
       "\t\t<td>albigula</td>\n",
       "\t\t<td>Rodent</td>\n",
       "\t\t<td>NL</td>\n",
       "\t</tr>\n",
       "\t<tr>\n",
       "\t\t<td>10</td>\n",
       "\t\t<td>0.0353356890459364</td>\n",
       "\t\t<td>Onychomys</td>\n",
       "\t\t<td>leucogaster</td>\n",
       "\t\t<td>Rodent</td>\n",
       "\t\t<td>OL</td>\n",
       "\t</tr>\n",
       "</table></html>"
      ],
      "text/plain": [
       "   count1  pop_prop             genus          species    taxa species_id\n",
       "0       8  0.028269              None             None    None       None\n",
       "1       5  0.017668        Amphispiza        bilineata    Bird         AB\n",
       "2       3  0.010601  Ammospermophilus          harrisi  Rodent         AH\n",
       "3       2  0.007067           Baiomys          taylori  Rodent         BA\n",
       "4       1  0.003534   Campylorhynchus  brunneicapillus    Bird         CB\n",
       "5      96  0.339223         Dipodomys         merriami  Rodent         DM\n",
       "6      23  0.081272         Dipodomys            ordii  Rodent         DO\n",
       "7      20  0.070671         Dipodomys      spectabilis  Rodent         DS\n",
       "8       9  0.031802           Neotoma         albigula  Rodent         NL\n",
       "9      10  0.035336         Onychomys      leucogaster  Rodent         OL"
      ]
     },
     "execution_count": 36,
     "metadata": {},
     "output_type": "execute_result"
    }
   ],
   "source": [
    "# Left Join\n",
    "td_winter_left_join = td_surveys_winter_count.join(td_species, on = 'species_id', how = \"left\", lsuffix = 't1', rsuffix = 't2')\n",
    "\n",
    "# New Column with assign() to rename\n",
    "td_winter_left_join = td_winter_left_join.assign(species_id = td_winter_left_join.t1_species_id)\n",
    "\n",
    "# Drop old duplicate columns\n",
    "td_winter_left_join = td_winter_left_join.drop(['t1_species_id', 't2_species_id'], axis = 1)\n",
    "\n",
    "# View Shape \n",
    "print(td_winter_left_join.shape)\n",
    "\n",
    "# View data\n",
    "td_winter_left_join.sort([\"species_id\"]) "
   ]
  },
  {
   "cell_type": "markdown",
   "metadata": {},
   "source": [
    "#### Inner Join Sum of Population Proportion < 1.0\n",
    "This point is also proved by comparing the sum of population proportions between the Inner Join and the Left Join."
   ]
  },
  {
   "cell_type": "code",
   "execution_count": 37,
   "metadata": {},
   "outputs": [
    {
     "data": {
      "text/html": [
       "<style type=\"text/css\">\n",
       "\ttable {border:ridge 5px;}\n",
       "\ttable td {border:inset 1px;}\n",
       "\ttable tr#HeaderRow {background-color:grey; color:white;}</style>\n",
       "<html><table>\n",
       "\t<tr id=\"HeaderRow\">\n",
       "\t\t<th>sum_count1</th>\n",
       "\t\t<th>sum_pop_prop</th>\n",
       "\t</tr>\n",
       "\t<tr>\n",
       "\t\t<td>275</td>\n",
       "\t\t<td>0.9717314487632509</td>\n",
       "\t</tr>\n",
       "</table></html>"
      ],
      "text/plain": [
       "   sum_count1  sum_pop_prop\n",
       "0         275      0.971731"
      ]
     },
     "execution_count": 37,
     "metadata": {},
     "output_type": "execute_result"
    }
   ],
   "source": [
    "td_winter_inner_join.sum()"
   ]
  },
  {
   "cell_type": "markdown",
   "metadata": {},
   "source": [
    "#### Left Join Sum of Population Proportion = 1.0"
   ]
  },
  {
   "cell_type": "code",
   "execution_count": 38,
   "metadata": {},
   "outputs": [
    {
     "data": {
      "text/html": [
       "<style type=\"text/css\">\n",
       "\ttable {border:ridge 5px;}\n",
       "\ttable td {border:inset 1px;}\n",
       "\ttable tr#HeaderRow {background-color:grey; color:white;}</style>\n",
       "<html><table>\n",
       "\t<tr id=\"HeaderRow\">\n",
       "\t\t<th>sum_count1</th>\n",
       "\t\t<th>sum_pop_prop</th>\n",
       "\t</tr>\n",
       "\t<tr>\n",
       "\t\t<td>283</td>\n",
       "\t\t<td>1.0000000000000002</td>\n",
       "\t</tr>\n",
       "</table></html>"
      ],
      "text/plain": [
       "   sum_count1  sum_pop_prop\n",
       "0         283           1.0"
      ]
     },
     "execution_count": 38,
     "metadata": {},
     "output_type": "execute_result"
    }
   ],
   "source": [
    "td_winter_left_join.sum()"
   ]
  },
  {
   "cell_type": "markdown",
   "metadata": {},
   "source": [
    "### Remove context\n",
    "This best practice performs garbage collection for the volatile tables and views that were created during this session."
   ]
  },
  {
   "cell_type": "code",
   "execution_count": 39,
   "metadata": {},
   "outputs": [
    {
     "data": {
      "text/plain": [
       "True"
      ]
     },
     "execution_count": 39,
     "metadata": {},
     "output_type": "execute_result"
    }
   ],
   "source": [
    "remove_context()"
   ]
  },
  {
   "cell_type": "markdown",
   "metadata": {},
   "source": [
    "<span style=\"font-size:16px;\">For online documentation on Teradata Vantage analytic functions, refer to the [Teradata Developer Portal](https://docs.teradata.com/) and search for phrases \"Python User Guide\" and \"Python Function Reference\".</span>"
   ]
  }
 ],
 "metadata": {
  "kernelspec": {
   "display_name": "Python3.10",
   "language": "python",
   "name": "python310"
  },
  "language_info": {
   "codemirror_mode": {
    "name": "ipython",
    "version": 3
   },
   "file_extension": ".py",
   "mimetype": "text/x-python",
   "name": "python",
   "nbconvert_exporter": "python",
   "pygments_lexer": "ipython3",
   "version": "3.10.13"
  },
  "widgets": {
   "application/vnd.jupyter.widget-state+json": {
    "state": {},
    "version_major": 2,
    "version_minor": 0
   }
  }
 },
 "nbformat": 4,
 "nbformat_minor": 4
}

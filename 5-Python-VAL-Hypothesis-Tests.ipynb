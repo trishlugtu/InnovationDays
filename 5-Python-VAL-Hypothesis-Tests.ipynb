{
 "cells": [
  {
   "cell_type": "markdown",
   "metadata": {},
   "source": [
    "<header style=\"padding:10px;background:#f9f9f9;border-top:3px solid #00b2b1\">\n",
    "    <h3>Machine Learning Analytics (MLA) with Teradata Vantage</h3>\n",
    "    <h2>Vantage Analytics Library (VAL) with Python:<br>In-Database Hypothesis Testing</h2>     <p>This notebook demonstrates Vantage Analytics Library (VAL) functions that leverages Vantage's SQL push-down architecture to allow users to perform statistical tests on datasets in-database without moving data to your client machine.</p>\n",
    "    <p>For reference documentation, go to <a href=\"https://docs.teradata.com\">https://docs.teradata.com</a> and search for \"Teradata Package for Python Function  Reference\".</p>\n",
    "    <p>For more information on Machine Learning Analytics (MLA), go to the <a href=\"https://uhgazure.sharepoint.com/sites/UDW/SitePages/Machine-Learning-Analytics.aspx\" target=\"new\">Machine Learning Analytics (MLA) Sharepoint Site</a>.\n",
    "</header>"
   ]
  },
  {
   "cell_type": "markdown",
   "metadata": {},
   "source": [
    "### Use Cases\n",
    "1. Use Binomial Tests for comparing saving and checking account balances.\n",
    "2. Use a Median Test on incomes across marital statuses.\n"
   ]
  },
  {
   "cell_type": "markdown",
   "metadata": {},
   "source": [
    "#### Import teradataml package libraries\n",
    "\n",
    "##### Install packages as needed\n",
    "Note: You only need to run these once per package. The \"!\" allows you to run Linux script from the notebook cell. "
   ]
  },
  {
   "cell_type": "code",
   "execution_count": null,
   "metadata": {},
   "outputs": [],
   "source": [
    "!pip install teradataml --user"
   ]
  },
  {
   "cell_type": "code",
   "execution_count": null,
   "metadata": {},
   "outputs": [],
   "source": [
    "# managing connection context\n",
    "from teradataml import create_context, get_context, remove_context\n",
    "\n",
    "# for setting configure options\n",
    "from teradataml import configure\n",
    "\n",
    "# for teradataml DataFrame object\n",
    "from teradataml.dataframe.dataframe import DataFrame, in_schema\n",
    "\n",
    "# for copying pandas dataframe to SQL table\n",
    "from teradataml.dataframe.copy_to import copy_to_sql\n",
    "\n",
    "# dataframe manipulation methods and sql data types\n",
    "from teradatasqlalchemy.types import *\n",
    "from sqlalchemy.sql.expression import select, and_, or_, not_, extract, text, join, case as case_when\n",
    "from sqlalchemy import func, sql, distinct\n",
    "\n",
    "# teradataml utils\n",
    "from teradataml import configure, db_drop_table, UtilFuncs\n",
    "\n",
    "# Vantage Analytics Library (valib)\n",
    "from teradataml.analytics.valib import *\n",
    "from teradataml.analytics import Transformations as tf "
   ]
  },
  {
   "cell_type": "markdown",
   "metadata": {},
   "source": [
    "#### Import other helpful open source packages"
   ]
  },
  {
   "cell_type": "code",
   "execution_count": null,
   "metadata": {},
   "outputs": [],
   "source": [
    "# Open source packages\n",
    "\n",
    "# hide passwords\n",
    "import getpass as gp\n",
    "\n",
    "# visualization libraries\n",
    "import matplotlib.pyplot as plt\n",
    "import seaborn as sns\n",
    "\n",
    "# system\n",
    "from os.path import exists\n",
    "import yaml, sys\n",
    "from datetime import datetime as dt, timedelta\n",
    "import math\n",
    "\n",
    "# dataframes and matrices\n",
    "import pandas as pd\n",
    "import numpy as np\n",
    "\n",
    "%matplotlib inline"
   ]
  },
  {
   "cell_type": "markdown",
   "metadata": {},
   "source": [
    "##### Configure Display Options"
   ]
  },
  {
   "cell_type": "code",
   "execution_count": null,
   "metadata": {},
   "outputs": [],
   "source": [
    "plt.rcdefaults()\n",
    "sns.set_style(\"whitegrid\")\n",
    "plt.rcParams['figure.figsize'] = (5, 3)\n",
    "plt.rcParams['font.size'] = 8"
   ]
  },
  {
   "cell_type": "markdown",
   "metadata": {},
   "source": [
    "### Connection Variables"
   ]
  },
  {
   "cell_type": "markdown",
   "metadata": {},
   "source": [
    "##### Set User and Password Variables"
   ]
  },
  {
   "cell_type": "code",
   "execution_count": null,
   "metadata": {},
   "outputs": [],
   "source": [
    "user = gp.getpass(\"User\")"
   ]
  },
  {
   "cell_type": "code",
   "execution_count": null,
   "metadata": {},
   "outputs": [],
   "source": [
    "password = gp.getpass(\"Password\")"
   ]
  },
  {
   "cell_type": "markdown",
   "metadata": {},
   "source": [
    "##### Set Connection Variables"
   ]
  },
  {
   "cell_type": "code",
   "execution_count": null,
   "metadata": {},
   "outputs": [],
   "source": [
    "host = 'UDWProd.uhc.com'\n",
    "logmech = 'LDAP'\n",
    "defaultDB = 'MLA_BOPS'  # use your MLA database (MLA_BOPS, MLA_CNS, MLA_ENI, MLA_MNR)"
   ]
  },
  {
   "cell_type": "markdown",
   "metadata": {},
   "source": [
    "##### Virtual DataFrames are only allowed in the MLA Databases.\n",
    "\n",
    "If you are using a default database other than database=\"MLA_xxx\", you must set the configure options below to your MLA database to use virtual DataFrames. \n",
    "\n",
    "**<font color=\"red\">STOP: Only run cell below if default database is NOT MLA_XXX database.</font>**"
   ]
  },
  {
   "cell_type": "code",
   "execution_count": null,
   "metadata": {},
   "outputs": [],
   "source": [
    "mlaDB = \"MLA_XXX\" # use your MLA database (MLA_BOPS, MLA_CNS, MLA_ENI, MLA_MNR)\n",
    "\n",
    "# this is the MLA database to which teradataml virtual tables will be written. \n",
    "configure.temp_table_database = defaultDB if defaultDB[:3]==\"MLA\" else mlaDB\n",
    "\n",
    "# this is the MLA database to which teradataml virtual views will be written.\n",
    "configure.temp_view_database = defaultDB if defaultDB[:3]==\"MLA\" else mlaDB "
   ]
  },
  {
   "cell_type": "markdown",
   "metadata": {},
   "source": [
    "##### Create Context\n",
    "See the PythonBasics-1-ConnectingToVantage Notebook for more information about contexts and garbage collection.  "
   ]
  },
  {
   "cell_type": "code",
   "execution_count": null,
   "metadata": {},
   "outputs": [],
   "source": [
    "td_context = create_context(host = host, \n",
    "                            username= user, \n",
    "                            password = password, \n",
    "                            logmech='LDAP', \n",
    "                            sslmode='ALLOW', \n",
    "                            database=defaultDB)"
   ]
  },
  {
   "cell_type": "markdown",
   "metadata": {},
   "source": [
    "#### Set Vantage Analytics Library (VAL) database location\n",
    "`from teradataml import configure`"
   ]
  },
  {
   "cell_type": "code",
   "execution_count": null,
   "metadata": {},
   "outputs": [],
   "source": [
    "configure.val_install_location = val_database"
   ]
  },
  {
   "cell_type": "markdown",
   "metadata": {},
   "source": [
    "### Binomial Tests\n",
    "\n",
    "In a binomial test, there are assumed to be N independent trials, each with two possible outcomes, each of equal probability. You can choose to perform a binomial test, in which the sign of the difference between a first and second column is analyzed, or a sign test, in which the sign of a single column is analyzed. In a binomial test, you may choose to use a probability different from the 0.5 default value, whereas in a sign test, the binomial probability is fixed at 0.5.\n",
    "    \n",
    "`valib.BinomialTest(data, first_column=None, binomial_prob=0.5, exact_matches='negative', fallback=False, group_columns=None, allow_duplicates=False, second_column=None, single_tail=False, stats_database=None, style='binomial', probability_threshold=0.05)`"
   ]
  },
  {
   "cell_type": "markdown",
   "metadata": {},
   "source": [
    "#### A binomial test without any grouping.\n",
    "**Hypotheses:**\n",
    "- H0: The distribution of the saving account balance is the same as the checking account\n",
    "- H1: The distribution of the saving account balance is NOT the same as the checking account"
   ]
  },
  {
   "cell_type": "code",
   "execution_count": null,
   "metadata": {},
   "outputs": [],
   "source": [
    "df = DataFrame(\"demo_customer_analysis\")"
   ]
  },
  {
   "cell_type": "code",
   "execution_count": null,
   "metadata": {},
   "outputs": [],
   "source": [
    "plot_df = df.select([\"avg_sv_bal\",\"avg_ck_bal\"]).to_pandas()"
   ]
  },
  {
   "cell_type": "code",
   "execution_count": null,
   "metadata": {},
   "outputs": [],
   "source": [
    "plt.hist(plot_df.avg_sv_bal, alpha=0.5, label='Saving Acc Bal')\n",
    "plt.hist(plot_df.avg_ck_bal, alpha=0.5, label='Checking Acc Bal')\n",
    "plt.legend(loc='upper right')\n",
    "plt.show() "
   ]
  },
  {
   "cell_type": "code",
   "execution_count": null,
   "metadata": {},
   "outputs": [],
   "source": [
    "obj = valib.BinomialTest(data= df,\n",
    "                         first_column=\"avg_sv_bal\",\n",
    "                         second_column=\"avg_ck_bal\",\n",
    "                         probability_threshold = 0.05,\n",
    "                         stats_database=val_database)\n",
    "bin_df = obj.result.to_pandas().reset_index()"
   ]
  },
  {
   "cell_type": "code",
   "execution_count": null,
   "metadata": {},
   "outputs": [],
   "source": [
    "print(\"N = %s\" % bin_df['N'].values[0])\n",
    "print(\"# Positive = %s\" % bin_df['NPos'].values[0])\n",
    "print(\"# of Negative = %s\" % bin_df['NNeg'].values[0])\n",
    "print(\"Binomial probability = %s\" % bin_df['BP'].values[0])\n",
    "\n",
    "if (bin_df['BinomialCallP_0.05'].values[0] == 'a'):\n",
    "    print('*** accept null hypothesis ***')\n",
    "else:\n",
    "    print('*** reject null hypothesis ***')"
   ]
  },
  {
   "cell_type": "markdown",
   "metadata": {},
   "source": [
    "### Chi-square Median test\n",
    "**Hypotheses:**\n",
    "\n",
    "- H0: The median income across different marital status are the same\n",
    "- H1: The median income across different marital status are NOT the same"
   ]
  },
  {
   "cell_type": "markdown",
   "metadata": {},
   "source": [
    "#### visualize the data"
   ]
  },
  {
   "cell_type": "code",
   "execution_count": null,
   "metadata": {},
   "outputs": [],
   "source": [
    "plot_df = df.select([\"marital_status\", \"income\"]).to_pandas().sort_values(\"income\")\n",
    "sns.boxplot(x=\"marital_status\", y=\"income\", data=plot_df)"
   ]
  },
  {
   "cell_type": "code",
   "execution_count": null,
   "metadata": {},
   "outputs": [],
   "source": [
    "obj = valib.ChiSquareTest(data= df,\n",
    "                          dependent_column=\"income\",\n",
    "                          columns=\"marital_status\",\n",
    "                          style=\"median\",\n",
    "                          stats_database=val_database)\n",
    "med_df = obj.result.to_pandas().reset_index()"
   ]
  },
  {
   "cell_type": "code",
   "execution_count": null,
   "metadata": {},
   "outputs": [],
   "source": [
    "print(\"** Median test Result ***\")\n",
    "print(\" - Degree of Freedom = %s\" %  med_df['DF'].values[0])\n",
    "print(\" - Chi Square = %s\" %  med_df['ChiSq'].values[0])\n",
    "print(\" - P-value = %s\" %  med_df['MedianPText'].values[0])\n",
    "\n",
    "if (med_df['MedianCallP_5E-2'].values[0] == 'a'):\n",
    "    print('*** accept null hypothesis ***')\n",
    "else:\n",
    "    print('*** reject null hypothesis ***')\n",
    "    "
   ]
  },
  {
   "cell_type": "markdown",
   "metadata": {},
   "source": [
    "### Remove context\n",
    "This best practice performs garbage collection for the volatile tables and views that were created during this session."
   ]
  },
  {
   "cell_type": "code",
   "execution_count": null,
   "metadata": {},
   "outputs": [],
   "source": [
    "# One must run remove_context() to close the connection and garbage collect internally generated objects.\n",
    "remove_context()"
   ]
  },
  {
   "cell_type": "markdown",
   "metadata": {},
   "source": [
    "<span style=\"font-size:16px;\">For online documentation on Teradata Vantage analytic functions, refer to the [Teradata Developer Portal](https://docs.teradata.com/) and search for phrases \"Python User Guide\" and \"Python Function Reference\".</span>"
   ]
  }
 ],
 "metadata": {
  "kernelspec": {
   "display_name": "Python3.8",
   "language": "python",
   "name": "python3"
  },
  "language_info": {
   "codemirror_mode": {
    "name": "ipython",
    "version": 3
   },
   "file_extension": ".py",
   "mimetype": "text/x-python",
   "name": "python",
   "nbconvert_exporter": "python",
   "pygments_lexer": "ipython3",
   "version": "3.8.13"
  }
 },
 "nbformat": 4,
 "nbformat_minor": 4
}

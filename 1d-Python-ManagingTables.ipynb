{
 "cells": [
  {
   "cell_type": "markdown",
   "id": "vital-reporter",
   "metadata": {},
   "source": [
    "<header style=\"padding:10px;background:#f9f9f9;border-top:3px solid #00b2b1\">\n",
    "    <h3> Machine Learning Analytics (MLA) with Teradata Vantage</h3>\n",
    "    <h2>Python Basics: Managing Database Tables</h2>\n",
    "    <p>This notebook covers how to manage permissions of database tables using Python teradataml. To create tables and import data, see \"PythonBasics-2-DataTransfer.ipynb\" to view the various ways to import data to create tables.</p>\n",
    "    <p> In this notebook, we will demonstrate the following:</p>\n",
    "    <ul><li>a simple example of creating a table</li>\n",
    "        <li>how to GRANT permissions to the table</li>\n",
    "        <li>how to list tables (or views)</li>\n",
    "        <li>how to delete the table (or view)</li>\n",
    "    </ul>\n",
    "    <p>For reference documentation, go to <a href=\"https://docs.teradata.com\">https://docs.teradata.com</a> and search for \"Teradata Package for Python Function  Reference\".</p>\n",
    "    <p>For more information on Machine Learning Analytics (MLA), go to the <a href=\"https://uhgazure.sharepoint.com/sites/UDW/SitePages/Machine-Learning-Analytics.aspx\" target=\"new\">Machine Learning Analytics (MLA) Sharepoint Site</a>.\n",
    "</header>"
   ]
  },
  {
   "cell_type": "markdown",
   "id": "bce0485f-b72e-47f3-9db4-e13a4be3aa85",
   "metadata": {},
   "source": [
    "#### Install teradataml package\n",
    "Note: You only need to run this once. The \"!\" allows you to run Linux script from the notebook cell. "
   ]
  },
  {
   "cell_type": "code",
   "execution_count": null,
   "id": "a57ef44e-73c8-4f14-b98e-16ed41a432c1",
   "metadata": {},
   "outputs": [],
   "source": [
    "!pip install teradataml --user"
   ]
  },
  {
   "cell_type": "markdown",
   "id": "knowing-sacramento",
   "metadata": {},
   "source": [
    "#### Import Packages"
   ]
  },
  {
   "cell_type": "code",
   "execution_count": 1,
   "id": "figured-updating",
   "metadata": {},
   "outputs": [],
   "source": [
    "# to hide authentication strings\n",
    "import getpass as gp\n",
    "\n",
    "# for managing connections\n",
    "from teradataml import create_context, get_context, remove_context\n",
    "\n",
    "# for setting configure options\n",
    "from teradataml import configure\n",
    "\n",
    "# for managing DataFrames\n",
    "from teradataml.dataframe.dataframe import DataFrame\n",
    "\n",
    "# for dropping or viewint tables and views\n",
    "from teradataml.dbutils.dbutils import db_drop_table, db_drop_view, db_list_tables\n",
    "\n",
    "# for defining SQL data types\n",
    "from teradatasqlalchemy.types import *\n",
    "\n",
    "import pandas as pd\n",
    "import numpy as np"
   ]
  },
  {
   "cell_type": "markdown",
   "id": "applied-blocking",
   "metadata": {},
   "source": [
    "### Connection Variables"
   ]
  },
  {
   "cell_type": "markdown",
   "id": "taken-class",
   "metadata": {},
   "source": [
    "##### Set User and Password Variables"
   ]
  },
  {
   "cell_type": "code",
   "execution_count": null,
   "id": "bacterial-newport",
   "metadata": {},
   "outputs": [],
   "source": [
    "user = gp.getpass(\"User\")"
   ]
  },
  {
   "cell_type": "code",
   "execution_count": null,
   "id": "surrounded-authorization",
   "metadata": {},
   "outputs": [],
   "source": [
    "password = gp.getpass(\"Password\")"
   ]
  },
  {
   "cell_type": "markdown",
   "id": "chronic-attribute",
   "metadata": {},
   "source": [
    "##### Set Connection Variables"
   ]
  },
  {
   "cell_type": "code",
   "execution_count": 2,
   "id": "global-saver",
   "metadata": {},
   "outputs": [],
   "source": [
    "host = 'UDWProd.uhc.com'\n",
    "logmech = 'LDAP'\n",
    "defaultDB = 'MLA_XXX'  # use your MLA database (MLA_BOPS, MLA_CNS, MLA_ENI, MLA_MNR)"
   ]
  },
  {
   "cell_type": "markdown",
   "id": "a789d9dc-ed41-4699-91f5-36cb60b94145",
   "metadata": {},
   "source": [
    "##### Virtual DataFrames are only allowed in the MLA Databases.\n",
    "\n",
    "If you are using a default database other than database=\"MLA_xxx\", you must set the configure options below to your MLA database. The MLA database is where your Virtual DataFrames will be written.\n",
    "\n",
    "<font color=\"red\">Note: you only need to run this cell below if your default database is NOT MLA_XXX database.</font>"
   ]
  },
  {
   "cell_type": "code",
   "execution_count": null,
   "id": "202ccb3e-15e1-4ee7-979c-9274f35dc29d",
   "metadata": {},
   "outputs": [],
   "source": [
    "mlaDB = \"MLA_XXX\" # use your MLA database (MLA_BOPS, MLA_CNS, MLA_ENI, MLA_MNR)\n",
    "\n",
    "# this is the MLA database to which teradataml virtual tables will be written. \n",
    "configure.temp_table_database = defaultDB if defaultDB[:3]==\"MLA\" else mlaDB\n",
    "\n",
    "# this is the MLA database to which teradataml virtual views will be written.\n",
    "configure.temp_view_database = defaultDB if defaultDB[:3]==\"MLA\" else mlaDB "
   ]
  },
  {
   "cell_type": "markdown",
   "id": "unusual-spank",
   "metadata": {},
   "source": [
    "##### Create Context\n",
    "See the PythonBasics-1-ConnectingToVantage Notebook for more information about contexts and garbage collection.  "
   ]
  },
  {
   "cell_type": "code",
   "execution_count": 4,
   "id": "nonprofit-rescue",
   "metadata": {},
   "outputs": [],
   "source": [
    "td_context = create_context(host = host, \n",
    "                            username= user, \n",
    "                            password = password, \n",
    "                            logmech='LDAP', \n",
    "                            sslmode='ALLOW', \n",
    "                            database=defaultDB)"
   ]
  },
  {
   "cell_type": "markdown",
   "id": "9cbf1c64-4926-49e5-9807-12fbb44ab517",
   "metadata": {},
   "source": [
    "### Load Packages"
   ]
  },
  {
   "cell_type": "markdown",
   "id": "d2c8cc62-1603-41fb-a543-12f3a3ec1272",
   "metadata": {},
   "source": [
    "##### Load CSV file locally into Pandas:  Surveys"
   ]
  },
  {
   "cell_type": "code",
   "execution_count": 5,
   "id": "powerful-excuse",
   "metadata": {},
   "outputs": [
    {
     "data": {
      "text/html": [
       "<div>\n",
       "<style scoped>\n",
       "    .dataframe tbody tr th:only-of-type {\n",
       "        vertical-align: middle;\n",
       "    }\n",
       "\n",
       "    .dataframe tbody tr th {\n",
       "        vertical-align: top;\n",
       "    }\n",
       "\n",
       "    .dataframe thead th {\n",
       "        text-align: right;\n",
       "    }\n",
       "</style>\n",
       "<table border=\"1\" class=\"dataframe\">\n",
       "  <thead>\n",
       "    <tr style=\"text-align: right;\">\n",
       "      <th></th>\n",
       "      <th>record_id</th>\n",
       "      <th>month</th>\n",
       "      <th>day</th>\n",
       "      <th>year</th>\n",
       "      <th>plot_id</th>\n",
       "      <th>species_id</th>\n",
       "      <th>sex</th>\n",
       "      <th>hindfoot_length</th>\n",
       "      <th>weight</th>\n",
       "    </tr>\n",
       "  </thead>\n",
       "  <tbody>\n",
       "    <tr>\n",
       "      <th>0</th>\n",
       "      <td>12552</td>\n",
       "      <td>4</td>\n",
       "      <td>6</td>\n",
       "      <td>1987</td>\n",
       "      <td>4</td>\n",
       "      <td>RM</td>\n",
       "      <td>F</td>\n",
       "      <td>16.0</td>\n",
       "      <td>9.0</td>\n",
       "    </tr>\n",
       "    <tr>\n",
       "      <th>1</th>\n",
       "      <td>26704</td>\n",
       "      <td>7</td>\n",
       "      <td>30</td>\n",
       "      <td>1997</td>\n",
       "      <td>8</td>\n",
       "      <td>PP</td>\n",
       "      <td>M</td>\n",
       "      <td>20.0</td>\n",
       "      <td>14.0</td>\n",
       "    </tr>\n",
       "    <tr>\n",
       "      <th>2</th>\n",
       "      <td>4434</td>\n",
       "      <td>5</td>\n",
       "      <td>4</td>\n",
       "      <td>1981</td>\n",
       "      <td>9</td>\n",
       "      <td>DM</td>\n",
       "      <td>F</td>\n",
       "      <td>36.0</td>\n",
       "      <td>44.0</td>\n",
       "    </tr>\n",
       "    <tr>\n",
       "      <th>3</th>\n",
       "      <td>24153</td>\n",
       "      <td>6</td>\n",
       "      <td>14</td>\n",
       "      <td>1996</td>\n",
       "      <td>4</td>\n",
       "      <td>DM</td>\n",
       "      <td>M</td>\n",
       "      <td>38.0</td>\n",
       "      <td>46.0</td>\n",
       "    </tr>\n",
       "    <tr>\n",
       "      <th>4</th>\n",
       "      <td>5</td>\n",
       "      <td>7</td>\n",
       "      <td>16</td>\n",
       "      <td>1977</td>\n",
       "      <td>3</td>\n",
       "      <td>DM</td>\n",
       "      <td>M</td>\n",
       "      <td>35.0</td>\n",
       "      <td>NaN</td>\n",
       "    </tr>\n",
       "  </tbody>\n",
       "</table>\n",
       "</div>"
      ],
      "text/plain": [
       "   record_id  month  day  year  plot_id species_id sex  hindfoot_length  \\\n",
       "0      12552      4    6  1987        4         RM   F             16.0   \n",
       "1      26704      7   30  1997        8         PP   M             20.0   \n",
       "2       4434      5    4  1981        9         DM   F             36.0   \n",
       "3      24153      6   14  1996        4         DM   M             38.0   \n",
       "4          5      7   16  1977        3         DM   M             35.0   \n",
       "\n",
       "   weight  \n",
       "0     9.0  \n",
       "1    14.0  \n",
       "2    44.0  \n",
       "3    46.0  \n",
       "4     NaN  "
      ]
     },
     "execution_count": 5,
     "metadata": {},
     "output_type": "execute_result"
    }
   ],
   "source": [
    "surveys = pd.read_csv('data/surveysdata.csv', \n",
    "                      names=[\"record_id\",\"month\",\"day\",\"year\",\"plot_id\",\"species_id\",\"sex\",\"hindfoot_length\",\"weight\"])\n",
    "surveys.head()"
   ]
  },
  {
   "cell_type": "code",
   "execution_count": 6,
   "id": "pregnant-congress",
   "metadata": {},
   "outputs": [],
   "source": [
    "DataFrame.to_sql(surveys, table_name=f'{user}_surveys_1', if_exists='replace')"
   ]
  },
  {
   "cell_type": "markdown",
   "id": "849f4e94-b46c-4cc4-88db-9596962c76f5",
   "metadata": {},
   "source": [
    "#### Check if table was created using the db_list_tables() function\n",
    "\n",
    "`db_list_tables(schema_name=None, object_name=None, object_type='all')`\n",
    "\n",
    "This function lists the Vantage object names for tables and/or views for the specified schema name. If none is included, it will use the default database."
   ]
  },
  {
   "cell_type": "code",
   "execution_count": 9,
   "id": "0b8b1a44-f98d-4954-9b48-b486aaabc1f5",
   "metadata": {},
   "outputs": [
    {
     "data": {
      "text/html": [
       "<div>\n",
       "<style scoped>\n",
       "    .dataframe tbody tr th:only-of-type {\n",
       "        vertical-align: middle;\n",
       "    }\n",
       "\n",
       "    .dataframe tbody tr th {\n",
       "        vertical-align: top;\n",
       "    }\n",
       "\n",
       "    .dataframe thead th {\n",
       "        text-align: right;\n",
       "    }\n",
       "</style>\n",
       "<table border=\"1\" class=\"dataframe\">\n",
       "  <thead>\n",
       "    <tr style=\"text-align: right;\">\n",
       "      <th></th>\n",
       "      <th>TableName</th>\n",
       "    </tr>\n",
       "  </thead>\n",
       "  <tbody>\n",
       "    <tr>\n",
       "      <th>0</th>\n",
       "      <td>tlugtu_surveys_1</td>\n",
       "    </tr>\n",
       "  </tbody>\n",
       "</table>\n",
       "</div>"
      ],
      "text/plain": [
       "          TableName\n",
       "0  tlugtu_surveys_1"
      ]
     },
     "execution_count": 9,
     "metadata": {},
     "output_type": "execute_result"
    }
   ],
   "source": [
    "import warnings\n",
    "warnings.filterwarnings(\"ignore\")\n",
    "db_list_tables(schema_name=defaultDB, object_name=\"%_surveys_%\")"
   ]
  },
  {
   "cell_type": "markdown",
   "id": "c4846346-3acd-4bd2-97c1-196ede5b92fb",
   "metadata": {},
   "source": [
    "#### Granting Permissions\n",
    "When you create a table, other users of the database don't necessarily have access to it. But if you are creating a table for a team project that others must be able to access, you can GRANT them permissions by username or role. To run these scripts, you can execute a SQL script from the connect() object of the create_context() object. "
   ]
  },
  {
   "cell_type": "code",
   "execution_count": 10,
   "id": "928652b3-3dde-46ec-89f7-4b6731932de8",
   "metadata": {},
   "outputs": [
    {
     "name": "stdout",
     "output_type": "stream",
     "text": [
      "Target Object:  tlugtu_surveys_1\n",
      "User Name:  jsumme17\n",
      "Role Name:  P_MLA_BOPS_USER_ROLE\n"
     ]
    }
   ],
   "source": [
    "# Set the table, user, and/or roles that will be used for this exercise\n",
    "\n",
    "targetObject = f'{user}_surveys_1' # this is the table that we just created\n",
    "userToGrant = 'jsumme17' # this is Jim Summersgill on the Teradata/BPMO Team\n",
    "roleToGrant = f'P_{defaultDB.upper()}_USER_ROLE' # this is the end user role of everyone that has access to this database \n",
    "\n",
    "print(f\"Target Object:  {targetObject}\")\n",
    "print(f\"User Name:  {userToGrant}\")\n",
    "print(f\"Role Name:  {roleToGrant}\")"
   ]
  },
  {
   "cell_type": "markdown",
   "id": "515e05bb-f8d4-4b01-a83b-1b6c3a15835e",
   "metadata": {},
   "source": [
    "##### Get the connect object"
   ]
  },
  {
   "cell_type": "code",
   "execution_count": 11,
   "id": "123691ff-e953-4f5c-8544-2e32513a9179",
   "metadata": {},
   "outputs": [],
   "source": [
    "conn = td_context.connect()"
   ]
  },
  {
   "cell_type": "markdown",
   "id": "990ee845-a96e-4d87-8429-087ef0ed2333",
   "metadata": {},
   "source": [
    "##### Apply permissions for a table or view to a USER with the .execute() method\n",
    "\n",
    "The format of granting is as follows:\n",
    "`GRANT SELECT ON [schema].[NewTableOrViewName] TO [username]`"
   ]
  },
  {
   "cell_type": "code",
   "execution_count": 12,
   "id": "17ff942f-96c6-41b0-8322-0fa063fe7ee0",
   "metadata": {},
   "outputs": [
    {
     "name": "stdout",
     "output_type": "stream",
     "text": [
      "GRANT SELECT ON MLA_BOPS.tlugtu_surveys_1 TO jsumme17\n"
     ]
    },
    {
     "data": {
      "text/plain": [
       "<sqlalchemy.engine.cursor.LegacyCursorResult at 0x7fbbec336c40>"
      ]
     },
     "execution_count": 12,
     "metadata": {},
     "output_type": "execute_result"
    }
   ],
   "source": [
    "# Example for granting select permissions to an individual user\n",
    "SQLstr = f\"GRANT SELECT ON {defaultDB}.{targetObject} TO {userToGrant}\";\n",
    "print(SQLstr)\n",
    "conn.execute(SQLstr)"
   ]
  },
  {
   "cell_type": "markdown",
   "id": "74534a40-9c6e-478e-9416-3919999eb327",
   "metadata": {},
   "source": [
    "##### Apply permissions for a table or view to a ROLE with the .execute() method\n",
    "\n",
    "The format of granting is as follows:\n",
    "`GRANT SELECT ON [schema].[NewTableOrViewName] TO [rolename]`"
   ]
  },
  {
   "cell_type": "code",
   "execution_count": 13,
   "id": "1155e06a-f28b-40f6-8c1f-57cc44735c63",
   "metadata": {},
   "outputs": [
    {
     "name": "stdout",
     "output_type": "stream",
     "text": [
      "GRANT SELECT ON MLA_BOPS.tlugtu_surveys_1 TO P_MLA_BOPS_USER_ROLE\n"
     ]
    },
    {
     "data": {
      "text/plain": [
       "<sqlalchemy.engine.cursor.LegacyCursorResult at 0x7fbbec32df40>"
      ]
     },
     "execution_count": 13,
     "metadata": {},
     "output_type": "execute_result"
    }
   ],
   "source": [
    "# Example for granting select permissions to a role\n",
    "SQLstr = f\"GRANT SELECT ON {defaultDB}.{targetObject} TO {roleToGrant}\";\n",
    "print(SQLstr)\n",
    "conn.execute(SQLstr)"
   ]
  },
  {
   "cell_type": "markdown",
   "id": "c053c2e2-9306-4aaa-86e8-580d332bea38",
   "metadata": {},
   "source": [
    "#### Dropping a table or view\n",
    "\n",
    "`db_drop_table(table_name, schema_name=None)`\n",
    "Drops the table from a given schema\n",
    "\n",
    "`db_drop_view(view_name, schema_name=None)`\n",
    "Drops the view from a given schema"
   ]
  },
  {
   "cell_type": "code",
   "execution_count": 14,
   "id": "10042d31-637a-4517-a5f9-2082eb441b36",
   "metadata": {},
   "outputs": [],
   "source": [
    "try:\n",
    "    db_drop_table(targetObject, schema_name=defaultDB)\n",
    "except:\n",
    "    pass"
   ]
  },
  {
   "cell_type": "code",
   "execution_count": 15,
   "id": "small-mineral",
   "metadata": {},
   "outputs": [
    {
     "data": {
      "text/plain": [
       "True"
      ]
     },
     "execution_count": 15,
     "metadata": {},
     "output_type": "execute_result"
    }
   ],
   "source": [
    "remove_context()"
   ]
  },
  {
   "cell_type": "markdown",
   "id": "0c66e949-e8d5-47a7-b289-f957b0ee7379",
   "metadata": {},
   "source": [
    "<span style=\"font-size:16px;\">For online documentation on Teradata Vantage analytic functions, refer to the [Teradata Developer Portal](https://docs.teradata.com/) and search for phrases \"Python User Guide\" and \"Python Function Reference\".</span>"
   ]
  }
 ],
 "metadata": {
  "kernelspec": {
   "display_name": "Python3.10",
   "language": "python",
   "name": "python310"
  },
  "language_info": {
   "codemirror_mode": {
    "name": "ipython",
    "version": 3
   },
   "file_extension": ".py",
   "mimetype": "text/x-python",
   "name": "python",
   "nbconvert_exporter": "python",
   "pygments_lexer": "ipython3",
   "version": "3.10.13"
  }
 },
 "nbformat": 4,
 "nbformat_minor": 5
}

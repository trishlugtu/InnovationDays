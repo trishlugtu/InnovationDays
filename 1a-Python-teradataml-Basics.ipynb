{
 "cells": [
  {
   "cell_type": "markdown",
   "metadata": {},
   "source": [
    "<header style=\"background:#00233C;padding-left:20pt;padding-right:20pt;padding-top:20pt;padding-bottom:10pt;\"><img id=\"Teradata-logo\" src=\"https://storage.googleapis.com/clearscape_analytics_demo_data/DEMO_Logo/teradata.svg\" alt=\"Teradata\" style=\"width: 100px; height: auto; margin-top: 20pt;\" align=\"right\">\n",
    "<p style=\"font-size:20px; color:#ffffff\">UDW INNOVATION DAYS</p>\n",
    "<p style=\"font-size:24px; color:#ffffff\">Teradata Package for Python: Introduction to teradataml </p>\n",
    "<p style=\"font-size:16px; color:#ffffff\">Getting Connected.</p>\n",
    "</header>"
   ]
  },
  {
   "cell_type": "markdown",
   "metadata": {},
   "source": [
    "#### Install teradataml package\n",
    "Note: You only need to run this once. The \"!\" allows you to run Linux script from the notebook cell. Restart your Python kernel when complete."
   ]
  },
  {
   "cell_type": "code",
   "execution_count": null,
   "metadata": {
    "scrolled": true,
    "tags": []
   },
   "outputs": [],
   "source": [
    "#!pip install teradataml"
   ]
  },
  {
   "cell_type": "markdown",
   "metadata": {},
   "source": [
    "#### Connection Variables\n",
    "The package getpass is used to hide authentication strings for the purposes of this demo. You can use your preferred authentication script."
   ]
  },
  {
   "cell_type": "code",
   "execution_count": 2,
   "metadata": {
    "tags": []
   },
   "outputs": [],
   "source": [
    "# to hide authentication strings\n",
    "import getpass as gp"
   ]
  },
  {
   "cell_type": "markdown",
   "metadata": {},
   "source": [
    "##### Set User and Password Variables"
   ]
  },
  {
   "cell_type": "code",
   "execution_count": 3,
   "metadata": {
    "tags": []
   },
   "outputs": [
    {
     "name": "stdin",
     "output_type": "stream",
     "text": [
      "User:  ········\n"
     ]
    }
   ],
   "source": [
    "user = gp.getpass(\"User: \")"
   ]
  },
  {
   "cell_type": "code",
   "execution_count": 4,
   "metadata": {
    "tags": []
   },
   "outputs": [
    {
     "name": "stdin",
     "output_type": "stream",
     "text": [
      "Password:  ········\n"
     ]
    }
   ],
   "source": [
    "password = gp.getpass(\"Password: \")"
   ]
  },
  {
   "cell_type": "markdown",
   "metadata": {},
   "source": [
    "##### Set Connection Variables\n",
    "A best practice is to use variables for your database names or schemas. This way, when you need to move code to production, you can simply change the database value in the variable rather than adjusting all your code."
   ]
  },
  {
   "cell_type": "code",
   "execution_count": 5,
   "metadata": {
    "tags": []
   },
   "outputs": [],
   "source": [
    "host = 'UDWTest'\n",
    "logmech = 'LDAP'\n",
    "defaultDB = 'INOUDWTRAINING2024' "
   ]
  },
  {
   "cell_type": "markdown",
   "metadata": {},
   "source": [
    "### teradataml Context Management and Garbage Collection\n",
    "teradataml offers various DataFrame API's and analytic functions that enables users to process the data and run analytics on the data. While doing so, teradataml internally creates various database objects (Views and Tables) on Vantage, whenever and wherever necessary. These views and tables as referred to as *virtual DataFrames*.  These virtual DataFrames are temporarily created and have a session-wide scope. At the end of the session, these virtual DataFrames will be removed by teradataml. teradataml GarbageCollector takes care of cleaning up these internally created views and tables.\n",
    "\n",
    "Functions of Context Management include the following: \n",
    "\n",
    "- `create_context()`:  used to connect to Vantage and initiate a session\n",
    "- `remove_context()`:  used to perform garbage collection and closes the session and connection.\n",
    "- `get_context()`:  returns the Vantage engine associated with the current context.\n",
    "- `set_context()`:  specifies a Vantage sqlalchemy engine as current context.\n",
    "- `get_connection()`:  gets the connection object used in the current context.\n",
    "\n",
    "#### Import context, configure, and DataFrame libraries from the teradataml package."
   ]
  },
  {
   "cell_type": "code",
   "execution_count": 6,
   "metadata": {
    "tags": []
   },
   "outputs": [],
   "source": [
    "# for managing context\n",
    "from teradataml import create_context, remove_context, execute_sql\n",
    "\n",
    "# for setting configure options\n",
    "from teradataml import configure\n",
    "\n",
    "# for teradataml DataFrame object\n",
    "from teradataml import DataFrame, in_schema"
   ]
  },
  {
   "cell_type": "markdown",
   "metadata": {},
   "source": [
    "#### Establish your Context\n",
    "Use the create_context() function to create a connection to Vantage using the teradatasql and teradatasqlalchemy DBAPI and dialect combination.\n",
    "- You can pass all required arguments (host, username, password) to establish a connection to Vantage, or pass a sqlalchemy engine to the tdsqlengine parameter to override the default DBAPI and dialect combination. You can create connection to Vantage enabled with various security mechanisms.\n",
    "- The optional logdata argument specifies parameters to the LOGMECH command beyond those needed by the logon mechanism, such as user ID, password and tokens (in case of JWT) to successfully authenticate the user.\n",
    "- The optional database argument specifies the initial database to use after log on, instead of your default database.\n",
    "\n",
    "To connect to an MLA Database, use the following parameters:"
   ]
  },
  {
   "cell_type": "code",
   "execution_count": 8,
   "metadata": {
    "tags": []
   },
   "outputs": [
    {
     "name": "stderr",
     "output_type": "stream",
     "text": [
      "/home/tlugtu/conda/lib/python3.10/site-packages/teradataml/context/context.py:484: TeradataMlRuntimeWarning: Warning: Password is URL encoded.\n",
      "  warnings.warn(\"Warning: Password is URL encoded.\", category=TeradataMlRuntimeWarning)\n"
     ]
    }
   ],
   "source": [
    "td_context = create_context(host = host, \n",
    "                            username= user, \n",
    "                            password = password, \n",
    "                            logmech='LDAP', \n",
    "                            database=defaultDB)"
   ]
  },
  {
   "cell_type": "markdown",
   "metadata": {},
   "source": [
    "#### Create Virtual DataFrame from \"demo_heartdisease\" table"
   ]
  },
  {
   "cell_type": "code",
   "execution_count": 9,
   "metadata": {
    "tags": []
   },
   "outputs": [],
   "source": [
    "df = DataFrame(\"heartdisease\") "
   ]
  },
  {
   "cell_type": "markdown",
   "metadata": {},
   "source": [
    "#### View top 10 rows"
   ]
  },
  {
   "cell_type": "code",
   "execution_count": 10,
   "metadata": {
    "tags": []
   },
   "outputs": [
    {
     "data": {
      "text/html": [
       "<style type=\"text/css\">\n",
       "\ttable {border:ridge 5px;}\n",
       "\ttable td {border:inset 1px;}\n",
       "\ttable tr#HeaderRow {background-color:grey; color:white;}</style>\n",
       "<html><table>\n",
       "\t<tr id=\"HeaderRow\">\n",
       "\t\t<th>ID</th>\n",
       "\t\t<th>HeartDisease</th>\n",
       "\t\t<th>BMI</th>\n",
       "\t\t<th>Smoking</th>\n",
       "\t\t<th>AlcoholDrinking</th>\n",
       "\t\t<th>Stroke</th>\n",
       "\t\t<th>PhysicalHealth</th>\n",
       "\t\t<th>MentalHealth</th>\n",
       "\t\t<th>DiffWalking</th>\n",
       "\t\t<th>Sex</th>\n",
       "\t\t<th>AgeCategory</th>\n",
       "\t\t<th>Race</th>\n",
       "\t\t<th>Diabetic</th>\n",
       "\t\t<th>PhysicalActivity</th>\n",
       "\t\t<th>GenHealth</th>\n",
       "\t\t<th>SleepTime</th>\n",
       "\t\t<th>Asthma</th>\n",
       "\t\t<th>KidneyDisease</th>\n",
       "\t\t<th>SkinCancer</th>\n",
       "\t</tr>\n",
       "\t<tr>\n",
       "\t\t<td>2</td>\n",
       "\t\t<td>No</td>\n",
       "\t\t<td>26.580</td>\n",
       "\t\t<td>Yes</td>\n",
       "\t\t<td>No</td>\n",
       "\t\t<td>No</td>\n",
       "\t\t<td>20.000</td>\n",
       "\t\t<td>30.000</td>\n",
       "\t\t<td>No</td>\n",
       "\t\t<td>Male</td>\n",
       "\t\t<td>65-69</td>\n",
       "\t\t<td>White</td>\n",
       "\t\t<td>Yes</td>\n",
       "\t\t<td>Yes</td>\n",
       "\t\t<td>Fair</td>\n",
       "\t\t<td>8.000</td>\n",
       "\t\t<td>Yes</td>\n",
       "\t\t<td>No</td>\n",
       "\t\t<td>No</td>\n",
       "\t</tr>\n",
       "\t<tr>\n",
       "\t\t<td>4</td>\n",
       "\t\t<td>No</td>\n",
       "\t\t<td>23.710</td>\n",
       "\t\t<td>No</td>\n",
       "\t\t<td>No</td>\n",
       "\t\t<td>No</td>\n",
       "\t\t<td>28.000</td>\n",
       "\t\t<td>0.000</td>\n",
       "\t\t<td>Yes</td>\n",
       "\t\t<td>Female</td>\n",
       "\t\t<td>40-44</td>\n",
       "\t\t<td>White</td>\n",
       "\t\t<td>No</td>\n",
       "\t\t<td>Yes</td>\n",
       "\t\t<td>Very good</td>\n",
       "\t\t<td>8.000</td>\n",
       "\t\t<td>No</td>\n",
       "\t\t<td>No</td>\n",
       "\t\t<td>No</td>\n",
       "\t</tr>\n",
       "\t<tr>\n",
       "\t\t<td>5</td>\n",
       "\t\t<td>Yes</td>\n",
       "\t\t<td>28.870</td>\n",
       "\t\t<td>Yes</td>\n",
       "\t\t<td>No</td>\n",
       "\t\t<td>No</td>\n",
       "\t\t<td>6.000</td>\n",
       "\t\t<td>0.000</td>\n",
       "\t\t<td>Yes</td>\n",
       "\t\t<td>Female</td>\n",
       "\t\t<td>75-79</td>\n",
       "\t\t<td>Black</td>\n",
       "\t\t<td>No</td>\n",
       "\t\t<td>No</td>\n",
       "\t\t<td>Fair</td>\n",
       "\t\t<td>12.000</td>\n",
       "\t\t<td>No</td>\n",
       "\t\t<td>No</td>\n",
       "\t\t<td>No</td>\n",
       "\t</tr>\n",
       "\t<tr>\n",
       "\t\t<td>6</td>\n",
       "\t\t<td>No</td>\n",
       "\t\t<td>21.630</td>\n",
       "\t\t<td>No</td>\n",
       "\t\t<td>No</td>\n",
       "\t\t<td>No</td>\n",
       "\t\t<td>15.000</td>\n",
       "\t\t<td>0.000</td>\n",
       "\t\t<td>No</td>\n",
       "\t\t<td>Female</td>\n",
       "\t\t<td>70-74</td>\n",
       "\t\t<td>White</td>\n",
       "\t\t<td>No</td>\n",
       "\t\t<td>Yes</td>\n",
       "\t\t<td>Fair</td>\n",
       "\t\t<td>4.000</td>\n",
       "\t\t<td>Yes</td>\n",
       "\t\t<td>No</td>\n",
       "\t\t<td>Yes</td>\n",
       "\t</tr>\n",
       "\t<tr>\n",
       "\t\t<td>8</td>\n",
       "\t\t<td>No</td>\n",
       "\t\t<td>26.450</td>\n",
       "\t\t<td>No</td>\n",
       "\t\t<td>No</td>\n",
       "\t\t<td>No</td>\n",
       "\t\t<td>0.000</td>\n",
       "\t\t<td>0.000</td>\n",
       "\t\t<td>No</td>\n",
       "\t\t<td>Female</td>\n",
       "\t\t<td>80 or olde</td>\n",
       "\t\t<td>White</td>\n",
       "\t\t<td>No, borderline diabetes</td>\n",
       "\t\t<td>No</td>\n",
       "\t\t<td>Fair</td>\n",
       "\t\t<td>5.000</td>\n",
       "\t\t<td>No</td>\n",
       "\t\t<td>Yes</td>\n",
       "\t\t<td>No</td>\n",
       "\t</tr>\n",
       "\t<tr>\n",
       "\t\t<td>9</td>\n",
       "\t\t<td>No</td>\n",
       "\t\t<td>40.690</td>\n",
       "\t\t<td>No</td>\n",
       "\t\t<td>No</td>\n",
       "\t\t<td>No</td>\n",
       "\t\t<td>0.000</td>\n",
       "\t\t<td>0.000</td>\n",
       "\t\t<td>Yes</td>\n",
       "\t\t<td>Male</td>\n",
       "\t\t<td>65-69</td>\n",
       "\t\t<td>White</td>\n",
       "\t\t<td>No</td>\n",
       "\t\t<td>Yes</td>\n",
       "\t\t<td>Good</td>\n",
       "\t\t<td>10.000</td>\n",
       "\t\t<td>No</td>\n",
       "\t\t<td>No</td>\n",
       "\t\t<td>No</td>\n",
       "\t</tr>\n",
       "\t<tr>\n",
       "\t\t<td>7</td>\n",
       "\t\t<td>No</td>\n",
       "\t\t<td>31.640</td>\n",
       "\t\t<td>Yes</td>\n",
       "\t\t<td>No</td>\n",
       "\t\t<td>No</td>\n",
       "\t\t<td>5.000</td>\n",
       "\t\t<td>0.000</td>\n",
       "\t\t<td>Yes</td>\n",
       "\t\t<td>Female</td>\n",
       "\t\t<td>80 or olde</td>\n",
       "\t\t<td>White</td>\n",
       "\t\t<td>Yes</td>\n",
       "\t\t<td>No</td>\n",
       "\t\t<td>Good</td>\n",
       "\t\t<td>9.000</td>\n",
       "\t\t<td>Yes</td>\n",
       "\t\t<td>No</td>\n",
       "\t\t<td>No</td>\n",
       "\t</tr>\n",
       "\t<tr>\n",
       "\t\t<td>3</td>\n",
       "\t\t<td>No</td>\n",
       "\t\t<td>24.210</td>\n",
       "\t\t<td>No</td>\n",
       "\t\t<td>No</td>\n",
       "\t\t<td>No</td>\n",
       "\t\t<td>0.000</td>\n",
       "\t\t<td>0.000</td>\n",
       "\t\t<td>No</td>\n",
       "\t\t<td>Female</td>\n",
       "\t\t<td>75-79</td>\n",
       "\t\t<td>White</td>\n",
       "\t\t<td>No</td>\n",
       "\t\t<td>No</td>\n",
       "\t\t<td>Good</td>\n",
       "\t\t<td>6.000</td>\n",
       "\t\t<td>No</td>\n",
       "\t\t<td>No</td>\n",
       "\t\t<td>Yes</td>\n",
       "\t</tr>\n",
       "\t<tr>\n",
       "\t\t<td>1</td>\n",
       "\t\t<td>No</td>\n",
       "\t\t<td>20.340</td>\n",
       "\t\t<td>No</td>\n",
       "\t\t<td>No</td>\n",
       "\t\t<td>Yes</td>\n",
       "\t\t<td>0.000</td>\n",
       "\t\t<td>0.000</td>\n",
       "\t\t<td>No</td>\n",
       "\t\t<td>Female</td>\n",
       "\t\t<td>80 or olde</td>\n",
       "\t\t<td>White</td>\n",
       "\t\t<td>No</td>\n",
       "\t\t<td>Yes</td>\n",
       "\t\t<td>Very good</td>\n",
       "\t\t<td>7.000</td>\n",
       "\t\t<td>No</td>\n",
       "\t\t<td>No</td>\n",
       "\t\t<td>No</td>\n",
       "\t</tr>\n",
       "\t<tr>\n",
       "\t\t<td>0</td>\n",
       "\t\t<td>No</td>\n",
       "\t\t<td>16.600</td>\n",
       "\t\t<td>Yes</td>\n",
       "\t\t<td>No</td>\n",
       "\t\t<td>No</td>\n",
       "\t\t<td>3.000</td>\n",
       "\t\t<td>30.000</td>\n",
       "\t\t<td>No</td>\n",
       "\t\t<td>Female</td>\n",
       "\t\t<td>55-59</td>\n",
       "\t\t<td>White</td>\n",
       "\t\t<td>Yes</td>\n",
       "\t\t<td>Yes</td>\n",
       "\t\t<td>Very good</td>\n",
       "\t\t<td>5.000</td>\n",
       "\t\t<td>Yes</td>\n",
       "\t\t<td>No</td>\n",
       "\t\t<td>Yes</td>\n",
       "\t</tr>\n",
       "</table></html>"
      ],
      "text/plain": [
       "   HeartDisease    BMI Smoking AlcoholDrinking Stroke  PhysicalHealth  MentalHealth DiffWalking     Sex AgeCategory   Race                 Diabetic PhysicalActivity  GenHealth  SleepTime Asthma KidneyDisease SkinCancer\n",
       "ID                                                                                                                                                                                                                        \n",
       "2            No  26.58     Yes              No     No            20.0          30.0          No    Male       65-69  White                      Yes              Yes       Fair        8.0    Yes            No         No\n",
       "4            No  23.71      No              No     No            28.0           0.0         Yes  Female       40-44  White                       No              Yes  Very good        8.0     No            No         No\n",
       "5           Yes  28.87     Yes              No     No             6.0           0.0         Yes  Female       75-79  Black                       No               No       Fair       12.0     No            No         No\n",
       "6            No  21.63      No              No     No            15.0           0.0          No  Female       70-74  White                       No              Yes       Fair        4.0    Yes            No        Yes\n",
       "8            No  26.45      No              No     No             0.0           0.0          No  Female  80 or olde  White  No, borderline diabetes               No       Fair        5.0     No           Yes         No\n",
       "9            No  40.69      No              No     No             0.0           0.0         Yes    Male       65-69  White                       No              Yes       Good       10.0     No            No         No\n",
       "7            No  31.64     Yes              No     No             5.0           0.0         Yes  Female  80 or olde  White                      Yes               No       Good        9.0    Yes            No         No\n",
       "3            No  24.21      No              No     No             0.0           0.0          No  Female       75-79  White                       No               No       Good        6.0     No            No        Yes\n",
       "1            No  20.34      No              No    Yes             0.0           0.0          No  Female  80 or olde  White                       No              Yes  Very good        7.0     No            No         No\n",
       "0            No  16.60     Yes              No     No             3.0          30.0          No  Female       55-59  White                      Yes              Yes  Very good        5.0    Yes            No        Yes"
      ]
     },
     "execution_count": 10,
     "metadata": {},
     "output_type": "execute_result"
    }
   ],
   "source": [
    "df.head()"
   ]
  },
  {
   "cell_type": "markdown",
   "metadata": {},
   "source": [
    "#### Executing a non-DataFrame SQL Query"
   ]
  },
  {
   "cell_type": "code",
   "execution_count": 29,
   "metadata": {
    "tags": []
   },
   "outputs": [
    {
     "data": {
      "text/plain": [
       "['CREATE MULTISET TABLE INOUDWTRAINING2024.heartdisease ,FALLBACK ,\\r     NO BEFORE JOURNAL,\\r     NO AFTER JOURNAL,\\r     CHECKSUM = DEFAULT,\\r     DEFAULT MERGEBLOCKRATIO,\\r     MAP = TD_MAP1\\r     (\\r      ID BIGINT,\\r      HeartDisease VARCHAR(5) CHARACTER SET LATIN NOT CASESPECIFIC,\\r      BMI DECIMAL(10,4),\\r      Smoking VARCHAR(5) CHARACTER SET LATIN NOT CASESPECIFIC,\\r      AlcoholDrinking VARCHAR(5) CHARACTER SET LATIN NOT CASESPECIFIC,\\r      Stroke VARCHAR(5) CHARACTER SET LATIN NOT CASESPECIFIC,\\r      PhysicalHealth DECIMAL(10,4),\\r      MentalHealth DECIMAL(10,4),\\r      DiffWalking VARCHAR(5) CHARACTER SET LATIN NOT CASESPECIFIC,\\r      Sex VARCHAR(10) CHARACTER SET LATIN NOT CASESPECIFIC,\\r      AgeCategory VARCHAR(10) CHARACTER SET LATIN NOT CASESPECIFIC,\\r      Race VARCHAR(30) CHARACTER SET LATIN NOT CASESPECIFIC,\\r      Diabetic VARCHAR(30) CHARACTER SET LATIN NOT CASESPECIFIC,\\r      PhysicalActivity VARCHAR(5) CHARACTER SET LATIN NOT CASESPECIFIC,\\r      GenHealth VARCHAR(30) CHARACTER SET LATIN NOT CASESPECIFIC,\\r      SleepTime DECIMAL(10,4),\\r      Asthma VARCHAR(5) CHARACTER SET LATIN NOT CASESPECIFIC,\\r      KidneyDisease VARCHAR(5) CHARACTER SET LATIN NOT CASESPECIFIC,\\r      SkinCancer VARCHAR(5) CHARACTER SET LATIN NOT CASESPECIFIC)\\rPRIMARY INDEX ( ID );']"
      ]
     },
     "execution_count": 29,
     "metadata": {},
     "output_type": "execute_result"
    }
   ],
   "source": [
    "sqlStr = \"SHOW TABLE heartdisease\"\n",
    "results = execute_sql(sqlStr)\n",
    "obj = results.fetchall()[0]\n",
    "obj"
   ]
  },
  {
   "cell_type": "code",
   "execution_count": 30,
   "metadata": {
    "tags": []
   },
   "outputs": [],
   "source": [
    "from teradataml import db_list_tables"
   ]
  },
  {
   "cell_type": "code",
   "execution_count": null,
   "metadata": {
    "tags": []
   },
   "outputs": [],
   "source": [
    "db_list_tables('INOUDWTRAINING2024')"
   ]
  },
  {
   "cell_type": "markdown",
   "metadata": {},
   "source": [
    "### Remove Context as a Best Practice\n",
    "The `remove_context` function removes the current context associated with the Vantage connection.\n",
    "\n",
    "`remove_context()` not only closes the connection but also garbage collects the intermediate views and tables created by teradataml.\n",
    "\n",
    "Teradata recommends calling `remove_context()` to end a session, so that intermediate views and tables created by teradataml are garbage collected.\n",
    "\n",
    "This closes the corresponding connection object."
   ]
  },
  {
   "cell_type": "code",
   "execution_count": 32,
   "metadata": {
    "tags": []
   },
   "outputs": [
    {
     "data": {
      "text/plain": [
       "True"
      ]
     },
     "execution_count": 32,
     "metadata": {},
     "output_type": "execute_result"
    }
   ],
   "source": [
    "remove_context()"
   ]
  },
  {
   "cell_type": "markdown",
   "metadata": {},
   "source": [
    "<span style=\"font-size:16px;\">For online documentation on Teradata Vantage analytic functions, refer to the [Teradata Developer Portal](https://docs.teradata.com/) and search for phrases \"Python User Guide\" and \"Python Function Reference\".</span>"
   ]
  }
 ],
 "metadata": {
  "kernelspec": {
   "display_name": "Python3.10",
   "language": "python",
   "name": "python310"
  },
  "language_info": {
   "codemirror_mode": {
    "name": "ipython",
    "version": 3
   },
   "file_extension": ".py",
   "mimetype": "text/x-python",
   "name": "python",
   "nbconvert_exporter": "python",
   "pygments_lexer": "ipython3",
   "version": "3.10.13"
  },
  "widgets": {
   "application/vnd.jupyter.widget-state+json": {
    "state": {},
    "version_major": 2,
    "version_minor": 0
   }
  }
 },
 "nbformat": 4,
 "nbformat_minor": 4
}

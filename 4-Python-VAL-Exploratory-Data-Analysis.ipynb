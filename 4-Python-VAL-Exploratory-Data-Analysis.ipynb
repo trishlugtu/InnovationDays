{
 "cells": [
  {
   "cell_type": "markdown",
   "id": "heavy-subscription",
   "metadata": {},
   "source": [
    "<header style=\"background:#00233C;padding-left:20pt;padding-right:20pt;padding-top:20pt;padding-bottom:10pt;\"><img id=\"Teradata-logo\" src=\"https://storage.googleapis.com/clearscape_analytics_demo_data/DEMO_Logo/teradata.svg\" alt=\"Teradata\" style=\"width: 100px; height: auto; margin-top: 20pt;\" align=\"right\">\n",
    "<p style=\"font-size:20px; color:#ffffff\">UDW INNOVATION DAYS</p>\n",
    "<p style=\"font-size:24px; color:#ffffff\">KMeans</p>\n",
    "</header>"
   ]
  },
  {
   "cell_type": "markdown",
   "id": "random-season",
   "metadata": {},
   "source": [
    "### Use Case - Customers/Accounts/Transactions\n",
    "\n",
    "Fictitious dataset of related customers (10K-ish rows), accounts (100K-ish rows), and Transactions (1M-ish rows). \n",
    "![Image](img/DemoData.png)"
   ]
  },
  {
   "cell_type": "markdown",
   "id": "tough-principal",
   "metadata": {},
   "source": [
    "#### Load Packages\n",
    "\n",
    "##### Install packages as needed\n",
    "Note: You only need to run these once per package. The \"!\" allows you to run Linux script from the notebook cell. "
   ]
  },
  {
   "cell_type": "code",
   "execution_count": null,
   "id": "f66d2ea5-7686-47c0-a7b5-08065c6d31c5",
   "metadata": {},
   "outputs": [],
   "source": [
    "!pip install teradataml --user"
   ]
  },
  {
   "cell_type": "code",
   "execution_count": null,
   "id": "ef43d500-7eb6-4f93-8331-96fa800bfa0a",
   "metadata": {
    "scrolled": true,
    "tags": []
   },
   "outputs": [],
   "source": [
    "!pip install matplotlib --user"
   ]
  },
  {
   "cell_type": "code",
   "execution_count": null,
   "id": "f5d688ca-c2d3-4bc1-93f8-69915883ca54",
   "metadata": {},
   "outputs": [],
   "source": [
    "!pip install seaborn --user"
   ]
  },
  {
   "cell_type": "markdown",
   "id": "44c687f8-21a9-48b2-b046-16d16c25eace",
   "metadata": {},
   "source": [
    "#### Import teradataml package libraries"
   ]
  },
  {
   "cell_type": "code",
   "execution_count": 1,
   "id": "767f6bb3-cf13-4afb-82fa-7ef7ceaa716b",
   "metadata": {},
   "outputs": [],
   "source": [
    "# managing connection context\n",
    "from teradataml import create_context, get_context, remove_context\n",
    "\n",
    "# for setting configure options\n",
    "from teradataml import configure\n",
    "\n",
    "# for teradataml DataFrame object\n",
    "from teradataml.dataframe.dataframe import DataFrame, in_schema\n",
    "\n",
    "# for copying pandas dataframe to SQL table\n",
    "from teradataml.dataframe.copy_to import copy_to_sql\n",
    "\n",
    "# dataframe manipulation methods and sql data types\n",
    "from teradatasqlalchemy.types import *\n",
    "from sqlalchemy.sql.expression import select, and_, or_, not_, extract, text, join, case as case_when\n",
    "from sqlalchemy import func, sql, distinct\n",
    "\n",
    "# teradataml utils\n",
    "from teradataml import configure, db_drop_table, UtilFuncs\n",
    "\n",
    "# Vantage Analytics Library (valib)\n",
    "from teradataml.analytics.valib import *\n",
    "from teradataml.analytics import Transformations as tf "
   ]
  },
  {
   "cell_type": "markdown",
   "id": "51de11c5-d7ae-45c3-a33d-2697f9277c93",
   "metadata": {},
   "source": [
    "#### Import other helpful open source packages"
   ]
  },
  {
   "cell_type": "code",
   "execution_count": 2,
   "id": "mounted-horizontal",
   "metadata": {},
   "outputs": [],
   "source": [
    "# Open source packages\n",
    "\n",
    "# hide passwords\n",
    "import getpass as gp\n",
    "\n",
    "# visualization libraries\n",
    "import matplotlib.pyplot as plt\n",
    "import seaborn as sns\n",
    "\n",
    "# system\n",
    "from os.path import exists\n",
    "import yaml, sys\n",
    "from datetime import datetime as dt, timedelta\n",
    "import math\n",
    "\n",
    "# dataframes and matrices\n",
    "import pandas as pd\n",
    "import numpy as np\n",
    "\n",
    "%matplotlib inline"
   ]
  },
  {
   "cell_type": "markdown",
   "id": "thick-hands",
   "metadata": {},
   "source": [
    "##### Configure Display Options"
   ]
  },
  {
   "cell_type": "code",
   "execution_count": 3,
   "id": "legitimate-tourist",
   "metadata": {},
   "outputs": [],
   "source": [
    "plt.rcdefaults()\n",
    "sns.set_style(\"whitegrid\")\n",
    "plt.rcParams['figure.figsize'] = (5, 3)\n",
    "plt.rcParams['font.size'] = 8"
   ]
  },
  {
   "cell_type": "markdown",
   "id": "01d34342-fe42-479e-a68e-ccba9e692963",
   "metadata": {},
   "source": [
    "### Connection Variables"
   ]
  },
  {
   "cell_type": "markdown",
   "id": "388e22a2-a3ed-4c24-a40d-2827ac421a64",
   "metadata": {},
   "source": [
    "##### Set User and Password Variables"
   ]
  },
  {
   "cell_type": "code",
   "execution_count": null,
   "id": "bacterial-newport",
   "metadata": {},
   "outputs": [],
   "source": [
    "user = gp.getpass(\"User\")"
   ]
  },
  {
   "cell_type": "code",
   "execution_count": null,
   "id": "surrounded-authorization",
   "metadata": {},
   "outputs": [],
   "source": [
    "password = gp.getpass(\"Password\")"
   ]
  },
  {
   "cell_type": "markdown",
   "id": "25829740-b434-492e-abba-87e9cf544a40",
   "metadata": {},
   "source": [
    "##### Set Connection Variables"
   ]
  },
  {
   "cell_type": "code",
   "execution_count": 4,
   "id": "global-saver",
   "metadata": {},
   "outputs": [],
   "source": [
    "host = 'UDWTest'\n",
    "logmech = 'LDAP'\n",
    "defaultDB = 'INOUDWTRAINING2024' "
   ]
  },
  {
   "cell_type": "markdown",
   "id": "88d50eca-66b9-40d9-b2db-0723f13e2853",
   "metadata": {},
   "source": [
    "##### Virtual DataFrames are only allowed in the MLA Databases.\n",
    "\n",
    "If you are using a default database other than database=\"MLA_xxx\", you must set the configure options below to your MLA database to use virtual DataFrames. \n",
    "\n",
    "**<font color=\"red\">STOP: Only run cell below if default database is NOT MLA_XXX database.</font>**"
   ]
  },
  {
   "cell_type": "code",
   "execution_count": null,
   "id": "accd6684-2c37-43b2-8aee-8cfa3f2720b9",
   "metadata": {},
   "outputs": [],
   "source": [
    "mlaDB = \"MLA_XXX\" # use your MLA database (MLA_BOPS, MLA_CNS, MLA_ENI, MLA_MNR)\n",
    "\n",
    "# this is the MLA database to which teradataml virtual tables will be written. \n",
    "configure.temp_table_database = defaultDB if defaultDB[:3]==\"MLA\" else mlaDB\n",
    "\n",
    "# this is the MLA database to which teradataml virtual views will be written.\n",
    "configure.temp_view_database = defaultDB if defaultDB[:3]==\"MLA\" else mlaDB "
   ]
  },
  {
   "cell_type": "markdown",
   "id": "69ab6a9c-344a-4bfa-9575-0159d8b92803",
   "metadata": {},
   "source": [
    "##### Create Context\n",
    "See the PythonBasics-1-ConnectingToVantage Notebook for more information about contexts and garbage collection.  "
   ]
  },
  {
   "cell_type": "code",
   "execution_count": 6,
   "id": "nonprofit-rescue",
   "metadata": {},
   "outputs": [],
   "source": [
    "td_context = create_context(host = host, \n",
    "                            username= user, \n",
    "                            password = password, \n",
    "                            logmech='LDAP', \n",
    "                            sslmode='ALLOW', \n",
    "                            database=defaultDB)"
   ]
  },
  {
   "cell_type": "markdown",
   "id": "configured-cotton",
   "metadata": {},
   "source": [
    "#### Set Vantage Analytics Library (VAL) database location"
   ]
  },
  {
   "cell_type": "code",
   "execution_count": 9,
   "id": "reverse-fountain",
   "metadata": {},
   "outputs": [],
   "source": [
    "configure.val_install_location = \"val\" # schema in which the Vantage Analytics Library (VAL) is installed"
   ]
  },
  {
   "cell_type": "markdown",
   "id": "offshore-faculty",
   "metadata": {},
   "source": [
    "### Customers DataFrame\n",
    "Create a teradataml DataFrame object for the database table \"demo_customers\"\n",
    "\n",
    "You only need to use `in_schema` if you are accessing non-default database table. \n",
    "Example: `customers = DataFrame(in_schema(\"some_other_db\", \"demo_customers\"))`"
   ]
  },
  {
   "cell_type": "code",
   "execution_count": 10,
   "id": "accompanied-carolina",
   "metadata": {},
   "outputs": [],
   "source": [
    "customers = DataFrame(\"demo_customers\")"
   ]
  },
  {
   "cell_type": "markdown",
   "id": "universal-owner",
   "metadata": {},
   "source": [
    "##### View SQL behind teradataml DataFrame Object"
   ]
  },
  {
   "cell_type": "code",
   "execution_count": 11,
   "id": "continent-tournament",
   "metadata": {},
   "outputs": [
    {
     "data": {
      "text/plain": [
       "'select * from \"demo_customers\"'"
      ]
     },
     "execution_count": 11,
     "metadata": {},
     "output_type": "execute_result"
    }
   ],
   "source": [
    "customers.show_query()"
   ]
  },
  {
   "cell_type": "markdown",
   "id": "prospective-reach",
   "metadata": {},
   "source": [
    "##### View the Teradata Data Types"
   ]
  },
  {
   "cell_type": "code",
   "execution_count": 12,
   "id": "compliant-trauma",
   "metadata": {
    "tags": []
   },
   "outputs": [
    {
     "data": {
      "text/html": [
       "<style type=\"text/css\">\n",
       "                                table {border:ridge 5px;}\n",
       "                                table td {border:inset 1px;}\n",
       "                                table tr#HeaderRow {background-color:grey; color:white;}\n",
       "                               </style>\n",
       "                               <html>\n",
       "                                  <table>\n",
       "                                    <tr id=\"HeaderRow\">\n",
       "                                        <th>COLUMN NAME</th>\n",
       "                                        <th>TERADATA COLUMN TYPE</th>\n",
       "                                    </tr>\n",
       "                                    <tr><td>cust_id</td><td>INTEGER()</td></tr>\n",
       "<tr><td>income</td><td>DECIMAL(precision=16, scale=4)</td></tr>\n",
       "<tr><td>age</td><td>INTEGER()</td></tr>\n",
       "<tr><td>years_with_bank</td><td>INTEGER()</td></tr>\n",
       "<tr><td>nbr_children</td><td>INTEGER()</td></tr>\n",
       "<tr><td>gender</td><td>VARCHAR(length=64000, charset='LATIN')</td></tr>\n",
       "<tr><td>marital_status</td><td>INTEGER()</td></tr>\n",
       "<tr><td>postal_code</td><td>VARCHAR(length=64000, charset='LATIN')</td></tr>\n",
       "<tr><td>state_code</td><td>VARCHAR(length=64000, charset='LATIN')</td></tr>\n",
       "                                  </table>\n",
       "                               </html>\n",
       "                            "
      ],
      "text/plain": [
       "cust_id                                         INTEGER()\n",
       "income                     DECIMAL(precision=16, scale=4)\n",
       "age                                             INTEGER()\n",
       "years_with_bank                                 INTEGER()\n",
       "nbr_children                                    INTEGER()\n",
       "gender             VARCHAR(length=64000, charset='LATIN')\n",
       "marital_status                                  INTEGER()\n",
       "postal_code        VARCHAR(length=64000, charset='LATIN')\n",
       "state_code         VARCHAR(length=64000, charset='LATIN')"
      ]
     },
     "execution_count": 12,
     "metadata": {},
     "output_type": "execute_result"
    }
   ],
   "source": [
    "customers.tdtypes"
   ]
  },
  {
   "cell_type": "markdown",
   "id": "incorporate-assignment",
   "metadata": {},
   "source": [
    "##### View the Corresponding Pandas Data Types"
   ]
  },
  {
   "cell_type": "code",
   "execution_count": 13,
   "id": "equal-disaster",
   "metadata": {},
   "outputs": [
    {
     "data": {
      "text/html": [
       "<style type=\"text/css\">\n",
       "                                table {border:ridge 5px;}\n",
       "                                table td {border:inset 1px;}\n",
       "                                table tr#HeaderRow {background-color:grey; color:white;}\n",
       "                               </style>\n",
       "                               <html>\n",
       "                                  <table>\n",
       "                                    <tr id=\"HeaderRow\">\n",
       "                                        <th>COLUMN NAME</th>\n",
       "                                        <th>TERADATA COLUMN TYPE</th>\n",
       "                                    </tr>\n",
       "                                    <tr><td>cust_id</td><td>int</td></tr>\n",
       "<tr><td>income</td><td>decimal.Decimal</td></tr>\n",
       "<tr><td>age</td><td>int</td></tr>\n",
       "<tr><td>years_with_bank</td><td>int</td></tr>\n",
       "<tr><td>nbr_children</td><td>int</td></tr>\n",
       "<tr><td>gender</td><td>str</td></tr>\n",
       "<tr><td>marital_status</td><td>int</td></tr>\n",
       "<tr><td>postal_code</td><td>str</td></tr>\n",
       "<tr><td>state_code</td><td>str</td></tr>\n",
       "                                  </table>\n",
       "                               </html>\n",
       "                            "
      ],
      "text/plain": [
       "cust_id                        int\n",
       "income             decimal.Decimal\n",
       "age                            int\n",
       "years_with_bank                int\n",
       "nbr_children                   int\n",
       "gender                         str\n",
       "marital_status                 int\n",
       "postal_code                    str\n",
       "state_code                     str"
      ]
     },
     "execution_count": 13,
     "metadata": {},
     "output_type": "execute_result"
    }
   ],
   "source": [
    "customers.dtypes"
   ]
  },
  {
   "cell_type": "markdown",
   "id": "occupied-freeze",
   "metadata": {},
   "source": [
    "### Exploratory Data Analysis (EDA) with VAL\n",
    "We will do an exploratory data analysis using `teradataml.valib`, a Python teradataml library that provides access to the VAL functions in Vantage Advanced SQLE Database.\n",
    "\n",
    "This section reviews descriptive statistics, overlap analysis, matrix analysis, and text field analysis."
   ]
  },
  {
   "cell_type": "markdown",
   "id": "immune-short",
   "metadata": {},
   "source": [
    "#### Descriptive Statistics and Data Explorer\n",
    "\n",
    "##### Data Explorer\n",
    "- Values Analysis\n",
    "- Univariate Statistical Analysis\n",
    "- Frequencies (distribution analysis)\n",
    "- Histograms (distribution analysis)\n",
    "\n",
    "You can run each of the above individually, or use `valib.Explore()` to run them all to output -\n",
    "\n",
    "`valib.Explore(data, columns=None, bins=10, bin_style='bins', max_comb_values=10000, max_unique_char_values=100, max_unique_num_values=20, min_comb_rows=25000, restrict_freq=True, restrict_threshold=1, statistical_method='population', stats_options=None, distinct=False, filter=None)`\n",
    "1. frequency_output\n",
    "2. histogram_output\n",
    "3. statistics_output\n",
    "4. values_output\n"
   ]
  },
  {
   "cell_type": "markdown",
   "id": "crude-fantasy",
   "metadata": {},
   "source": [
    "##### Values\n",
    "Use Values Analysis as the first type of analysis performed on unknown data.\n",
    "\n",
    "`valib.Values(data, columns=None, exclude_columns=None, group_columns=None, distinct=False, filter=None)`\n",
    "\n",
    "Example: Perform Values analysis on 'income' column with values grouped by 'gender' and only for rows with income greater than 50,000."
   ]
  },
  {
   "cell_type": "code",
   "execution_count": 14,
   "id": "military-apparatus",
   "metadata": {},
   "outputs": [
    {
     "data": {
      "text/html": [
       "<style type=\"text/css\">\n",
       "\ttable {border:ridge 5px;}\n",
       "\ttable td {border:inset 1px;}\n",
       "\ttable tr#HeaderRow {background-color:grey; color:white;}</style>\n",
       "<html><table>\n",
       "\t<tr id=\"HeaderRow\">\n",
       "\t\t<th>gender</th>\n",
       "\t\t<th>xdb</th>\n",
       "\t\t<th>xtbl</th>\n",
       "\t\t<th>xcol</th>\n",
       "\t\t<th>xtype</th>\n",
       "\t\t<th>xcnt</th>\n",
       "\t\t<th>xnull</th>\n",
       "\t\t<th>xunique</th>\n",
       "\t\t<th>xblank</th>\n",
       "\t\t<th>xzero</th>\n",
       "\t\t<th>xpos</th>\n",
       "\t\t<th>xneg</th>\n",
       "\t</tr>\n",
       "\t<tr>\n",
       "\t\t<td>M</td>\n",
       "\t\t<td>MLA_BOPS</td>\n",
       "\t\t<td>demo_customers</td>\n",
       "\t\t<td>income</td>\n",
       "\t\t<td>DECIMAL(16,4)</td>\n",
       "\t\t<td>1123.0</td>\n",
       "\t\t<td>0.0</td>\n",
       "\t\t<td>1114.0</td>\n",
       "\t\t<td>None</td>\n",
       "\t\t<td>0.0</td>\n",
       "\t\t<td>1123.0</td>\n",
       "\t\t<td>0.0</td>\n",
       "\t</tr>\n",
       "\t<tr>\n",
       "\t\t<td>F</td>\n",
       "\t\t<td>MLA_BOPS</td>\n",
       "\t\t<td>demo_customers</td>\n",
       "\t\t<td>income</td>\n",
       "\t\t<td>DECIMAL(16,4)</td>\n",
       "\t\t<td>976.0</td>\n",
       "\t\t<td>0.0</td>\n",
       "\t\t<td>972.0</td>\n",
       "\t\t<td>None</td>\n",
       "\t\t<td>0.0</td>\n",
       "\t\t<td>976.0</td>\n",
       "\t\t<td>0.0</td>\n",
       "\t</tr>\n",
       "</table></html>"
      ],
      "text/plain": [
       "  gender       xdb            xtbl    xcol          xtype    xcnt  xnull  xunique xblank  xzero    xpos  xneg\n",
       "0      M  MLA_BOPS  demo_customers  income  DECIMAL(16,4)  1123.0    0.0   1114.0   None    0.0  1123.0   0.0\n",
       "1      F  MLA_BOPS  demo_customers  income  DECIMAL(16,4)   976.0    0.0    972.0   None    0.0   976.0   0.0"
      ]
     },
     "execution_count": 14,
     "metadata": {},
     "output_type": "execute_result"
    }
   ],
   "source": [
    "obj = valib.Values(data=customers, columns=\"income\", group_columns=\"gender\", filter=\"income > 50000\")\n",
    "obj.result"
   ]
  },
  {
   "cell_type": "markdown",
   "id": "studied-census",
   "metadata": {},
   "source": [
    "##### Convert result to pandas DataFrame to visualize"
   ]
  },
  {
   "cell_type": "code",
   "execution_count": 15,
   "id": "distinct-obligation",
   "metadata": {},
   "outputs": [
    {
     "data": {
      "image/png": "[encoded data removed]",
      "text/plain": [
       "<Figure size 500x300 with 1 Axes>"
      ]
     },
     "metadata": {},
     "output_type": "display_data"
    }
   ],
   "source": [
    "disp = obj.result.to_pandas(index_column='gender')\n",
    "plt.title('Income by Gender (>$50K)')\n",
    "plt.bar(x=disp.index, height=disp.xunique)\n",
    "plt.show()"
   ]
  },
  {
   "cell_type": "markdown",
   "id": "metropolitan-drill",
   "metadata": {},
   "source": [
    "#### Statistics Analysis\n",
    "Statistics Analysis provides several common and not so common statistical measures for numeric data columns. Extended options include Values, Modes, Quantiles, and Ranks.\n",
    "\n",
    "`valib.Statistics(data, columns=None, exclude_columns=None, extended_options='none', group_columns=None, statistical_method='population', stats_options=None, filter=None)`\n",
    "\n",
    "##### Example 1: Count, Min, Max, Mean, Std by Gender with Income > 0"
   ]
  },
  {
   "cell_type": "code",
   "execution_count": 16,
   "id": "complete-trade",
   "metadata": {},
   "outputs": [
    {
     "data": {
      "text/html": [
       "<style type=\"text/css\">\n",
       "\ttable {border:ridge 5px;}\n",
       "\ttable td {border:inset 1px;}\n",
       "\ttable tr#HeaderRow {background-color:grey; color:white;}</style>\n",
       "<html><table>\n",
       "\t<tr id=\"HeaderRow\">\n",
       "\t\t<th>gender</th>\n",
       "\t\t<th>xdb</th>\n",
       "\t\t<th>xtbl</th>\n",
       "\t\t<th>xcol</th>\n",
       "\t\t<th>xcnt</th>\n",
       "\t\t<th>xmin</th>\n",
       "\t\t<th>xmax</th>\n",
       "\t\t<th>xmean</th>\n",
       "\t\t<th>xstd</th>\n",
       "\t</tr>\n",
       "\t<tr>\n",
       "\t\t<td>F</td>\n",
       "\t\t<td>MLA_BOPS</td>\n",
       "\t\t<td>demo_customers</td>\n",
       "\t\t<td>income</td>\n",
       "\t\t<td>5054.0</td>\n",
       "\t\t<td>297.4</td>\n",
       "\t\t<td>265943.6</td>\n",
       "\t\t<td>30380.10312623662</td>\n",
       "\t\t<td>32773.18351861384</td>\n",
       "\t</tr>\n",
       "\t<tr>\n",
       "\t\t<td>M</td>\n",
       "\t\t<td>MLA_BOPS</td>\n",
       "\t\t<td>demo_customers</td>\n",
       "\t\t<td>income</td>\n",
       "\t\t<td>3976.0</td>\n",
       "\t\t<td>197.4</td>\n",
       "\t\t<td>374808.2</td>\n",
       "\t\t<td>40465.794567404475</td>\n",
       "\t\t<td>45335.473545709654</td>\n",
       "\t</tr>\n",
       "</table></html>"
      ],
      "text/plain": [
       "  gender       xdb            xtbl    xcol    xcnt   xmin      xmax         xmean          xstd\n",
       "0      F  MLA_BOPS  demo_customers  income  5054.0  297.4  265943.6  30380.103126  32773.183519\n",
       "1      M  MLA_BOPS  demo_customers  income  3976.0  197.4  374808.2  40465.794567  45335.473546"
      ]
     },
     "execution_count": 16,
     "metadata": {},
     "output_type": "execute_result"
    }
   ],
   "source": [
    "obj = valib.Statistics(data=customers, columns=\"income\", group_columns=\"gender\", filter=\"income > 0\")\n",
    "obj.result"
   ]
  },
  {
   "cell_type": "markdown",
   "id": "driving-nation",
   "metadata": {},
   "source": [
    "##### Example 2: View Extended Options"
   ]
  },
  {
   "cell_type": "code",
   "execution_count": 17,
   "id": "authentic-minister",
   "metadata": {},
   "outputs": [
    {
     "data": {
      "text/html": [
       "<style type=\"text/css\">\n",
       "\ttable {border:ridge 5px;}\n",
       "\ttable td {border:inset 1px;}\n",
       "\ttable tr#HeaderRow {background-color:grey; color:white;}</style>\n",
       "<html><table>\n",
       "\t<tr id=\"HeaderRow\">\n",
       "\t\t<th>xdb</th>\n",
       "\t\t<th>xtbl</th>\n",
       "\t\t<th>xcol</th>\n",
       "\t\t<th>xcnt</th>\n",
       "\t\t<th>xmin</th>\n",
       "\t\t<th>xmax</th>\n",
       "\t\t<th>xmean</th>\n",
       "\t\t<th>xstd</th>\n",
       "\t\t<th>xskew</th>\n",
       "\t\t<th>xkurt</th>\n",
       "\t\t<th>xste</th>\n",
       "\t\t<th>xcv</th>\n",
       "\t\t<th>xvar</th>\n",
       "\t\t<th>xsum</th>\n",
       "\t\t<th>xuss</th>\n",
       "\t\t<th>xcss</th>\n",
       "\t\t<th>xtype</th>\n",
       "\t\t<th>xnull</th>\n",
       "\t\t<th>xnique</th>\n",
       "\t\t<th>xblank</th>\n",
       "\t\t<th>xzero</th>\n",
       "\t\t<th>xpos</th>\n",
       "\t\t<th>xneg</th>\n",
       "\t\t<th>xmode</th>\n",
       "\t\t<th>xmode_cnt</th>\n",
       "\t\t<th>xmode_pct</th>\n",
       "\t\t<th>xnbrmodes</th>\n",
       "\t\t<th>xpctile0</th>\n",
       "\t\t<th>xpctile1</th>\n",
       "\t\t<th>xpctile2</th>\n",
       "\t\t<th>xpctile3</th>\n",
       "\t\t<th>xpctile4</th>\n",
       "\t\t<th>xpctile5</th>\n",
       "\t\t<th>xpctile6</th>\n",
       "\t\t<th>xpctile7</th>\n",
       "\t\t<th>xpctile8</th>\n",
       "\t\t<th>xpctile9</th>\n",
       "\t\t<th>xpctile10</th>\n",
       "\t\t<th>xpctile20</th>\n",
       "\t\t<th>xpctile25</th>\n",
       "\t\t<th>xpctile30</th>\n",
       "\t\t<th>xpctile33</th>\n",
       "\t\t<th>xpctile40</th>\n",
       "\t\t<th>xpctile50</th>\n",
       "\t\t<th>xpctile60</th>\n",
       "\t\t<th>xpctile67</th>\n",
       "\t\t<th>xpctile70</th>\n",
       "\t\t<th>xpctile75</th>\n",
       "\t\t<th>xpctile80</th>\n",
       "\t\t<th>xpctile90</th>\n",
       "\t\t<th>xpctile91</th>\n",
       "\t\t<th>xpctile92</th>\n",
       "\t\t<th>xpctile93</th>\n",
       "\t\t<th>xpctile94</th>\n",
       "\t\t<th>xpctile95</th>\n",
       "\t\t<th>xpctile96</th>\n",
       "\t\t<th>xpctile97</th>\n",
       "\t\t<th>xpctile98</th>\n",
       "\t\t<th>xpctile99</th>\n",
       "\t\t<th>xpctile100</th>\n",
       "\t\t<th>xmin_1</th>\n",
       "\t\t<th>xmin_2</th>\n",
       "\t\t<th>xmin_3</th>\n",
       "\t\t<th>xmin_4</th>\n",
       "\t\t<th>xmin_5</th>\n",
       "\t\t<th>xmincnt_1</th>\n",
       "\t\t<th>xmincnt_2</th>\n",
       "\t\t<th>xmincnt_3</th>\n",
       "\t\t<th>xmincnt_4</th>\n",
       "\t\t<th>xmincnt_5</th>\n",
       "\t\t<th>xmax_5</th>\n",
       "\t\t<th>xmax_4</th>\n",
       "\t\t<th>xmax_3</th>\n",
       "\t\t<th>xmax_2</th>\n",
       "\t\t<th>xmax_1</th>\n",
       "\t\t<th>xmaxcnt_5</th>\n",
       "\t\t<th>xmaxcnt_4</th>\n",
       "\t\t<th>xmaxcnt_3</th>\n",
       "\t\t<th>xmaxcnt_2</th>\n",
       "\t\t<th>xmaxcnt_1</th>\n",
       "\t</tr>\n",
       "\t<tr>\n",
       "\t\t<td>MLA_BOPS</td>\n",
       "\t\t<td>demo_customers</td>\n",
       "\t\t<td>income</td>\n",
       "\t\t<td>10458.0</td>\n",
       "\t\t<td>0.0</td>\n",
       "\t\t<td>374808.2</td>\n",
       "\t\t<td>30066.268923312342</td>\n",
       "\t\t<td>38276.21579485959</td>\n",
       "\t\t<td>2.511662554570656</td>\n",
       "\t\t<td>9.349901859594745</td>\n",
       "\t\t<td>374.28694182240235</td>\n",
       "\t\t<td>127.30617121960731</td>\n",
       "\t\t<td>1465068695.5746589</td>\n",
       "\t\t<td>314433040.40000045</td>\n",
       "\t\t<td>24775516769360.93</td>\n",
       "\t\t<td>15321688418319.783</td>\n",
       "\t\t<td>DECIMAL(16,4)</td>\n",
       "\t\t<td>0.0</td>\n",
       "\t\t<td>8253.0</td>\n",
       "\t\t<td>None</td>\n",
       "\t\t<td>1428.0</td>\n",
       "\t\t<td>9030.0</td>\n",
       "\t\t<td>0.0</td>\n",
       "\t\t<td>0.0</td>\n",
       "\t\t<td>1428.0</td>\n",
       "\t\t<td>13.654618473895582</td>\n",
       "\t\t<td>1.0</td>\n",
       "\t\t<td>0.0</td>\n",
       "\t\t<td>0.0</td>\n",
       "\t\t<td>0.0</td>\n",
       "\t\t<td>0.0</td>\n",
       "\t\t<td>0.0</td>\n",
       "\t\t<td>0.0</td>\n",
       "\t\t<td>0.0</td>\n",
       "\t\t<td>0.0</td>\n",
       "\t\t<td>0.0</td>\n",
       "\t\t<td>0.0</td>\n",
       "\t\t<td>0.0</td>\n",
       "\t\t<td>2564.4</td>\n",
       "\t\t<td>4155.7</td>\n",
       "\t\t<td>5918.0</td>\n",
       "\t\t<td>7078.3</td>\n",
       "\t\t<td>10443.5</td>\n",
       "\t\t<td>16611.0</td>\n",
       "\t\t<td>24582.6</td>\n",
       "\t\t<td>31458.0</td>\n",
       "\t\t<td>35016.8</td>\n",
       "\t\t<td>41778.0</td>\n",
       "\t\t<td>50180.0</td>\n",
       "\t\t<td>77322.0</td>\n",
       "\t\t<td>81034.8</td>\n",
       "\t\t<td>85820.0</td>\n",
       "\t\t<td>91304.2</td>\n",
       "\t\t<td>98467.6</td>\n",
       "\t\t<td>105084.0</td>\n",
       "\t\t<td>114388.0</td>\n",
       "\t\t<td>127848.0</td>\n",
       "\t\t<td>146716.2</td>\n",
       "\t\t<td>180874.4</td>\n",
       "\t\t<td>374808.2</td>\n",
       "\t\t<td>0.0</td>\n",
       "\t\t<td>197.4</td>\n",
       "\t\t<td>218.2</td>\n",
       "\t\t<td>297.4</td>\n",
       "\t\t<td>302.3</td>\n",
       "\t\t<td>1428.0</td>\n",
       "\t\t<td>1.0</td>\n",
       "\t\t<td>2.0</td>\n",
       "\t\t<td>1.0</td>\n",
       "\t\t<td>1.0</td>\n",
       "\t\t<td>331561.1</td>\n",
       "\t\t<td>332404.8</td>\n",
       "\t\t<td>335909.6</td>\n",
       "\t\t<td>369912.4</td>\n",
       "\t\t<td>374808.2</td>\n",
       "\t\t<td>1.0</td>\n",
       "\t\t<td>1.0</td>\n",
       "\t\t<td>1.0</td>\n",
       "\t\t<td>1.0</td>\n",
       "\t\t<td>1.0</td>\n",
       "\t</tr>\n",
       "</table></html>"
      ],
      "text/plain": [
       "        xdb            xtbl    xcol     xcnt  xmin      xmax         xmean          xstd     xskew     xkurt        xste         xcv          xvar         xsum          xuss          xcss          xtype  xnull  xnique xblank   xzero    xpos  xneg  xmode  xmode_cnt  xmode_pct  xnbrmodes  xpctile0  xpctile1  xpctile2  xpctile3  xpctile4  xpctile5  xpctile6  xpctile7  xpctile8  xpctile9  xpctile10  xpctile20  xpctile25  xpctile30  xpctile33  xpctile40  xpctile50  xpctile60  xpctile67  xpctile70  xpctile75  xpctile80  xpctile90  xpctile91  xpctile92  xpctile93  xpctile94  xpctile95  xpctile96  xpctile97  xpctile98  xpctile99  xpctile100  xmin_1  xmin_2  xmin_3  xmin_4  xmin_5  xmincnt_1  xmincnt_2  xmincnt_3  xmincnt_4  xmincnt_5    xmax_5    xmax_4    xmax_3    xmax_2    xmax_1  xmaxcnt_5  xmaxcnt_4  xmaxcnt_3  xmaxcnt_2  xmaxcnt_1\n",
       "0  MLA_BOPS  demo_customers  income  10458.0   0.0  374808.2  30066.268923  38276.215795  2.511663  9.349902  374.286942  127.306171  1.465069e+09  314433040.4  2.477552e+13  1.532169e+13  DECIMAL(16,4)    0.0  8253.0   None  1428.0  9030.0   0.0    0.0     1428.0  13.654618        1.0       0.0       0.0       0.0       0.0       0.0       0.0       0.0       0.0       0.0       0.0        0.0     2564.4     4155.7     5918.0     7078.3    10443.5    16611.0    24582.6    31458.0    35016.8    41778.0    50180.0    77322.0    81034.8    85820.0    91304.2    98467.6   105084.0   114388.0   127848.0   146716.2   180874.4    374808.2     0.0   197.4   218.2   297.4   302.3     1428.0        1.0        2.0        1.0        1.0  331561.1  332404.8  335909.6  369912.4  374808.2        1.0        1.0        1.0        1.0        1.0"
      ]
     },
     "execution_count": 17,
     "metadata": {},
     "output_type": "execute_result"
    }
   ],
   "source": [
    "obj = valib.Statistics(data=customers, columns=\"income\", stats_options=\"all\", extended_options=\"all\")\n",
    "obj.result"
   ]
  },
  {
   "cell_type": "markdown",
   "id": "exclusive-saskatchewan",
   "metadata": {},
   "source": [
    "#### Frequency\n",
    "\n",
    "Frequency Analysis counts the occurrences of individual data values in columns that contain categorical data.\n",
    "\n",
    "`Frequency(data, columns=None, exclude_columns=None, cumulative_option=False, agg_filter=None, min_percentage=None, pairwise_columns=None, stats_columns=None, style='basic', top_n=None, filter=None)`\n",
    "\n",
    "##### Example: Perform Frequency Analysis on age with cumulative option"
   ]
  },
  {
   "cell_type": "code",
   "execution_count": 18,
   "id": "registered-satisfaction",
   "metadata": {},
   "outputs": [
    {
     "data": {
      "text/html": [
       "<style type=\"text/css\">\n",
       "\ttable {border:ridge 5px;}\n",
       "\ttable td {border:inset 1px;}\n",
       "\ttable tr#HeaderRow {background-color:grey; color:white;}</style>\n",
       "<html><table>\n",
       "\t<tr id=\"HeaderRow\">\n",
       "\t\t<th>xtbl</th>\n",
       "\t\t<th>xcol</th>\n",
       "\t\t<th>xval</th>\n",
       "\t\t<th>xcnt</th>\n",
       "\t\t<th>xpct</th>\n",
       "\t\t<th>xcum_cnt</th>\n",
       "\t\t<th>xcum_pct</th>\n",
       "\t\t<th>xcum_rank</th>\n",
       "\t</tr>\n",
       "\t<tr>\n",
       "\t\t<td>demo_customers</td>\n",
       "\t\t<td>age</td>\n",
       "\t\t<td>10</td>\n",
       "\t\t<td>15.0</td>\n",
       "\t\t<td>0.1434308663224326</td>\n",
       "\t\t<td>10406.0</td>\n",
       "\t\t<td>99.50277299674892</td>\n",
       "\t\t<td>81.0</td>\n",
       "\t</tr>\n",
       "\t<tr>\n",
       "\t\t<td>demo_customers</td>\n",
       "\t\t<td>age</td>\n",
       "\t\t<td>11</td>\n",
       "\t\t<td>32.0</td>\n",
       "\t\t<td>0.30598584815452284</td>\n",
       "\t\t<td>10239.0</td>\n",
       "\t\t<td>97.9059093516925</td>\n",
       "\t\t<td>74.0</td>\n",
       "\t</tr>\n",
       "\t<tr>\n",
       "\t\t<td>demo_customers</td>\n",
       "\t\t<td>age</td>\n",
       "\t\t<td>12</td>\n",
       "\t\t<td>19.0</td>\n",
       "\t\t<td>0.18167909734174795</td>\n",
       "\t\t<td>10374.0</td>\n",
       "\t\t<td>99.1967871485944</td>\n",
       "\t\t<td>79.0</td>\n",
       "\t</tr>\n",
       "\t<tr>\n",
       "\t\t<td>demo_customers</td>\n",
       "\t\t<td>age</td>\n",
       "\t\t<td>13</td>\n",
       "\t\t<td>66.0</td>\n",
       "\t\t<td>0.6310958118187033</td>\n",
       "\t\t<td>9546.0</td>\n",
       "\t\t<td>91.2794033275961</td>\n",
       "\t\t<td>60.0</td>\n",
       "\t</tr>\n",
       "\t<tr>\n",
       "\t\t<td>demo_customers</td>\n",
       "\t\t<td>age</td>\n",
       "\t\t<td>14</td>\n",
       "\t\t<td>110.0</td>\n",
       "\t\t<td>1.0518263530311722</td>\n",
       "\t\t<td>8611.0</td>\n",
       "\t\t<td>82.33887932683113</td>\n",
       "\t\t<td>50.0</td>\n",
       "\t</tr>\n",
       "\t<tr>\n",
       "\t\t<td>demo_customers</td>\n",
       "\t\t<td>age</td>\n",
       "\t\t<td>15</td>\n",
       "\t\t<td>188.0</td>\n",
       "\t\t<td>1.7976668579078217</td>\n",
       "\t\t<td>3355.0</td>\n",
       "\t\t<td>32.08070376745076</td>\n",
       "\t\t<td>16.0</td>\n",
       "\t</tr>\n",
       "\t<tr>\n",
       "\t\t<td>demo_customers</td>\n",
       "\t\t<td>age</td>\n",
       "\t\t<td>16</td>\n",
       "\t\t<td>199.0</td>\n",
       "\t\t<td>1.902849493210939</td>\n",
       "\t\t<td>2204.0</td>\n",
       "\t\t<td>21.074775291642762</td>\n",
       "\t\t<td>10.0</td>\n",
       "\t</tr>\n",
       "\t<tr>\n",
       "\t\t<td>demo_customers</td>\n",
       "\t\t<td>age</td>\n",
       "\t\t<td>17</td>\n",
       "\t\t<td>203.0</td>\n",
       "\t\t<td>1.9410977242302543</td>\n",
       "\t\t<td>1603.0</td>\n",
       "\t\t<td>15.327978580990628</td>\n",
       "\t\t<td>7.0</td>\n",
       "\t</tr>\n",
       "\t<tr>\n",
       "\t\t<td>demo_customers</td>\n",
       "\t\t<td>age</td>\n",
       "\t\t<td>18</td>\n",
       "\t\t<td>261.0</td>\n",
       "\t\t<td>2.495697074010327</td>\n",
       "\t\t<td>261.0</td>\n",
       "\t\t<td>2.495697074010327</td>\n",
       "\t\t<td>1.0</td>\n",
       "\t</tr>\n",
       "\t<tr>\n",
       "\t\t<td>demo_customers</td>\n",
       "\t\t<td>age</td>\n",
       "\t\t<td>19</td>\n",
       "\t\t<td>240.0</td>\n",
       "\t\t<td>2.2948938611589216</td>\n",
       "\t\t<td>749.0</td>\n",
       "\t\t<td>7.161981258366801</td>\n",
       "\t\t<td>3.0</td>\n",
       "\t</tr>\n",
       "</table></html>"
      ],
      "text/plain": [
       "             xtbl xcol xval   xcnt      xpct  xcum_cnt   xcum_pct  xcum_rank\n",
       "0  demo_customers  age   10   15.0  0.143431   10406.0  99.502773       81.0\n",
       "1  demo_customers  age   11   32.0  0.305986   10239.0  97.905909       74.0\n",
       "2  demo_customers  age   12   19.0  0.181679   10374.0  99.196787       79.0\n",
       "3  demo_customers  age   13   66.0  0.631096    9546.0  91.279403       60.0\n",
       "4  demo_customers  age   14  110.0  1.051826    8611.0  82.338879       50.0\n",
       "5  demo_customers  age   15  188.0  1.797667    3355.0  32.080704       16.0\n",
       "6  demo_customers  age   16  199.0  1.902849    2204.0  21.074775       10.0\n",
       "7  demo_customers  age   17  203.0  1.941098    1603.0  15.327979        7.0\n",
       "8  demo_customers  age   18  261.0  2.495697     261.0   2.495697        1.0\n",
       "9  demo_customers  age   19  240.0  2.294894     749.0   7.161981        3.0"
      ]
     },
     "execution_count": 18,
     "metadata": {},
     "output_type": "execute_result"
    }
   ],
   "source": [
    "obj = valib.Frequency(data=customers, columns=\"age\", cumulative_option=True)\n",
    "obj.result.sort('xval')"
   ]
  },
  {
   "cell_type": "code",
   "execution_count": 19,
   "id": "possible-indonesian",
   "metadata": {},
   "outputs": [
    {
     "data": {
      "image/png": "[encoded data removed]",
      "text/plain": [
       "<Figure size 500x300 with 1 Axes>"
      ]
     },
     "metadata": {},
     "output_type": "display_data"
    }
   ],
   "source": [
    "disp = obj.result.to_pandas(index_column='xval')\n",
    "disp = disp.sort_values('xval')\n",
    "plt.title('Age Distribution (count)')\n",
    "plt.bar(x=disp.index.astype(int), height=disp.xcnt)\n",
    "plt.show()"
   ]
  },
  {
   "cell_type": "markdown",
   "id": "liquid-algebra",
   "metadata": {},
   "source": [
    "#### Histogram\n",
    "Histogram Analysis reveals the distribution of continuous numeric or date values in a column.\n",
    "\n",
    "`Histogram(data, columns=None, bins=10, bins_with_boundaries=None, boundaries=None, quantiles=10, widths=None, exclude_columns=None, overlay_columns=None, stats_columns=None, hist_style='basic', filter=None)`\n",
    "\n",
    "##### Example: Perform histogram analysis on income > 0 and overlay with gender."
   ]
  },
  {
   "cell_type": "code",
   "execution_count": 20,
   "id": "nuclear-reducing",
   "metadata": {},
   "outputs": [
    {
     "data": {
      "text/html": [
       "<style type=\"text/css\">\n",
       "\ttable {border:ridge 5px;}\n",
       "\ttable td {border:inset 1px;}\n",
       "\ttable tr#HeaderRow {background-color:grey; color:white;}</style>\n",
       "<html><table>\n",
       "\t<tr id=\"HeaderRow\">\n",
       "\t\t<th>xdb</th>\n",
       "\t\t<th>xtbl</th>\n",
       "\t\t<th>xcol</th>\n",
       "\t\t<th>xbin</th>\n",
       "\t\t<th>xbeg</th>\n",
       "\t\t<th>xend</th>\n",
       "\t\t<th>xcnt</th>\n",
       "\t\t<th>xpct</th>\n",
       "\t\t<th>ovly_gender</th>\n",
       "\t\t<th>xocnt</th>\n",
       "\t\t<th>xobpct</th>\n",
       "\t\t<th>xopct</th>\n",
       "\t</tr>\n",
       "\t<tr>\n",
       "\t\t<td>MLA_BOPS</td>\n",
       "\t\t<td>demo_customers</td>\n",
       "\t\t<td>income</td>\n",
       "\t\t<td>10</td>\n",
       "\t\t<td>337347.12</td>\n",
       "\t\t<td>374808.2</td>\n",
       "\t\t<td>2.0</td>\n",
       "\t\t<td>0.0221483942414175</td>\n",
       "\t\t<td>M</td>\n",
       "\t\t<td>2.0</td>\n",
       "\t\t<td>100.0</td>\n",
       "\t\t<td>0.0221483942414175</td>\n",
       "\t</tr>\n",
       "\t<tr>\n",
       "\t\t<td>MLA_BOPS</td>\n",
       "\t\t<td>demo_customers</td>\n",
       "\t\t<td>income</td>\n",
       "\t\t<td>9</td>\n",
       "\t\t<td>299886.04</td>\n",
       "\t\t<td>337347.12</td>\n",
       "\t\t<td>6.0</td>\n",
       "\t\t<td>0.0664451827242525</td>\n",
       "\t\t<td>M</td>\n",
       "\t\t<td>6.0</td>\n",
       "\t\t<td>100.0</td>\n",
       "\t\t<td>0.0664451827242525</td>\n",
       "\t</tr>\n",
       "\t<tr>\n",
       "\t\t<td>MLA_BOPS</td>\n",
       "\t\t<td>demo_customers</td>\n",
       "\t\t<td>income</td>\n",
       "\t\t<td>8</td>\n",
       "\t\t<td>262424.96</td>\n",
       "\t\t<td>299886.04</td>\n",
       "\t\t<td>9.0</td>\n",
       "\t\t<td>0.09966777408637874</td>\n",
       "\t\t<td>M</td>\n",
       "\t\t<td>7.0</td>\n",
       "\t\t<td>77.77777777777777</td>\n",
       "\t\t<td>0.07751937984496124</td>\n",
       "\t</tr>\n",
       "\t<tr>\n",
       "\t\t<td>MLA_BOPS</td>\n",
       "\t\t<td>demo_customers</td>\n",
       "\t\t<td>income</td>\n",
       "\t\t<td>8</td>\n",
       "\t\t<td>262424.96</td>\n",
       "\t\t<td>299886.04</td>\n",
       "\t\t<td>9.0</td>\n",
       "\t\t<td>0.09966777408637874</td>\n",
       "\t\t<td>F</td>\n",
       "\t\t<td>2.0</td>\n",
       "\t\t<td>22.22222222222222</td>\n",
       "\t\t<td>0.0221483942414175</td>\n",
       "\t</tr>\n",
       "\t<tr>\n",
       "\t\t<td>MLA_BOPS</td>\n",
       "\t\t<td>demo_customers</td>\n",
       "\t\t<td>income</td>\n",
       "\t\t<td>7</td>\n",
       "\t\t<td>224963.88</td>\n",
       "\t\t<td>262424.96</td>\n",
       "\t\t<td>19.0</td>\n",
       "\t\t<td>0.21040974529346623</td>\n",
       "\t\t<td>M</td>\n",
       "\t\t<td>14.0</td>\n",
       "\t\t<td>73.6842105263158</td>\n",
       "\t\t<td>0.15503875968992248</td>\n",
       "\t</tr>\n",
       "\t<tr>\n",
       "\t\t<td>MLA_BOPS</td>\n",
       "\t\t<td>demo_customers</td>\n",
       "\t\t<td>income</td>\n",
       "\t\t<td>7</td>\n",
       "\t\t<td>224963.88</td>\n",
       "\t\t<td>262424.96</td>\n",
       "\t\t<td>19.0</td>\n",
       "\t\t<td>0.21040974529346623</td>\n",
       "\t\t<td>F</td>\n",
       "\t\t<td>5.0</td>\n",
       "\t\t<td>26.31578947368421</td>\n",
       "\t\t<td>0.05537098560354374</td>\n",
       "\t</tr>\n",
       "\t<tr>\n",
       "\t\t<td>MLA_BOPS</td>\n",
       "\t\t<td>demo_customers</td>\n",
       "\t\t<td>income</td>\n",
       "\t\t<td>6</td>\n",
       "\t\t<td>187502.8</td>\n",
       "\t\t<td>224963.88</td>\n",
       "\t\t<td>54.0</td>\n",
       "\t\t<td>0.5980066445182725</td>\n",
       "\t\t<td>M</td>\n",
       "\t\t<td>41.0</td>\n",
       "\t\t<td>75.92592592592592</td>\n",
       "\t\t<td>0.4540420819490587</td>\n",
       "\t</tr>\n",
       "\t<tr>\n",
       "\t\t<td>MLA_BOPS</td>\n",
       "\t\t<td>demo_customers</td>\n",
       "\t\t<td>income</td>\n",
       "\t\t<td>6</td>\n",
       "\t\t<td>187502.8</td>\n",
       "\t\t<td>224963.88</td>\n",
       "\t\t<td>54.0</td>\n",
       "\t\t<td>0.5980066445182725</td>\n",
       "\t\t<td>F</td>\n",
       "\t\t<td>13.0</td>\n",
       "\t\t<td>24.074074074074073</td>\n",
       "\t\t<td>0.14396456256921372</td>\n",
       "\t</tr>\n",
       "\t<tr>\n",
       "\t\t<td>MLA_BOPS</td>\n",
       "\t\t<td>demo_customers</td>\n",
       "\t\t<td>income</td>\n",
       "\t\t<td>5</td>\n",
       "\t\t<td>150041.72</td>\n",
       "\t\t<td>187502.8</td>\n",
       "\t\t<td>106.0</td>\n",
       "\t\t<td>1.1738648947951273</td>\n",
       "\t\t<td>M</td>\n",
       "\t\t<td>67.0</td>\n",
       "\t\t<td>63.20754716981132</td>\n",
       "\t\t<td>0.7419712070874862</td>\n",
       "\t</tr>\n",
       "\t<tr>\n",
       "\t\t<td>MLA_BOPS</td>\n",
       "\t\t<td>demo_customers</td>\n",
       "\t\t<td>income</td>\n",
       "\t\t<td>5</td>\n",
       "\t\t<td>150041.72</td>\n",
       "\t\t<td>187502.8</td>\n",
       "\t\t<td>106.0</td>\n",
       "\t\t<td>1.1738648947951273</td>\n",
       "\t\t<td>F</td>\n",
       "\t\t<td>39.0</td>\n",
       "\t\t<td>36.79245283018868</td>\n",
       "\t\t<td>0.4318936877076412</td>\n",
       "\t</tr>\n",
       "</table></html>"
      ],
      "text/plain": [
       "        xdb            xtbl    xcol  xbin       xbeg       xend   xcnt      xpct ovly_gender  xocnt      xobpct     xopct\n",
       "0  MLA_BOPS  demo_customers  income    10  337347.12  374808.20    2.0  0.022148           M    2.0  100.000000  0.022148\n",
       "1  MLA_BOPS  demo_customers  income     9  299886.04  337347.12    6.0  0.066445           M    6.0  100.000000  0.066445\n",
       "2  MLA_BOPS  demo_customers  income     8  262424.96  299886.04    9.0  0.099668           M    7.0   77.777778  0.077519\n",
       "3  MLA_BOPS  demo_customers  income     8  262424.96  299886.04    9.0  0.099668           F    2.0   22.222222  0.022148\n",
       "4  MLA_BOPS  demo_customers  income     7  224963.88  262424.96   19.0  0.210410           M   14.0   73.684211  0.155039\n",
       "5  MLA_BOPS  demo_customers  income     7  224963.88  262424.96   19.0  0.210410           F    5.0   26.315789  0.055371\n",
       "6  MLA_BOPS  demo_customers  income     6  187502.80  224963.88   54.0  0.598007           M   41.0   75.925926  0.454042\n",
       "7  MLA_BOPS  demo_customers  income     6  187502.80  224963.88   54.0  0.598007           F   13.0   24.074074  0.143965\n",
       "8  MLA_BOPS  demo_customers  income     5  150041.72  187502.80  106.0  1.173865           M   67.0   63.207547  0.741971\n",
       "9  MLA_BOPS  demo_customers  income     5  150041.72  187502.80  106.0  1.173865           F   39.0   36.792453  0.431894"
      ]
     },
     "execution_count": 20,
     "metadata": {},
     "output_type": "execute_result"
    }
   ],
   "source": [
    "obj = valib.Histogram(data=customers, columns=[\"income\"], overlay_columns=\"gender\", filter=\"income > 0\")\n",
    "obj.result.sort(['xbin','ovly_gender'], ascending=False)"
   ]
  },
  {
   "cell_type": "code",
   "execution_count": 21,
   "id": "advanced-timing",
   "metadata": {},
   "outputs": [
    {
     "data": {
      "image/png": "[encoded data removed]",
      "text/plain": [
       "<Figure size 800x300 with 2 Axes>"
      ]
     },
     "metadata": {},
     "output_type": "display_data"
    }
   ],
   "source": [
    "n_bins=10\n",
    "disp_f = obj.result[obj.result.ovly_gender=='F'].to_pandas(index_column=['xbin'])\n",
    "disp_f = disp_f.sort_values('xbin')\n",
    "disp_m = obj.result[obj.result.ovly_gender=='M'].to_pandas(index_column=['xbin'])\n",
    "disp_m = disp_m.sort_values('xbin')\n",
    "fig, axs = plt.subplots(1, 2, sharey=True, tight_layout=True, figsize=([8,3]))\n",
    "axs[0].bar(x=disp_f.index.astype(int), height=disp_f.xcnt)\n",
    "axs[0].set_title('Female Income Distribution')\n",
    "axs[1].bar(x=disp_m.index.astype(int), height=disp_m.xcnt)\n",
    "axs[1].set_title('Male Income Distribution')\n",
    "plt.show()"
   ]
  },
  {
   "cell_type": "markdown",
   "id": "static-staff",
   "metadata": {},
   "source": [
    "#### Adaptive Histogram\n",
    "\n",
    "Adaptive Histogram analysis supplements Histogram analysis by offering options to further subdivide the distribution. \n",
    "\n",
    "`valib.AdaptiveHistogram(data, columns=None, bins=10, exclude_columns=None, spike_threshold=10, subdivision_method='means', subdivision_threshold=30, filter=None)`\n",
    "\n",
    "##### Example:  Shows execution with 10 equal width bins created by default for income.\n",
    "The default value of 10 is used for \"spike_threshold\", and 30 for \"subdivision_threshold\", with means as the default \"subdivision_method\"\n",
    "\n",
    "Note:  Without adaptive binning, spike values and/or overpopulated bins can distort the bin counts, as they are not separated or subdivided unless the Adaptive Histogram function is used."
   ]
  },
  {
   "cell_type": "code",
   "execution_count": 22,
   "id": "subjective-season",
   "metadata": {},
   "outputs": [
    {
     "data": {
      "text/html": [
       "<style type=\"text/css\">\n",
       "\ttable {border:ridge 5px;}\n",
       "\ttable td {border:inset 1px;}\n",
       "\ttable tr#HeaderRow {background-color:grey; color:white;}</style>\n",
       "<html><table>\n",
       "\t<tr id=\"HeaderRow\">\n",
       "\t\t<th>xtbl</th>\n",
       "\t\t<th>xcol</th>\n",
       "\t\t<th>xbeg</th>\n",
       "\t\t<th>xend</th>\n",
       "\t\t<th>xtype</th>\n",
       "\t\t<th>xdesc</th>\n",
       "\t\t<th>xcnt</th>\n",
       "\t\t<th>xpct</th>\n",
       "\t</tr>\n",
       "\t<tr>\n",
       "\t\t<td>demo_customers</td>\n",
       "\t\t<td>income</td>\n",
       "\t\t<td>14340.548507217838</td>\n",
       "\t\t<td>16417.914448483483</td>\n",
       "\t\t<td>3</td>\n",
       "\t\t<td>**bin          </td>\n",
       "\t\t<td>320.0</td>\n",
       "\t\t<td>3.0598584815452283</td>\n",
       "\t</tr>\n",
       "\t<tr>\n",
       "\t\t<td>demo_customers</td>\n",
       "\t\t<td>income</td>\n",
       "\t\t<td>37658.48</td>\n",
       "\t\t<td>75119.56</td>\n",
       "\t\t<td>1</td>\n",
       "\t\t<td>bin            </td>\n",
       "\t\t<td>1838.0</td>\n",
       "\t\t<td>17.575062153375406</td>\n",
       "\t</tr>\n",
       "\t<tr>\n",
       "\t\t<td>demo_customers</td>\n",
       "\t\t<td>income</td>\n",
       "\t\t<td>22650.012272280423</td>\n",
       "\t\t<td>24727.378213546068</td>\n",
       "\t\t<td>3</td>\n",
       "\t\t<td>**bin          </td>\n",
       "\t\t<td>237.0</td>\n",
       "\t\t<td>2.266207687894435</td>\n",
       "\t</tr>\n",
       "\t<tr>\n",
       "\t\t<td>demo_customers</td>\n",
       "\t\t<td>income</td>\n",
       "\t\t<td>197.4</td>\n",
       "\t\t<td>37658.48</td>\n",
       "\t\t<td>1</td>\n",
       "\t\t<td>bin            </td>\n",
       "\t\t<td>6096.0</td>\n",
       "\t\t<td>58.2903040734366</td>\n",
       "\t</tr>\n",
       "\t<tr>\n",
       "\t\t<td>demo_customers</td>\n",
       "\t\t<td>income</td>\n",
       "\t\t<td>3953.7188008896096</td>\n",
       "\t\t<td>6031.084742155255</td>\n",
       "\t\t<td>3</td>\n",
       "\t\t<td>**bin          </td>\n",
       "\t\t<td>626.0</td>\n",
       "\t\t<td>5.985848154522853</td>\n",
       "\t</tr>\n",
       "\t<tr>\n",
       "\t\t<td>demo_customers</td>\n",
       "\t\t<td>income</td>\n",
       "\t\t<td>262424.96</td>\n",
       "\t\t<td>299886.04000000004</td>\n",
       "\t\t<td>1</td>\n",
       "\t\t<td>bin            </td>\n",
       "\t\t<td>9.0</td>\n",
       "\t\t<td>0.08605851979345955</td>\n",
       "\t</tr>\n",
       "\t<tr>\n",
       "\t\t<td>demo_customers</td>\n",
       "\t\t<td>income</td>\n",
       "\t\t<td>6031.084742155255</td>\n",
       "\t\t<td>8108.450683420901</td>\n",
       "\t\t<td>3</td>\n",
       "\t\t<td>**bin          </td>\n",
       "\t\t<td>505.0</td>\n",
       "\t\t<td>4.828839166188564</td>\n",
       "\t</tr>\n",
       "\t<tr>\n",
       "\t\t<td>demo_customers</td>\n",
       "\t\t<td>income</td>\n",
       "\t\t<td>0.0</td>\n",
       "\t\t<td>0.0</td>\n",
       "\t\t<td>0</td>\n",
       "\t\t<td>spike          </td>\n",
       "\t\t<td>1428.0</td>\n",
       "\t\t<td>13.654618473895582</td>\n",
       "\t</tr>\n",
       "\t<tr>\n",
       "\t\t<td>demo_customers</td>\n",
       "\t\t<td>income</td>\n",
       "\t\t<td>150041.72</td>\n",
       "\t\t<td>187502.80000000002</td>\n",
       "\t\t<td>1</td>\n",
       "\t\t<td>bin            </td>\n",
       "\t\t<td>106.0</td>\n",
       "\t\t<td>1.013578122011857</td>\n",
       "\t</tr>\n",
       "\t<tr>\n",
       "\t\t<td>demo_customers</td>\n",
       "\t\t<td>income</td>\n",
       "\t\t<td>24727.378213546068</td>\n",
       "\t\t<td>26420.156000000003</td>\n",
       "\t\t<td>2</td>\n",
       "\t\t<td>--bin          </td>\n",
       "\t\t<td>182.0</td>\n",
       "\t\t<td>1.7402945113788488</td>\n",
       "\t</tr>\n",
       "</table></html>"
      ],
      "text/plain": [
       "             xtbl    xcol           xbeg           xend  xtype            xdesc    xcnt       xpct\n",
       "0  demo_customers  income  112580.640000  150041.720000      1  bin               253.0   2.419201\n",
       "1  demo_customers  income   26420.156000   30166.264000      2  --bin             399.0   3.815261\n",
       "2  demo_customers  income   12263.182566   14340.548507      3  **bin             350.0   3.346720\n",
       "3  demo_customers  income    3943.508000    3953.718801      2  --bin               4.0   0.038248\n",
       "4  demo_customers  income     197.400000    3943.508000      2  --bin            1112.0  10.633008\n",
       "5  demo_customers  income   33912.372000   37658.480000      2  --bin             308.0   2.945114\n",
       "6  demo_customers  income  337347.120000  374808.200000      1  bin                 2.0   0.019124\n",
       "7  demo_customers  income   30166.264000   33912.372000      2  --bin             344.0   3.289348\n",
       "8  demo_customers  income  224963.880000  262424.960000      1  bin                19.0   0.181679\n",
       "9  demo_customers  income   24727.378214   26420.156000      2  --bin             182.0   1.740295"
      ]
     },
     "execution_count": 22,
     "metadata": {},
     "output_type": "execute_result"
    }
   ],
   "source": [
    "obj = valib.AdaptiveHistogram(data=customers, columns=\"income\")\n",
    "obj.result"
   ]
  },
  {
   "cell_type": "markdown",
   "id": "filled-jewelry",
   "metadata": {},
   "source": [
    "#### Overlap Analysis\n",
    "\n",
    "Compare different tables for Index/Key column Consistency/Overlaps\n",
    "\n",
    "`valib.Overlap(data1, columns1, **kwargs)`\n",
    "\n",
    "Example: Perform Overlap analysis between customers and accounts on cust_id"
   ]
  },
  {
   "cell_type": "code",
   "execution_count": 23,
   "id": "dress-teddy",
   "metadata": {},
   "outputs": [
    {
     "data": {
      "text/html": [
       "<style type=\"text/css\">\n",
       "\ttable {border:ridge 5px;}\n",
       "\ttable td {border:inset 1px;}\n",
       "\ttable tr#HeaderRow {background-color:grey; color:white;}</style>\n",
       "<html><table>\n",
       "\t<tr id=\"HeaderRow\">\n",
       "\t\t<th>acct_nbr</th>\n",
       "\t\t<th>cust_id</th>\n",
       "\t\t<th>acct_type</th>\n",
       "\t\t<th>account_active</th>\n",
       "\t\t<th>acct_start_date</th>\n",
       "\t\t<th>starting_balance</th>\n",
       "\t\t<th>ending_balance</th>\n",
       "\t</tr>\n",
       "\t<tr>\n",
       "\t\t<td>000000001362480212</td>\n",
       "\t\t<td>16349760</td>\n",
       "\t\t<td>CK</td>\n",
       "\t\t<td>Y</td>\n",
       "\t\t<td>1992-12-23 00:00:00.000000</td>\n",
       "\t\t<td>398.220</td>\n",
       "\t\t<td>182.406</td>\n",
       "\t</tr>\n",
       "\t<tr>\n",
       "\t\t<td>000000001362480214</td>\n",
       "\t\t<td>19074720</td>\n",
       "\t\t<td>CK</td>\n",
       "\t\t<td>Y</td>\n",
       "\t\t<td>1992-12-23 00:00:00.000000</td>\n",
       "\t\t<td>464.590</td>\n",
       "\t\t<td>356.126</td>\n",
       "\t</tr>\n",
       "\t<tr>\n",
       "\t\t<td>000000001362480213</td>\n",
       "\t\t<td>17712240</td>\n",
       "\t\t<td>CK</td>\n",
       "\t\t<td>Y</td>\n",
       "\t\t<td>1992-12-23 00:00:00.000000</td>\n",
       "\t\t<td>2024.285</td>\n",
       "\t\t<td>193.698</td>\n",
       "\t</tr>\n",
       "\t<tr>\n",
       "\t\t<td>000000001362480211</td>\n",
       "\t\t<td>14987280</td>\n",
       "\t\t<td>CK</td>\n",
       "\t\t<td>Y</td>\n",
       "\t\t<td>1992-12-23 00:00:00.000000</td>\n",
       "\t\t<td>630.515</td>\n",
       "\t\t<td>425.614</td>\n",
       "\t</tr>\n",
       "\t<tr>\n",
       "\t\t<td>000000001362480210</td>\n",
       "\t\t<td>13624800</td>\n",
       "\t\t<td>CK</td>\n",
       "\t\t<td>Y</td>\n",
       "\t\t<td>1992-12-23 00:00:00.000000</td>\n",
       "\t\t<td>630.515</td>\n",
       "\t\t<td>390.870</td>\n",
       "\t</tr>\n",
       "</table></html>"
      ],
      "text/plain": [
       "                     cust_id acct_type account_active             acct_start_date  starting_balance  ending_balance\n",
       "acct_nbr                                                                                                           \n",
       "000000001362480212  16349760        CK              Y  1992-12-23 00:00:00.000000           398.220         182.406\n",
       "000000001362480214  19074720        CK              Y  1992-12-23 00:00:00.000000           464.590         356.126\n",
       "000000001362480213  17712240        CK              Y  1992-12-23 00:00:00.000000          2024.285         193.698\n",
       "000000001362480211  14987280        CK              Y  1992-12-23 00:00:00.000000           630.515         425.614\n",
       "000000001362480210  13624800        CK              Y  1992-12-23 00:00:00.000000           630.515         390.870"
      ]
     },
     "execution_count": 23,
     "metadata": {},
     "output_type": "execute_result"
    }
   ],
   "source": [
    "accounts = DataFrame(\"demo_accounts\")\n",
    "accounts.head(5)"
   ]
  },
  {
   "cell_type": "code",
   "execution_count": 24,
   "id": "motivated-company",
   "metadata": {},
   "outputs": [
    {
     "data": {
      "text/html": [
       "<style type=\"text/css\">\n",
       "\ttable {border:ridge 5px;}\n",
       "\ttable td {border:inset 1px;}\n",
       "\ttable tr#HeaderRow {background-color:grey; color:white;}</style>\n",
       "<html><table>\n",
       "\t<tr id=\"HeaderRow\">\n",
       "\t\t<th>xidx</th>\n",
       "\t\t<th>xdb</th>\n",
       "\t\t<th>xtbl</th>\n",
       "\t\t<th>xcol</th>\n",
       "\t\t<th>xcnt</th>\n",
       "\t\t<th>xunique</th>\n",
       "\t\t<th>demo_customers</th>\n",
       "\t\t<th>demo_accounts</th>\n",
       "\t</tr>\n",
       "\t<tr>\n",
       "\t\t<td>2</td>\n",
       "\t\t<td>MLA_BOPS</td>\n",
       "\t\t<td>demo_accounts</td>\n",
       "\t\t<td>cust_id</td>\n",
       "\t\t<td>19726.0</td>\n",
       "\t\t<td>9310.0</td>\n",
       "\t\t<td>None</td>\n",
       "\t\t<td>None</td>\n",
       "\t</tr>\n",
       "\t<tr>\n",
       "\t\t<td>1</td>\n",
       "\t\t<td>MLA_BOPS</td>\n",
       "\t\t<td>demo_customers</td>\n",
       "\t\t<td>cust_id</td>\n",
       "\t\t<td>10458.0</td>\n",
       "\t\t<td>10458.0</td>\n",
       "\t\t<td>None</td>\n",
       "\t\t<td>0.0</td>\n",
       "\t</tr>\n",
       "</table></html>"
      ],
      "text/plain": [
       "   xidx       xdb            xtbl     xcol     xcnt  xunique demo_customers  demo_accounts\n",
       "0     2  MLA_BOPS   demo_accounts  cust_id  19726.0   9310.0           None            NaN\n",
       "1     1  MLA_BOPS  demo_customers  cust_id  10458.0  10458.0           None            0.0"
      ]
     },
     "execution_count": 24,
     "metadata": {},
     "output_type": "execute_result"
    }
   ],
   "source": [
    "overlap_obj = valib.Overlap(data1=customers,\n",
    "                                data2=accounts,\n",
    "                                columns1=[\"cust_id\"],\n",
    "                                columns2=\"cust_id\")\n",
    "overlap_obj.result"
   ]
  },
  {
   "cell_type": "markdown",
   "id": "young-nicaragua",
   "metadata": {},
   "source": [
    "#### Text Analyzer\n",
    "\n",
    "The TextAnalyzer function analyzes character data and distinguishes if the field is a numeric type, date, time, timestamp, or character data and returns two output DataFrames - \n",
    "1. analysis results\n",
    "2. column data type matrix having the progression of data type through the series of steps "
   ]
  },
  {
   "cell_type": "code",
   "execution_count": 25,
   "id": "english-worst",
   "metadata": {},
   "outputs": [
    {
     "data": {
      "text/html": [
       "<style type=\"text/css\">\n",
       "\ttable {border:ridge 5px;}\n",
       "\ttable td {border:inset 1px;}\n",
       "\ttable tr#HeaderRow {background-color:grey; color:white;}</style>\n",
       "<html><table>\n",
       "\t<tr id=\"HeaderRow\">\n",
       "\t\t<th>cust_id</th>\n",
       "\t\t<th>income</th>\n",
       "\t\t<th>age</th>\n",
       "\t\t<th>years_with_bank</th>\n",
       "\t\t<th>nbr_children</th>\n",
       "\t\t<th>gender</th>\n",
       "\t\t<th>marital_status</th>\n",
       "\t\t<th>postal_code</th>\n",
       "\t\t<th>state_code</th>\n",
       "\t</tr>\n",
       "\t<tr>\n",
       "\t\t<td>14989601</td>\n",
       "\t\t<td>28765.000</td>\n",
       "\t\t<td>48</td>\n",
       "\t\t<td>7</td>\n",
       "\t\t<td>3</td>\n",
       "\t\t<td>M</td>\n",
       "\t\t<td>2</td>\n",
       "\t\t<td>89194</td>\n",
       "\t\t<td>NV</td>\n",
       "\t</tr>\n",
       "\t<tr>\n",
       "\t\t<td>27253820</td>\n",
       "\t\t<td>52300.000</td>\n",
       "\t\t<td>46</td>\n",
       "\t\t<td>7</td>\n",
       "\t\t<td>1</td>\n",
       "\t\t<td>M</td>\n",
       "\t\t<td>2</td>\n",
       "\t\t<td>89194</td>\n",
       "\t\t<td>NV</td>\n",
       "\t</tr>\n",
       "\t<tr>\n",
       "\t\t<td>16360284</td>\n",
       "\t\t<td>3998.600</td>\n",
       "\t\t<td>41</td>\n",
       "\t\t<td>11</td>\n",
       "\t\t<td>6</td>\n",
       "\t\t<td>M</td>\n",
       "\t\t<td>2</td>\n",
       "\t\t<td>94180</td>\n",
       "\t\t<td>CA</td>\n",
       "\t</tr>\n",
       "\t<tr>\n",
       "\t\t<td>25897247</td>\n",
       "\t\t<td>842.600</td>\n",
       "\t\t<td>70</td>\n",
       "\t\t<td>7</td>\n",
       "\t\t<td>0</td>\n",
       "\t\t<td>F</td>\n",
       "\t\t<td>2</td>\n",
       "\t\t<td>10101</td>\n",
       "\t\t<td>NY</td>\n",
       "\t</tr>\n",
       "\t<tr>\n",
       "\t\t<td>21804320</td>\n",
       "\t\t<td>199916.600</td>\n",
       "\t\t<td>42</td>\n",
       "\t\t<td>5</td>\n",
       "\t\t<td>1</td>\n",
       "\t\t<td>F</td>\n",
       "\t\t<td>1</td>\n",
       "\t\t<td>19126</td>\n",
       "\t\t<td>PA</td>\n",
       "\t</tr>\n",
       "\t<tr>\n",
       "\t\t<td>25891680</td>\n",
       "\t\t<td>3573.100</td>\n",
       "\t\t<td>24</td>\n",
       "\t\t<td>6</td>\n",
       "\t\t<td>0</td>\n",
       "\t\t<td>M</td>\n",
       "\t\t<td>1</td>\n",
       "\t\t<td>60665</td>\n",
       "\t\t<td>IL</td>\n",
       "\t</tr>\n",
       "\t<tr>\n",
       "\t\t<td>19084968</td>\n",
       "\t\t<td>12670.000</td>\n",
       "\t\t<td>66</td>\n",
       "\t\t<td>6</td>\n",
       "\t\t<td>1</td>\n",
       "\t\t<td>F</td>\n",
       "\t\t<td>2</td>\n",
       "\t\t<td>44127</td>\n",
       "\t\t<td>OH</td>\n",
       "\t</tr>\n",
       "\t<tr>\n",
       "\t\t<td>29982260</td>\n",
       "\t\t<td>24052.600</td>\n",
       "\t\t<td>23</td>\n",
       "\t\t<td>8</td>\n",
       "\t\t<td>0</td>\n",
       "\t\t<td>F</td>\n",
       "\t\t<td>1</td>\n",
       "\t\t<td>15279</td>\n",
       "\t\t<td>PA</td>\n",
       "\t</tr>\n",
       "\t<tr>\n",
       "\t\t<td>24534252</td>\n",
       "\t\t<td>27718.200</td>\n",
       "\t\t<td>62</td>\n",
       "\t\t<td>0</td>\n",
       "\t\t<td>2</td>\n",
       "\t\t<td>M</td>\n",
       "\t\t<td>2</td>\n",
       "\t\t<td>10101</td>\n",
       "\t\t<td>NY</td>\n",
       "\t</tr>\n",
       "\t<tr>\n",
       "\t\t<td>27263480</td>\n",
       "\t\t<td>42768.000</td>\n",
       "\t\t<td>58</td>\n",
       "\t\t<td>9</td>\n",
       "\t\t<td>1</td>\n",
       "\t\t<td>F</td>\n",
       "\t\t<td>2</td>\n",
       "\t\t<td>92817</td>\n",
       "\t\t<td>CA</td>\n",
       "\t</tr>\n",
       "</table></html>"
      ],
      "text/plain": [
       "    cust_id   income  age  years_with_bank  nbr_children gender  marital_status  postal_code state_code\n",
       "0  17720326  23637.9   29                6             5      F               2        90145         CA\n",
       "1  25903099   6291.5   60                7             0      M               2        46240         IN\n",
       "2  16358472   8826.5   35                5             3      F               1        93728         CA\n",
       "3  14993781   1721.5   84                4             2      F               2        79931         TX\n",
       "4  27261180  49488.0   30                2             0      F               1        94266         CA\n",
       "5  24540246      0.0   17                0             2      M               1        85734         AZ\n",
       "6  28629846  15936.9   41                1             1      M               3        90173         CA\n",
       "7  27253800  48262.0   47                9             1      F               2        89194         NV\n",
       "8  25889210    468.5   67                4             0      M               1        46260         IN\n",
       "9  25893637   8242.4   53               10             0      M               1        15273         PA"
      ]
     },
     "execution_count": 25,
     "metadata": {},
     "output_type": "execute_result"
    }
   ],
   "source": [
    "obj = valib.TextAnalyzer(data=customers, columns=\"all\")\n",
    "obj.result"
   ]
  },
  {
   "cell_type": "code",
   "execution_count": 26,
   "id": "hispanic-manchester",
   "metadata": {},
   "outputs": [
    {
     "data": {
      "text/html": [
       "<style type=\"text/css\">\n",
       "\ttable {border:ridge 5px;}\n",
       "\ttable td {border:inset 1px;}\n",
       "\ttable tr#HeaderRow {background-color:grey; color:white;}</style>\n",
       "<html><table>\n",
       "\t<tr id=\"HeaderRow\">\n",
       "\t\t<th>Column Name</th>\n",
       "\t\t<th>Initial Database Type</th>\n",
       "\t\t<th>Min Max Type</th>\n",
       "\t\t<th>Sample Type</th>\n",
       "\t\t<th>Numeric Test Type</th>\n",
       "\t\t<th>Translatable To Latin</th>\n",
       "\t\t<th>Total Unicode Count</th>\n",
       "\t</tr>\n",
       "\t<tr>\n",
       "\t\t<td>gender</td>\n",
       "\t\t<td>VARCHAR(64000) CHARACTER SET LATIN</td>\n",
       "\t\t<td>VARCHAR(1)</td>\n",
       "\t\t<td>VARCHAR(1)</td>\n",
       "\t\t<td>VARCHAR(1)</td>\n",
       "\t\t<td>NA</td>\n",
       "\t\t<td>NA</td>\n",
       "\t</tr>\n",
       "\t<tr>\n",
       "\t\t<td>nbr_children</td>\n",
       "\t\t<td>INTEGER FORMAT '-(10)9'</td>\n",
       "\t\t<td>NA</td>\n",
       "\t\t<td>NA</td>\n",
       "\t\t<td>NA</td>\n",
       "\t\t<td>NA</td>\n",
       "\t\t<td>NA</td>\n",
       "\t</tr>\n",
       "\t<tr>\n",
       "\t\t<td>years_with_bank</td>\n",
       "\t\t<td>INTEGER FORMAT '-(10)9'</td>\n",
       "\t\t<td>NA</td>\n",
       "\t\t<td>NA</td>\n",
       "\t\t<td>NA</td>\n",
       "\t\t<td>NA</td>\n",
       "\t\t<td>NA</td>\n",
       "\t</tr>\n",
       "\t<tr>\n",
       "\t\t<td>postal_code</td>\n",
       "\t\t<td>VARCHAR(64000) CHARACTER SET LATIN</td>\n",
       "\t\t<td>INTEGER</td>\n",
       "\t\t<td>INTEGER</td>\n",
       "\t\t<td>INTEGER</td>\n",
       "\t\t<td>NA</td>\n",
       "\t\t<td>NA</td>\n",
       "\t</tr>\n",
       "\t<tr>\n",
       "\t\t<td>income</td>\n",
       "\t\t<td>DECIMAL(16,4) FORMAT '-------------.9999'</td>\n",
       "\t\t<td>NA</td>\n",
       "\t\t<td>NA</td>\n",
       "\t\t<td>NA</td>\n",
       "\t\t<td>NA</td>\n",
       "\t\t<td>NA</td>\n",
       "\t</tr>\n",
       "\t<tr>\n",
       "\t\t<td>age</td>\n",
       "\t\t<td>INTEGER FORMAT '-(10)9'</td>\n",
       "\t\t<td>NA</td>\n",
       "\t\t<td>NA</td>\n",
       "\t\t<td>NA</td>\n",
       "\t\t<td>NA</td>\n",
       "\t\t<td>NA</td>\n",
       "\t</tr>\n",
       "\t<tr>\n",
       "\t\t<td>state_code</td>\n",
       "\t\t<td>VARCHAR(64000) CHARACTER SET LATIN</td>\n",
       "\t\t<td>VARCHAR(2)</td>\n",
       "\t\t<td>VARCHAR(2)</td>\n",
       "\t\t<td>VARCHAR(2)</td>\n",
       "\t\t<td>NA</td>\n",
       "\t\t<td>NA</td>\n",
       "\t</tr>\n",
       "\t<tr>\n",
       "\t\t<td>marital_status</td>\n",
       "\t\t<td>INTEGER FORMAT '-(10)9'</td>\n",
       "\t\t<td>NA</td>\n",
       "\t\t<td>NA</td>\n",
       "\t\t<td>NA</td>\n",
       "\t\t<td>NA</td>\n",
       "\t\t<td>NA</td>\n",
       "\t</tr>\n",
       "\t<tr>\n",
       "\t\t<td>cust_id</td>\n",
       "\t\t<td>INTEGER FORMAT '-(10)9'</td>\n",
       "\t\t<td>NA</td>\n",
       "\t\t<td>NA</td>\n",
       "\t\t<td>NA</td>\n",
       "\t\t<td>NA</td>\n",
       "\t\t<td>NA</td>\n",
       "\t</tr>\n",
       "</table></html>"
      ],
      "text/plain": [
       "       Column Name                      Initial Database Type Min Max Type Sample Type Numeric Test Type Translatable To Latin Total Unicode Count\n",
       "0     nbr_children                    INTEGER FORMAT '-(10)9'           NA          NA                NA                    NA                  NA\n",
       "1   marital_status                    INTEGER FORMAT '-(10)9'           NA          NA                NA                    NA                  NA\n",
       "2       state_code         VARCHAR(64000) CHARACTER SET LATIN   VARCHAR(2)  VARCHAR(2)        VARCHAR(2)                    NA                  NA\n",
       "3           gender         VARCHAR(64000) CHARACTER SET LATIN   VARCHAR(1)  VARCHAR(1)        VARCHAR(1)                    NA                  NA\n",
       "4              age                    INTEGER FORMAT '-(10)9'           NA          NA                NA                    NA                  NA\n",
       "5           income  DECIMAL(16,4) FORMAT '-------------.9999'           NA          NA                NA                    NA                  NA\n",
       "6  years_with_bank                    INTEGER FORMAT '-(10)9'           NA          NA                NA                    NA                  NA\n",
       "7      postal_code         VARCHAR(64000) CHARACTER SET LATIN      INTEGER     INTEGER           INTEGER                    NA                  NA\n",
       "8          cust_id                    INTEGER FORMAT '-(10)9'           NA          NA                NA                    NA                  NA"
      ]
     },
     "execution_count": 26,
     "metadata": {},
     "output_type": "execute_result"
    }
   ],
   "source": [
    "obj.data_type_matrix"
   ]
  },
  {
   "cell_type": "markdown",
   "id": "bibliographic-webcam",
   "metadata": {},
   "source": [
    "#### Matrix Building\n",
    "\n",
    "Use as input to linear regression or to analyze matrices such as sum-of-squares and cross-products, covariance, and correlation.\n",
    "\n",
    "- ESSCP = Extended-sum-of-squares-and-cross-products matrix (default)\n",
    "- SSCP = sum-of-squares-and-cross-products matrix \n",
    "- CSSCP = Corrected-sum-of-squares-and-cross-products matrix\n",
    "- COV = Covariance matrix\n",
    "- COR = Correlation matrix\n",
    "\n",
    "`valib.Matrix(data, columns=None, exclude_columns=None, group_columns=None, matrix_output='columns', type='ESSCCP', handle_nulls='IGNORE', filter=None)`\n",
    "\n",
    "##### Example 1: Build a 3-by-3 ESSCP matrix on input columns 'age', 'years_with_bank', and 'nbr_children'."
   ]
  },
  {
   "cell_type": "code",
   "execution_count": null,
   "id": "stuffed-television",
   "metadata": {},
   "outputs": [],
   "source": [
    "obj = valib.Matrix(data=customers, columns=[\"age\", \"years_with_bank\", \"nbr_children\"])\n",
    "obj.result"
   ]
  },
  {
   "cell_type": "markdown",
   "id": "silent-store",
   "metadata": {},
   "source": [
    "##### Example 2: Build a 3-by-3 COR matrix by limiting the input data by filtering rows. Matrix is built on input columns 'age', 'years_with_bank', and 'nbr_children'."
   ]
  },
  {
   "cell_type": "code",
   "execution_count": null,
   "id": "middle-substance",
   "metadata": {},
   "outputs": [],
   "source": [
    "obj = valib.Matrix(data=customers,\n",
    "                   columns=[\"age\", \"years_with_bank\", \"nbr_children\"], \n",
    "                   filter=\"nbr_children > 1\",\n",
    "                   type=\"COR\")\n",
    "obj.result"
   ]
  },
  {
   "cell_type": "markdown",
   "id": "equivalent-somalia",
   "metadata": {},
   "source": [
    "#### Variable Transformations\n",
    "The Variable Transformation analysis reads a single table or view and produces a Select, Create Table, or\n",
    "Create View statement containing transformed columns. This is useful when preparing data for input to an\n",
    "analytic algorithm. \n",
    "\n",
    "Function supports following transformations:\n",
    "- **Binning** - Binning replaces a continuous numeric column with a categorical one to produce ordinal values.\n",
    "- **Derive** - The Derive transformation requires the free-form transformation be specified as a formula.\n",
    "- **One Hot Encoding** - One Hot Encoding is useful when a categorical data element must be re-expressed as one or more numeric data elements, creating a binary numeric field for each categorical data value.\n",
    "- **Missing Value** Treatment or Null Replacement.\n",
    "- **Label Encoding** - Allows to re-express existing values of a categorical data column (variable) into a new coding scheme or to correct data quality problems and focus an analysis on a value.\n",
    "- **Min-Max Scaling** - Limits the upper and lower boundaries of the data in a continuous numeric column using a linear rescaling function based on maximum and minimum data values.\n",
    "- **Retain** - Allows copying of one or more columns into the final analytic data set.\n",
    "- **Sigmoid** - Provides rescaling of continuous numeric data using a type of sigmoid or s-shaped function.\n",
    "- **ZScore** - Provides rescaling of continuous numeric data using Z-Scores.\n",
    "\n",
    "`Transform(data, bins=None, derive=None, one_hot_encode=None, fillna=None, label_encode=None, rescale=None, retain=None, sigmoid=None, zscore=None, fallback=False, index_columns=None, unique_index=False, key_columns=None, allow_duplicates=None, nopi=None, filter=None)`\n",
    "\n",
    "##### Binning performed on column \"income\" with different number of bins."
   ]
  },
  {
   "cell_type": "code",
   "execution_count": null,
   "id": "widespread-purse",
   "metadata": {},
   "outputs": [],
   "source": [
    "bin_1 = Binning(style=\"bins\", value=3, columns=\"income\", out_columns=\"inc1\")\n",
    "bin_2 = Binning(style=\"bins\", value=4, columns=\"income\", out_columns=\"inc2\")\n",
    "bin_3 = Binning(style=\"bins\", value=5, columns=\"income\", out_columns=\"inc3\")"
   ]
  },
  {
   "cell_type": "markdown",
   "id": "hourly-change",
   "metadata": {},
   "source": [
    "##### Derive transformation done on \"age\" column with different arithmetic formula."
   ]
  },
  {
   "cell_type": "code",
   "execution_count": null,
   "id": "regular-moisture",
   "metadata": {},
   "outputs": [],
   "source": [
    "derive_1 = Derive(formula=\"x/10\", columns=\"age\", out_column=\"age1\")\n",
    "derive_2 = Derive(formula=\"x*10\", columns=\"age\", out_column=\"age2\")\n",
    "derive_3 = Derive(formula=\"x+10\", columns=\"age\", out_column=\"age3\") "
   ]
  },
  {
   "cell_type": "markdown",
   "id": "needed-monkey",
   "metadata": {},
   "source": [
    "##### One hot encoding done for values in columns \"gender\" and \"marital_status\"."
   ]
  },
  {
   "cell_type": "code",
   "execution_count": null,
   "id": "initial-massachusetts",
   "metadata": {},
   "outputs": [],
   "source": [
    "dc_1 = OneHotEncoder(values=[\"M\", \"F\"], columns=\"gender\")\n",
    "dc_2 = OneHotEncoder(values=[1, 2, 3, 4], columns=\"marital_status\")"
   ]
  },
  {
   "cell_type": "markdown",
   "id": "chicken-castle",
   "metadata": {},
   "source": [
    "##### Replace null values in column \"income\", by using 'mean' null style."
   ]
  },
  {
   "cell_type": "code",
   "execution_count": null,
   "id": "baking-seafood",
   "metadata": {},
   "outputs": [],
   "source": [
    "fn_1 = FillNa(columns=\"income\", out_columns=\"income_x\")"
   ]
  },
  {
   "cell_type": "markdown",
   "id": "christian-hurricane",
   "metadata": {},
   "source": [
    "##### Values in column \"age\" are rescaled using MinMaxScalar using\n",
    "1. Both lower bound and upper bound,\n",
    "2. Only lower bound,\n",
    "3. Only upper bound."
   ]
  },
  {
   "cell_type": "code",
   "execution_count": null,
   "id": "advised-organizer",
   "metadata": {},
   "outputs": [],
   "source": [
    "rs_1 = MinMaxScalar(lbound=0, ubound=100, columns=\"age\", out_columns=\"age4\")\n",
    "rs_2 = MinMaxScalar(lbound=0, ubound=None, columns=\"age\", out_columns=\"age5\")\n",
    "rs_3 = MinMaxScalar(lbound=None, ubound=100, columns=\"age\", out_columns=\"age6\") "
   ]
  },
  {
   "cell_type": "markdown",
   "id": "homeless-lexington",
   "metadata": {},
   "source": [
    "##### Rescale values in column \"nbr_children\" using various sigmoid functions."
   ]
  },
  {
   "cell_type": "code",
   "execution_count": null,
   "id": "tired-canadian",
   "metadata": {},
   "outputs": [],
   "source": [
    "sig_1 = Sigmoid(style=\"logit\", columns=\"nbr_children\", out_columns=\"nbr1\")\n",
    "sig_2 = Sigmoid(style=\"modifiedlogit\", columns=\"nbr_children\", out_columns=\"nbr2\")\n",
    "sig_3 = Sigmoid(style=\"tanh\", columns=\"nbr_children\", out_columns=\"nbr3\")"
   ]
  },
  {
   "cell_type": "markdown",
   "id": "industrial-warning",
   "metadata": {},
   "source": [
    "##### Rescale values in column \"years_with_bank\" using Z-Score values."
   ]
  },
  {
   "cell_type": "code",
   "execution_count": null,
   "id": "discrete-think",
   "metadata": {},
   "outputs": [],
   "source": [
    "zscore = ZScore(columns=\"years_with_bank\", out_columns=\"ywb\") "
   ]
  },
  {
   "cell_type": "markdown",
   "id": "geological-wrestling",
   "metadata": {},
   "source": [
    "##### Retain columns \"income\", \"age\", \"years_with_bank\" and \"nbr_children\" in the transformed output."
   ]
  },
  {
   "cell_type": "code",
   "execution_count": null,
   "id": "moral-squad",
   "metadata": {},
   "outputs": [],
   "source": [
    "retain = Retain(columns=[\"income\", \"age\", \"years_with_bank\", \"nbr_children\"])"
   ]
  },
  {
   "cell_type": "markdown",
   "id": "83b6ec2f-9476-47eb-946c-3541cea62447",
   "metadata": {},
   "source": [
    "#### Apply all transformations at once"
   ]
  },
  {
   "cell_type": "code",
   "execution_count": null,
   "id": "artificial-steps",
   "metadata": {},
   "outputs": [],
   "source": [
    "obj = valib.Transform(data=customers, \n",
    "                      bins=[bin_1, bin_2, bin_3],\n",
    "                      derive=[derive_1, derive_2, derive_3],\n",
    "                      one_hot_encode=[dc_1, dc_2],\n",
    "                      fillna=[fn_1],\n",
    "                      rescale=[rs_1, rs_2, rs_3],\n",
    "                      retain=retain,\n",
    "                      sigmoid=[sig_1, sig_2, sig_3],\n",
    "                      zscore=zscore,\n",
    "                      key_columns=\"cust_id\")"
   ]
  },
  {
   "cell_type": "code",
   "execution_count": null,
   "id": "fabulous-mainland",
   "metadata": {},
   "outputs": [],
   "source": [
    "obj.result"
   ]
  },
  {
   "cell_type": "markdown",
   "id": "bearing-standing",
   "metadata": {},
   "source": [
    "### Remove context\n",
    "This best practice performs garbage collection for the volatile tables and views that were created during this session."
   ]
  },
  {
   "cell_type": "code",
   "execution_count": null,
   "id": "reasonable-providence",
   "metadata": {},
   "outputs": [],
   "source": [
    "# One must run remove_context() to close the connection and garbage collect internally generated objects.\n",
    "remove_context()"
   ]
  },
  {
   "cell_type": "markdown",
   "id": "f1491f16-df5c-4850-a005-9cfda5eb1b3e",
   "metadata": {},
   "source": [
    "<span style=\"font-size:16px;\">For online documentation on Teradata Vantage analytic functions, refer to the [Teradata Developer Portal](https://docs.teradata.com/) and search for phrases \"Python User Guide\" and \"Python Function Reference\".</span>"
   ]
  }
 ],
 "metadata": {
  "kernelspec": {
   "display_name": "Python3.10",
   "language": "python",
   "name": "python310"
  },
  "language_info": {
   "codemirror_mode": {
    "name": "ipython",
    "version": 3
   },
   "file_extension": ".py",
   "mimetype": "text/x-python",
   "name": "python",
   "nbconvert_exporter": "python",
   "pygments_lexer": "ipython3",
   "version": "3.10.13"
  }
 },
 "nbformat": 4,
 "nbformat_minor": 5
}

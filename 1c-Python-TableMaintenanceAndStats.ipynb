{
 "cells": [
  {
   "cell_type": "markdown",
   "id": "4718832d",
   "metadata": {},
   "source": [
    "## Table and view maintenance\n",
    "###  Topics\n",
    "#### 1) Executing an SQL command with no response rows\n",
    "*  Drop Statistics <BR>\n",
    "*  Collect Statistics <BR>\n",
    "#### 2) Executing an SQL command with rows return using cursor processing\n",
    "NOTE : This technique is intended for small answersets returned and should not be used to bypass the power of the teradataml.DataFrame object <BR>\n",
    "* Show tables in my datebase created by me and how much space they are using<BR>\n",
    "* Drop tables<BR>\n",
    "* Help Statistics - shows statistics for a table<BR>\n",
    "* Help Table - shows table columns and attributes<BR>\n",
    "* Help View  - shows view columns<BR>\n"
   ]
  },
  {
   "cell_type": "code",
   "execution_count": 73,
   "id": "4b135e2e-eb54-4813-a64b-03075563f6d4",
   "metadata": {},
   "outputs": [],
   "source": [
    "#  needed to display scrolling data frame outputs below\n",
    "#!pip install Jinja2"
   ]
  },
  {
   "cell_type": "code",
   "execution_count": 74,
   "id": "f2bc02f5",
   "metadata": {},
   "outputs": [],
   "source": [
    "#  imports \n",
    "import getpass as gp\n",
    "import yaml\n",
    "\n",
    "\n",
    "# for manageing connections\n",
    "from teradataml import create_context, get_context, remove_context, in_schema\n",
    "\n",
    "# for setting configure options\n",
    "from teradataml import configure\n",
    "\n",
    "# for dropping or viewint tables and views\n",
    "from teradataml.dbutils.dbutils import db_drop_table, db_drop_view, db_list_tables\n",
    "\n",
    "# for defining SQL data types\n",
    "from teradatasqlalchemy.types import *\n",
    "\n",
    "import pandas as pd\n",
    "import numpy as np\n",
    "from IPython.display import display, HTML\n",
    "\n",
    "# DataFrames\n",
    "from teradataml.dataframe.dataframe import DataFrame, in_schema\n",
    "import pandas as pd\n",
    "import numpy as np\n",
    "\n",
    "# for dropping tables or views\n",
    "from teradataml.dbutils.dbutils import db_drop_table, db_drop_view \n",
    "\n"
   ]
  },
  {
   "cell_type": "code",
   "execution_count": 36,
   "id": "bfe1a288",
   "metadata": {},
   "outputs": [],
   "source": [
    "#help(\"teradataml.dbutils.dbutils\")"
   ]
  },
  {
   "cell_type": "code",
   "execution_count": 37,
   "id": "42cac08f",
   "metadata": {},
   "outputs": [],
   "source": [
    "user = 'jsumme17'\n",
    "#user = gp.getpass(\"User: \")"
   ]
  },
  {
   "cell_type": "code",
   "execution_count": 38,
   "id": "9a3471c7",
   "metadata": {},
   "outputs": [
    {
     "name": "stdin",
     "output_type": "stream",
     "text": [
      "Password ········\n"
     ]
    }
   ],
   "source": [
    "password = gp.getpass(\"Password\")"
   ]
  },
  {
   "cell_type": "code",
   "execution_count": 39,
   "id": "7475ef47",
   "metadata": {},
   "outputs": [],
   "source": [
    "host = 'udwprod'\n",
    "database = 'MLA_BOPS'\n",
    "temp_database = 'MLA_BOPS'\n",
    "sourceDB = 'MLA_BOPS'\n",
    "logmech = 'LDAP'"
   ]
  },
  {
   "cell_type": "code",
   "execution_count": 42,
   "id": "866391e2",
   "metadata": {},
   "outputs": [
    {
     "name": "stderr",
     "output_type": "stream",
     "text": [
      "/home/jsumme17/conda/lib/python3.8/site-packages/teradataml/context/context.py:480: UserWarning: Warning: Password is URL encoded.\n",
      "  warnings.warn(\"Warning: Password is URL encoded.\")\n"
     ]
    }
   ],
   "source": [
    "td_context = create_context(host = host, \n",
    "                            username= user, \n",
    "                            password = password, \n",
    "                            database = database,\n",
    "                            temp_database_name = database,\n",
    "                            sslmode = 'ALLOW',\n",
    "                            logmech=logmech)"
   ]
  },
  {
   "cell_type": "markdown",
   "id": "be27a101",
   "metadata": {},
   "source": [
    "### Here we will create a connection, derived from the context object to use with the execute method "
   ]
  },
  {
   "cell_type": "code",
   "execution_count": 43,
   "id": "832b17b2",
   "metadata": {},
   "outputs": [],
   "source": [
    "conn = td_context.connect()"
   ]
  },
  {
   "cell_type": "markdown",
   "id": "d980292c",
   "metadata": {},
   "source": [
    "#### Here's a simple SQL statement which executes and command and returns no rows (no cursor required) \n",
    "This is the Database command, setting the default database for the session."
   ]
  },
  {
   "cell_type": "code",
   "execution_count": 44,
   "id": "ed8329ab",
   "metadata": {},
   "outputs": [
    {
     "name": "stdout",
     "output_type": "stream",
     "text": [
      "Database MLA_BOPS;\n"
     ]
    },
    {
     "data": {
      "text/plain": [
       "<sqlalchemy.engine.cursor.LegacyCursorResult at 0x7f7d18097f10>"
      ]
     },
     "execution_count": 44,
     "metadata": {},
     "output_type": "execute_result"
    }
   ],
   "source": [
    "SQLstr = f\"Database {sourceDB};\"\n",
    "print(SQLstr)\n",
    "conn.execute(SQLstr)"
   ]
  },
  {
   "cell_type": "markdown",
   "id": "f9390d3b-5788-4957-877e-46be48b324dc",
   "metadata": {},
   "source": [
    "#### next we will create a copy of a table to use for this demo\n"
   ]
  },
  {
   "cell_type": "code",
   "execution_count": 45,
   "id": "409542f9-344f-45ea-b06c-fa1f0af212d1",
   "metadata": {},
   "outputs": [
    {
     "name": "stdout",
     "output_type": "stream",
     "text": [
      "Create table jsumme17_demo_species as demo_species with data and statistics;\n"
     ]
    },
    {
     "data": {
      "text/plain": [
       "<sqlalchemy.engine.cursor.LegacyCursorResult at 0x7f7dc77ca250>"
      ]
     },
     "execution_count": 45,
     "metadata": {},
     "output_type": "execute_result"
    }
   ],
   "source": [
    "SQLstr = f\"Create table {user}_demo_species as demo_species with data and statistics;\"\n",
    "print(SQLstr)\n",
    "conn.execute(SQLstr)"
   ]
  },
  {
   "cell_type": "markdown",
   "id": "d90d949b",
   "metadata": {},
   "source": [
    "### Here's set up to create a cursor object, needed for returning result sets.\n",
    "#### In order to use the sqlalchemy cursor, we have to use the connection.connection object documented in SQLAlchemy\n",
    "This code does the process in two steps<BR>\n",
    "  cur_conn = conn.connection<BR>\n",
    "  cursor_obj = cur_conn.cursor()<BR>\n",
    "  More information here : https://docs.sqlalchemy.org/en/20/core/connections.html<BR>\n"
   ]
  },
  {
   "cell_type": "code",
   "execution_count": 46,
   "id": "2f8de18b",
   "metadata": {},
   "outputs": [],
   "source": [
    "# here's a single step, using the original connection context object\n",
    "cursor_obj = conn.connection.cursor()"
   ]
  },
  {
   "cell_type": "markdown",
   "id": "63d8fbdf",
   "metadata": {},
   "source": [
    "#### Run SQL to determine tables and space consumed under a specific database"
   ]
  },
  {
   "cell_type": "code",
   "execution_count": 78,
   "id": "c0d2202d",
   "metadata": {},
   "outputs": [],
   "source": [
    "#  In this example the default database is indentified by {sourceDB}\n",
    "#  This is also filter on tables only created by the user based on this logic below\n",
    "#      \"  and t.creatorname = user\" \n",
    "sSelect = f'''Select t.databasename\n",
    ",t.tablename\n",
    ",CASE t.Tablekind\n",
    "WHEN 'T'  then 'Table-indexed'\n",
    "WHEN 'V'  then 'View'\n",
    "WHEN 'O'  then 'Table-No Index'\n",
    "WHEN 'A'  then 'Aggregate function'\n",
    "WHEN 'P'  then 'Stored Procedure'\n",
    "WHEN 'I'  then 'Join Index'\n",
    "WHEN 'X'  then 'Auth. Obj.'\n",
    "WHEN 'K'  then 'Foreign Server Object'\n",
    "WHEN '2'  then 'Function Alias Object'\n",
    "ELSE      'Object type:' || t.Tablekind \n",
    "END Object_Type\n",
    ",sum(coalesce(ts.currentperm,0)) as space_bytes\n",
    ",max(x.dbperm) as perm_avail\n",
    ",(space_bytes * 100.000) / perm_avail  as pct_used\n",
    "from dbc.tablesv t\n",
    "left join dbc.tablesizev ts\n",
    "on t.databasename = ts.databasename\n",
    "and t.tablename = ts.tablename\n",
    "cross join (sel sum(permspace) as dbperm from dbc.databasesv where databasename = '{sourceDB}' ) x\n",
    "where t.databasename = '{sourceDB}'\n",
    "and t.creatorname = user\n",
    "group by 1,2,3\n",
    "order by 3,6 desc,1,2;'''\n",
    "#print(sSelect)"
   ]
  },
  {
   "cell_type": "code",
   "execution_count": 50,
   "id": "ce4b248e",
   "metadata": {},
   "outputs": [
    {
     "name": "stdout",
     "output_type": "stream",
     "text": [
      "Cursor built\n"
     ]
    }
   ],
   "source": [
    "try:\n",
    "    cursor_obj.execute(sSelect)\n",
    "    print('Cursor built')\n",
    "except:\n",
    "    print('cursor failed')"
   ]
  },
  {
   "cell_type": "code",
   "execution_count": 52,
   "id": "5b859811",
   "metadata": {},
   "outputs": [
    {
     "name": "stdout",
     "output_type": "stream",
     "text": [
      "Dataframe built\n"
     ]
    }
   ],
   "source": [
    "try:\n",
    "    dflocal = pd.DataFrame(cursor_obj.fetchall(),columns=[col_desc[0] for col_desc in cursor_obj.description])\n",
    "    print('Dataframe built')\n",
    "except:\n",
    "    print('dataframe build failed')"
   ]
  },
  {
   "cell_type": "code",
   "execution_count": 53,
   "id": "85d27412",
   "metadata": {},
   "outputs": [
    {
     "data": {
      "text/html": [
       "<div style='height: 250px; overflow: auto; width: fit-content'><table border=\"1\" class=\"dataframe\">\n",
       "  <thead>\n",
       "    <tr style=\"text-align: right;\">\n",
       "      <th></th>\n",
       "      <th>DataBaseName</th>\n",
       "      <th>TableName</th>\n",
       "      <th>Object_Type</th>\n",
       "      <th>space_bytes</th>\n",
       "      <th>perm_avail</th>\n",
       "      <th>pct_used</th>\n",
       "    </tr>\n",
       "  </thead>\n",
       "  <tbody>\n",
       "    <tr>\n",
       "      <th>0</th>\n",
       "      <td>MLA_BOPS</td>\n",
       "      <td>jsumm17_prov_geo_large</td>\n",
       "      <td>Table-indexed</td>\n",
       "      <td>6116876288</td>\n",
       "      <td>3566973212352</td>\n",
       "      <td>0.171</td>\n",
       "    </tr>\n",
       "    <tr>\n",
       "      <th>1</th>\n",
       "      <td>MLA_BOPS</td>\n",
       "      <td>jsumm17_members_mn</td>\n",
       "      <td>Table-indexed</td>\n",
       "      <td>1243070464</td>\n",
       "      <td>3566973212352</td>\n",
       "      <td>0.035</td>\n",
       "    </tr>\n",
       "    <tr>\n",
       "      <th>2</th>\n",
       "      <td>MLA_BOPS</td>\n",
       "      <td>JSUMME17_sys_queries</td>\n",
       "      <td>Table-indexed</td>\n",
       "      <td>109355008</td>\n",
       "      <td>3566973212352</td>\n",
       "      <td>0.003</td>\n",
       "    </tr>\n",
       "    <tr>\n",
       "      <th>3</th>\n",
       "      <td>MLA_BOPS</td>\n",
       "      <td>JSUMME17_sys_queries_mv</td>\n",
       "      <td>Table-indexed</td>\n",
       "      <td>97411072</td>\n",
       "      <td>3566973212352</td>\n",
       "      <td>0.003</td>\n",
       "    </tr>\n",
       "    <tr>\n",
       "      <th>4</th>\n",
       "      <td>MLA_BOPS</td>\n",
       "      <td>jsumme17_nicecustaddress20221122</td>\n",
       "      <td>Table-indexed</td>\n",
       "      <td>73908224</td>\n",
       "      <td>3566973212352</td>\n",
       "      <td>0.002</td>\n",
       "    </tr>\n",
       "    <tr>\n",
       "      <th>5</th>\n",
       "      <td>MLA_BOPS</td>\n",
       "      <td>jsumm17_prov_geo</td>\n",
       "      <td>Table-indexed</td>\n",
       "      <td>38313984</td>\n",
       "      <td>3566973212352</td>\n",
       "      <td>0.001</td>\n",
       "    </tr>\n",
       "    <tr>\n",
       "      <th>6</th>\n",
       "      <td>MLA_BOPS</td>\n",
       "      <td>jsumme17_hier</td>\n",
       "      <td>Table-indexed</td>\n",
       "      <td>19783680</td>\n",
       "      <td>3566973212352</td>\n",
       "      <td>0.001</td>\n",
       "    </tr>\n",
       "    <tr>\n",
       "      <th>7</th>\n",
       "      <td>MLA_BOPS</td>\n",
       "      <td>jsumme17_cnty_ab</td>\n",
       "      <td>Table-indexed</td>\n",
       "      <td>7094272</td>\n",
       "      <td>3566973212352</td>\n",
       "      <td>0.000</td>\n",
       "    </tr>\n",
       "    <tr>\n",
       "      <th>8</th>\n",
       "      <td>MLA_BOPS</td>\n",
       "      <td>jsumme17_nicecoverageplan20221121</td>\n",
       "      <td>Table-indexed</td>\n",
       "      <td>7077888</td>\n",
       "      <td>3566973212352</td>\n",
       "      <td>0.000</td>\n",
       "    </tr>\n",
       "    <tr>\n",
       "      <th>9</th>\n",
       "      <td>MLA_BOPS</td>\n",
       "      <td>jsumme17_svc_accts</td>\n",
       "      <td>Table-indexed</td>\n",
       "      <td>10272768</td>\n",
       "      <td>3566973212352</td>\n",
       "      <td>0.000</td>\n",
       "    </tr>\n",
       "    <tr>\n",
       "      <th>10</th>\n",
       "      <td>MLA_BOPS</td>\n",
       "      <td>OLD_jsumme17_nicecoverageplan20221121</td>\n",
       "      <td>Table-indexed</td>\n",
       "      <td>7077888</td>\n",
       "      <td>3566973212352</td>\n",
       "      <td>0.000</td>\n",
       "    </tr>\n",
       "    <tr>\n",
       "      <th>11</th>\n",
       "      <td>MLA_BOPS</td>\n",
       "      <td>TwmExploreFrequency</td>\n",
       "      <td>Table-indexed</td>\n",
       "      <td>7938048</td>\n",
       "      <td>3566973212352</td>\n",
       "      <td>0.000</td>\n",
       "    </tr>\n",
       "    <tr>\n",
       "      <th>12</th>\n",
       "      <td>MLA_BOPS</td>\n",
       "      <td>TwmExploreHistogram</td>\n",
       "      <td>Table-indexed</td>\n",
       "      <td>7520256</td>\n",
       "      <td>3566973212352</td>\n",
       "      <td>0.000</td>\n",
       "    </tr>\n",
       "    <tr>\n",
       "      <th>13</th>\n",
       "      <td>MLA_BOPS</td>\n",
       "      <td>TwmExploreStatistics</td>\n",
       "      <td>Table-indexed</td>\n",
       "      <td>7127040</td>\n",
       "      <td>3566973212352</td>\n",
       "      <td>0.000</td>\n",
       "    </tr>\n",
       "    <tr>\n",
       "      <th>14</th>\n",
       "      <td>MLA_BOPS</td>\n",
       "      <td>TwmExploreValues</td>\n",
       "      <td>Table-indexed</td>\n",
       "      <td>7200768</td>\n",
       "      <td>3566973212352</td>\n",
       "      <td>0.000</td>\n",
       "    </tr>\n",
       "    <tr>\n",
       "      <th>15</th>\n",
       "      <td>MLA_BOPS</td>\n",
       "      <td>_adaptive_example3</td>\n",
       "      <td>Table-indexed</td>\n",
       "      <td>7168000</td>\n",
       "      <td>3566973212352</td>\n",
       "      <td>0.000</td>\n",
       "    </tr>\n",
       "    <tr>\n",
       "      <th>16</th>\n",
       "      <td>MLA_BOPS</td>\n",
       "      <td>_val_text_field_analysis1</td>\n",
       "      <td>Table-indexed</td>\n",
       "      <td>12058624</td>\n",
       "      <td>3566973212352</td>\n",
       "      <td>0.000</td>\n",
       "    </tr>\n",
       "    <tr>\n",
       "      <th>17</th>\n",
       "      <td>MLA_BOPS</td>\n",
       "      <td>_val_text_field_analysis1_rpt</td>\n",
       "      <td>Table-indexed</td>\n",
       "      <td>7200768</td>\n",
       "      <td>3566973212352</td>\n",
       "      <td>0.000</td>\n",
       "    </tr>\n",
       "    <tr>\n",
       "      <th>18</th>\n",
       "      <td>MLA_BOPS</td>\n",
       "      <td>jsumme17_combined_activity</td>\n",
       "      <td>Table-No Index</td>\n",
       "      <td>14761984</td>\n",
       "      <td>3566973212352</td>\n",
       "      <td>0.000</td>\n",
       "    </tr>\n",
       "    <tr>\n",
       "      <th>19</th>\n",
       "      <td>MLA_BOPS</td>\n",
       "      <td>jsumme17_demo_species</td>\n",
       "      <td>Table-No Index</td>\n",
       "      <td>7094272</td>\n",
       "      <td>3566973212352</td>\n",
       "      <td>0.000</td>\n",
       "    </tr>\n",
       "    <tr>\n",
       "      <th>20</th>\n",
       "      <td>MLA_BOPS</td>\n",
       "      <td>jsumme17_tablelist</td>\n",
       "      <td>Table-No Index</td>\n",
       "      <td>7217152</td>\n",
       "      <td>3566973212352</td>\n",
       "      <td>0.000</td>\n",
       "    </tr>\n",
       "  </tbody>\n",
       "</table></div>"
      ],
      "text/plain": [
       "<IPython.core.display.HTML object>"
      ]
     },
     "metadata": {},
     "output_type": "display_data"
    }
   ],
   "source": [
    "# use this to display a table with a scroll bar\n",
    "display(HTML(\"<div style='height: 250px; overflow: auto; width: fit-content'>\" +\n",
    "             dflocal.to_html() +\n",
    "             \"</div>\"))"
   ]
  },
  {
   "cell_type": "markdown",
   "id": "b90513c4-c274-4736-817e-c3522d65793e",
   "metadata": {},
   "source": [
    "### Should I want to drop tables, I can use this code "
   ]
  },
  {
   "cell_type": "code",
   "execution_count": null,
   "id": "e88bfdee-0ec4-4f55-9154-99274b52aa51",
   "metadata": {},
   "outputs": [],
   "source": [
    "try:\n",
    "    db_drop_table('jsumme17_demo_species')\n",
    "    db_drop_table('jsumme17_demo2')\n",
    "    db_drop_table('jsumme17_demo3')\n",
    "    db_drop_table('jsumme17_demo4')\n",
    "except: \n",
    "    pass"
   ]
  },
  {
   "cell_type": "markdown",
   "id": "52717a72",
   "metadata": {},
   "source": [
    "## Here we will show to display and collect statistics\n",
    "### First we will issue an SQL command to drop the existing statistics"
   ]
  },
  {
   "cell_type": "code",
   "execution_count": 57,
   "id": "fb72d6a5",
   "metadata": {},
   "outputs": [
    {
     "data": {
      "text/plain": [
       "<sqlalchemy.engine.cursor.LegacyCursorResult at 0x7f7cb9752fd0>"
      ]
     },
     "execution_count": 57,
     "metadata": {},
     "output_type": "execute_result"
    }
   ],
   "source": [
    "SQLstr = F'''drop stats on {sourceDB}.jsumme17_demo_species;'''\n",
    "SQLstr\n",
    "conn.execute(SQLstr)"
   ]
  },
  {
   "cell_type": "markdown",
   "id": "bf431773",
   "metadata": {},
   "source": [
    "### Run the help stats command to show stats on an object\n",
    "This will return \"No Stats Found\" because we just dropped the stats on that table"
   ]
  },
  {
   "cell_type": "code",
   "execution_count": 59,
   "id": "c1f4c209",
   "metadata": {},
   "outputs": [
    {
     "name": "stdout",
     "output_type": "stream",
     "text": [
      "No Stats Found\n"
     ]
    }
   ],
   "source": [
    "sSelect = f'''help stats {sourceDB}.jsumme17_demo_species;'''\n",
    "try:\n",
    "    cursor_obj.execute(sSelect)\n",
    "    dflocal = pd.DataFrame(cursor_obj.fetchall(),columns=[col_desc[0] for col_desc in cursor_obj.description])\n",
    "except:\n",
    "    print('No Stats Found')"
   ]
  },
  {
   "cell_type": "markdown",
   "id": "4f42216d",
   "metadata": {},
   "source": [
    "### Now collect statistics on two columns, species_id and genus\n",
    "##### Options for collecting stats are:\n",
    "#####  Index version :   Collect stats on mytable  index(indexcol1.... indexcol2);\n",
    "#####  Column version :   Collect stats on mytable  Column(mycolumn);\n",
    "    "
   ]
  },
  {
   "cell_type": "code",
   "execution_count": 60,
   "id": "7c8db2df",
   "metadata": {},
   "outputs": [
    {
     "data": {
      "text/plain": [
       "<sqlalchemy.engine.cursor.LegacyCursorResult at 0x7f7d1809e970>"
      ]
     },
     "execution_count": 60,
     "metadata": {},
     "output_type": "execute_result"
    }
   ],
   "source": [
    "SQLstr = F'''collect stats on {sourceDB}.jsumme17_demo_species column(species_id);'''\n",
    "conn.execute(SQLstr)\n",
    "SQLstr = F'''collect stats on {sourceDB}.jsumme17_demo_species column(genus);'''\n",
    "conn.execute(SQLstr)"
   ]
  },
  {
   "cell_type": "markdown",
   "id": "599bed76",
   "metadata": {},
   "source": [
    "### Now let's see the stats we created "
   ]
  },
  {
   "cell_type": "code",
   "execution_count": 79,
   "id": "8efea648",
   "metadata": {},
   "outputs": [
    {
     "name": "stdout",
     "output_type": "stream",
     "text": [
      "no stats found\n"
     ]
    }
   ],
   "source": [
    "sSelect = f'''help stats {sourceDB}.jsumme17_demo_species;'''\n",
    "try:\n",
    "    cursor_obj.execute(sSelect)\n",
    "    dflocal = pd.DataFrame(cursor_obj.fetchall(),columns=[col_desc[0] for col_desc in cursor_obj.description])\n",
    "except:\n",
    "    print('no stats found')"
   ]
  },
  {
   "cell_type": "code",
   "execution_count": 63,
   "id": "d232b1ac",
   "metadata": {},
   "outputs": [
    {
     "data": {
      "text/html": [
       "<div style='height: 250px; overflow: auto; width: fit-content'><table border=\"1\" class=\"dataframe\">\n",
       "  <thead>\n",
       "    <tr style=\"text-align: right;\">\n",
       "      <th></th>\n",
       "      <th>Date</th>\n",
       "      <th>Time</th>\n",
       "      <th>Unique Values</th>\n",
       "      <th>Column Names</th>\n",
       "      <th>Column Dictionary Names</th>\n",
       "      <th>Column SQL Names</th>\n",
       "      <th>Column Names UEscape</th>\n",
       "    </tr>\n",
       "  </thead>\n",
       "  <tbody>\n",
       "    <tr>\n",
       "      <th>0</th>\n",
       "      <td>23/03/03</td>\n",
       "      <td>11:57:39</td>\n",
       "      <td>54</td>\n",
       "      <td>*</td>\n",
       "      <td>*</td>\n",
       "      <td>\"*\"</td>\n",
       "      <td>None</td>\n",
       "    </tr>\n",
       "    <tr>\n",
       "      <th>1</th>\n",
       "      <td>23/03/03</td>\n",
       "      <td>11:57:38</td>\n",
       "      <td>54</td>\n",
       "      <td>species_id</td>\n",
       "      <td>species_id</td>\n",
       "      <td>species_id</td>\n",
       "      <td>None</td>\n",
       "    </tr>\n",
       "    <tr>\n",
       "      <th>2</th>\n",
       "      <td>23/03/03</td>\n",
       "      <td>11:57:39</td>\n",
       "      <td>30</td>\n",
       "      <td>genus</td>\n",
       "      <td>genus</td>\n",
       "      <td>genus</td>\n",
       "      <td>None</td>\n",
       "    </tr>\n",
       "  </tbody>\n",
       "</table></div>"
      ],
      "text/plain": [
       "<IPython.core.display.HTML object>"
      ]
     },
     "metadata": {},
     "output_type": "display_data"
    }
   ],
   "source": [
    "# use this to display a table with a scroll bar\n",
    "display(HTML(\"<div style='height: fit-content; overflow: auto; width: fit-content'>\" +\n",
    "             dflocal.to_html() +\n",
    "             \"</div>\"))"
   ]
  },
  {
   "cell_type": "markdown",
   "id": "1da7e7f4",
   "metadata": {},
   "source": [
    "### HELP TABLE is another useful option"
   ]
  },
  {
   "cell_type": "code",
   "execution_count": 64,
   "id": "00fd0b43",
   "metadata": {},
   "outputs": [],
   "source": [
    "sSelect = f'''help table {sourceDB}.jsumme17_demo_species;'''"
   ]
  },
  {
   "cell_type": "code",
   "execution_count": 65,
   "id": "fb0eb812",
   "metadata": {},
   "outputs": [],
   "source": [
    "try:\n",
    "    cursor_obj.execute(sSelect)\n",
    "    dflocal = pd.DataFrame(cursor_obj.fetchall(),columns=[col_desc[0] for col_desc in cursor_obj.description])\n",
    "except:\n",
    "    print('no columns found')\n",
    "    pass"
   ]
  },
  {
   "cell_type": "code",
   "execution_count": 66,
   "id": "0b98eb7e",
   "metadata": {},
   "outputs": [
    {
     "data": {
      "text/html": [
       "<div style='height: 250px; overflow: auto; width: fit-content'><table border=\"1\" class=\"dataframe\">\n",
       "  <thead>\n",
       "    <tr style=\"text-align: right;\">\n",
       "      <th></th>\n",
       "      <th>Column Name</th>\n",
       "      <th>Type</th>\n",
       "      <th>Comment</th>\n",
       "      <th>Nullable</th>\n",
       "      <th>Format</th>\n",
       "      <th>Title</th>\n",
       "      <th>Max Length</th>\n",
       "      <th>Decimal Total Digits</th>\n",
       "      <th>Decimal Fractional Digits</th>\n",
       "      <th>Range Low</th>\n",
       "      <th>Range High</th>\n",
       "      <th>UpperCase</th>\n",
       "      <th>Table/View?</th>\n",
       "      <th>Default value</th>\n",
       "      <th>Char Type</th>\n",
       "      <th>IdCol Type</th>\n",
       "      <th>UDT Name</th>\n",
       "      <th>Temporal</th>\n",
       "      <th>Column Dictionary Name</th>\n",
       "      <th>Column SQL Name</th>\n",
       "      <th>Column Name UEscape</th>\n",
       "      <th>Dictionary Title</th>\n",
       "      <th>SQL Title</th>\n",
       "      <th>Title UEscape</th>\n",
       "      <th>UDT Dictionary Name</th>\n",
       "      <th>UDT SQL Name</th>\n",
       "      <th>UDT Name UEscape</th>\n",
       "      <th>Inline Length</th>\n",
       "      <th>Time Series Column Type</th>\n",
       "      <th>Auto Column</th>\n",
       "    </tr>\n",
       "  </thead>\n",
       "  <tbody>\n",
       "    <tr>\n",
       "      <th>0</th>\n",
       "      <td>species_id</td>\n",
       "      <td>CV</td>\n",
       "      <td>None</td>\n",
       "      <td>Y</td>\n",
       "      <td>X(1024)</td>\n",
       "      <td>None</td>\n",
       "      <td>2048</td>\n",
       "      <td>None</td>\n",
       "      <td>None</td>\n",
       "      <td>None</td>\n",
       "      <td>None</td>\n",
       "      <td>N</td>\n",
       "      <td>T</td>\n",
       "      <td>None</td>\n",
       "      <td>2</td>\n",
       "      <td>None</td>\n",
       "      <td>None</td>\n",
       "      <td>N</td>\n",
       "      <td>species_id</td>\n",
       "      <td>species_id</td>\n",
       "      <td></td>\n",
       "      <td>None</td>\n",
       "      <td>None</td>\n",
       "      <td>None</td>\n",
       "      <td>None</td>\n",
       "      <td>None</td>\n",
       "      <td>None</td>\n",
       "      <td>None</td>\n",
       "      <td>None</td>\n",
       "      <td>None</td>\n",
       "    </tr>\n",
       "    <tr>\n",
       "      <th>1</th>\n",
       "      <td>genus</td>\n",
       "      <td>CV</td>\n",
       "      <td>None</td>\n",
       "      <td>Y</td>\n",
       "      <td>X(1024)</td>\n",
       "      <td>None</td>\n",
       "      <td>2048</td>\n",
       "      <td>None</td>\n",
       "      <td>None</td>\n",
       "      <td>None</td>\n",
       "      <td>None</td>\n",
       "      <td>N</td>\n",
       "      <td>T</td>\n",
       "      <td>None</td>\n",
       "      <td>2</td>\n",
       "      <td>None</td>\n",
       "      <td>None</td>\n",
       "      <td>N</td>\n",
       "      <td>genus</td>\n",
       "      <td>genus</td>\n",
       "      <td></td>\n",
       "      <td>None</td>\n",
       "      <td>None</td>\n",
       "      <td>None</td>\n",
       "      <td>None</td>\n",
       "      <td>None</td>\n",
       "      <td>None</td>\n",
       "      <td>None</td>\n",
       "      <td>None</td>\n",
       "      <td>None</td>\n",
       "    </tr>\n",
       "    <tr>\n",
       "      <th>2</th>\n",
       "      <td>species</td>\n",
       "      <td>CV</td>\n",
       "      <td>None</td>\n",
       "      <td>Y</td>\n",
       "      <td>X(1024)</td>\n",
       "      <td>None</td>\n",
       "      <td>2048</td>\n",
       "      <td>None</td>\n",
       "      <td>None</td>\n",
       "      <td>None</td>\n",
       "      <td>None</td>\n",
       "      <td>N</td>\n",
       "      <td>T</td>\n",
       "      <td>None</td>\n",
       "      <td>2</td>\n",
       "      <td>None</td>\n",
       "      <td>None</td>\n",
       "      <td>N</td>\n",
       "      <td>species</td>\n",
       "      <td>species</td>\n",
       "      <td></td>\n",
       "      <td>None</td>\n",
       "      <td>None</td>\n",
       "      <td>None</td>\n",
       "      <td>None</td>\n",
       "      <td>None</td>\n",
       "      <td>None</td>\n",
       "      <td>None</td>\n",
       "      <td>None</td>\n",
       "      <td>None</td>\n",
       "    </tr>\n",
       "    <tr>\n",
       "      <th>3</th>\n",
       "      <td>taxa</td>\n",
       "      <td>CV</td>\n",
       "      <td>None</td>\n",
       "      <td>Y</td>\n",
       "      <td>X(1024)</td>\n",
       "      <td>None</td>\n",
       "      <td>2048</td>\n",
       "      <td>None</td>\n",
       "      <td>None</td>\n",
       "      <td>None</td>\n",
       "      <td>None</td>\n",
       "      <td>N</td>\n",
       "      <td>T</td>\n",
       "      <td>None</td>\n",
       "      <td>2</td>\n",
       "      <td>None</td>\n",
       "      <td>None</td>\n",
       "      <td>N</td>\n",
       "      <td>taxa</td>\n",
       "      <td>taxa</td>\n",
       "      <td></td>\n",
       "      <td>None</td>\n",
       "      <td>None</td>\n",
       "      <td>None</td>\n",
       "      <td>None</td>\n",
       "      <td>None</td>\n",
       "      <td>None</td>\n",
       "      <td>None</td>\n",
       "      <td>None</td>\n",
       "      <td>None</td>\n",
       "    </tr>\n",
       "  </tbody>\n",
       "</table></div>"
      ],
      "text/plain": [
       "<IPython.core.display.HTML object>"
      ]
     },
     "metadata": {},
     "output_type": "display_data"
    }
   ],
   "source": [
    "display(HTML(\"<div style='height: 250px; overflow: auto; width: fit-content'>\" +\n",
    "             dflocal.to_html() +\n",
    "             \"</div>\"))"
   ]
  },
  {
   "cell_type": "markdown",
   "id": "6cd4fda4-02e9-45d0-b377-da4a34f5cfdb",
   "metadata": {},
   "source": [
    "### HELP VIEW shows information about a view"
   ]
  },
  {
   "cell_type": "code",
   "execution_count": 75,
   "id": "cd4ec7a5",
   "metadata": {},
   "outputs": [],
   "source": [
    "sSelect = '''help view UDWBASESECUREVIEW1.CNTY;'''"
   ]
  },
  {
   "cell_type": "code",
   "execution_count": 76,
   "id": "5134c40d",
   "metadata": {},
   "outputs": [
    {
     "name": "stdout",
     "output_type": "stream",
     "text": [
      "no columns found\n"
     ]
    }
   ],
   "source": [
    "try:\n",
    "    cursor_obj.execute(sSelect)\n",
    "    dflocal = pd.DataFrame(cursor_obj.fetchall(),columns=[col_desc[0] for col_desc in cursor_obj.description])\n",
    "except:\n",
    "    print('no columns found')\n",
    "    pass"
   ]
  },
  {
   "cell_type": "code",
   "execution_count": 77,
   "id": "f2cfca97",
   "metadata": {},
   "outputs": [
    {
     "data": {
      "text/html": [
       "<div style='height: 450px; overflow: auto; width: fit-content'><table border=\"1\" class=\"dataframe\">\n",
       "  <thead>\n",
       "    <tr style=\"text-align: right;\">\n",
       "      <th></th>\n",
       "      <th>Column Name</th>\n",
       "      <th>Type</th>\n",
       "      <th>Comment</th>\n",
       "      <th>Nullable</th>\n",
       "      <th>Format</th>\n",
       "      <th>Title</th>\n",
       "      <th>Max Length</th>\n",
       "      <th>Decimal Total Digits</th>\n",
       "      <th>Decimal Fractional Digits</th>\n",
       "      <th>Range Low</th>\n",
       "      <th>Range High</th>\n",
       "      <th>UpperCase</th>\n",
       "      <th>Table/View?</th>\n",
       "      <th>Default value</th>\n",
       "      <th>Char Type</th>\n",
       "      <th>IdCol Type</th>\n",
       "      <th>UDT Name</th>\n",
       "      <th>Temporal</th>\n",
       "      <th>Column Dictionary Name</th>\n",
       "      <th>Column SQL Name</th>\n",
       "      <th>Column Name UEscape</th>\n",
       "      <th>Dictionary Title</th>\n",
       "      <th>SQL Title</th>\n",
       "      <th>Title UEscape</th>\n",
       "      <th>UDT Dictionary Name</th>\n",
       "      <th>UDT SQL Name</th>\n",
       "      <th>UDT Name UEscape</th>\n",
       "      <th>Inline Length</th>\n",
       "      <th>Time Series Column Type</th>\n",
       "    </tr>\n",
       "  </thead>\n",
       "  <tbody>\n",
       "    <tr>\n",
       "      <th>0</th>\n",
       "      <td>CNTY_CD</td>\n",
       "      <td>None</td>\n",
       "      <td>County Code (CNTY_CD) uniquely identifies counties and county equivalents in the United States, certain U.S. possessions, and certain freely associated states.</td>\n",
       "      <td>None</td>\n",
       "      <td>None</td>\n",
       "      <td>None</td>\n",
       "      <td>None</td>\n",
       "      <td>None</td>\n",
       "      <td>None</td>\n",
       "      <td>None</td>\n",
       "      <td>None</td>\n",
       "      <td>None</td>\n",
       "      <td>V</td>\n",
       "      <td>None</td>\n",
       "      <td>None</td>\n",
       "      <td>None</td>\n",
       "      <td>None</td>\n",
       "      <td>None</td>\n",
       "      <td>CNTY_CD</td>\n",
       "      <td>CNTY_CD</td>\n",
       "      <td></td>\n",
       "      <td>None</td>\n",
       "      <td>None</td>\n",
       "      <td>None</td>\n",
       "      <td>None</td>\n",
       "      <td>None</td>\n",
       "      <td>None</td>\n",
       "      <td>None</td>\n",
       "      <td>None</td>\n",
       "    </tr>\n",
       "    <tr>\n",
       "      <th>1</th>\n",
       "      <td>CNTY_NM</td>\n",
       "      <td>None</td>\n",
       "      <td>Full Name of the county</td>\n",
       "      <td>None</td>\n",
       "      <td>None</td>\n",
       "      <td>None</td>\n",
       "      <td>None</td>\n",
       "      <td>None</td>\n",
       "      <td>None</td>\n",
       "      <td>None</td>\n",
       "      <td>None</td>\n",
       "      <td>None</td>\n",
       "      <td>V</td>\n",
       "      <td>None</td>\n",
       "      <td>None</td>\n",
       "      <td>None</td>\n",
       "      <td>None</td>\n",
       "      <td>None</td>\n",
       "      <td>CNTY_NM</td>\n",
       "      <td>CNTY_NM</td>\n",
       "      <td></td>\n",
       "      <td>None</td>\n",
       "      <td>None</td>\n",
       "      <td>None</td>\n",
       "      <td>None</td>\n",
       "      <td>None</td>\n",
       "      <td>None</td>\n",
       "      <td>None</td>\n",
       "      <td>None</td>\n",
       "    </tr>\n",
       "    <tr>\n",
       "      <th>2</th>\n",
       "      <td>INSRT_BTCH_ID</td>\n",
       "      <td>None</td>\n",
       "      <td>The ETL Batch Id associated with the Insert of the row into the table.</td>\n",
       "      <td>None</td>\n",
       "      <td>None</td>\n",
       "      <td>None</td>\n",
       "      <td>None</td>\n",
       "      <td>None</td>\n",
       "      <td>None</td>\n",
       "      <td>None</td>\n",
       "      <td>None</td>\n",
       "      <td>None</td>\n",
       "      <td>V</td>\n",
       "      <td>None</td>\n",
       "      <td>None</td>\n",
       "      <td>None</td>\n",
       "      <td>None</td>\n",
       "      <td>None</td>\n",
       "      <td>INSRT_BTCH_ID</td>\n",
       "      <td>INSRT_BTCH_ID</td>\n",
       "      <td></td>\n",
       "      <td>None</td>\n",
       "      <td>None</td>\n",
       "      <td>None</td>\n",
       "      <td>None</td>\n",
       "      <td>None</td>\n",
       "      <td>None</td>\n",
       "      <td>None</td>\n",
       "      <td>None</td>\n",
       "    </tr>\n",
       "    <tr>\n",
       "      <th>3</th>\n",
       "      <td>INSRT_TS</td>\n",
       "      <td>None</td>\n",
       "      <td>The calendar date the row was inserted into the table.</td>\n",
       "      <td>None</td>\n",
       "      <td>None</td>\n",
       "      <td>None</td>\n",
       "      <td>None</td>\n",
       "      <td>None</td>\n",
       "      <td>None</td>\n",
       "      <td>None</td>\n",
       "      <td>None</td>\n",
       "      <td>None</td>\n",
       "      <td>V</td>\n",
       "      <td>None</td>\n",
       "      <td>None</td>\n",
       "      <td>None</td>\n",
       "      <td>None</td>\n",
       "      <td>None</td>\n",
       "      <td>INSRT_TS</td>\n",
       "      <td>INSRT_TS</td>\n",
       "      <td></td>\n",
       "      <td>None</td>\n",
       "      <td>None</td>\n",
       "      <td>None</td>\n",
       "      <td>None</td>\n",
       "      <td>None</td>\n",
       "      <td>None</td>\n",
       "      <td>None</td>\n",
       "      <td>None</td>\n",
       "    </tr>\n",
       "    <tr>\n",
       "      <th>4</th>\n",
       "      <td>LST_UPDT_TS</td>\n",
       "      <td>None</td>\n",
       "      <td>The calendar date the row was last updated in the table.</td>\n",
       "      <td>None</td>\n",
       "      <td>None</td>\n",
       "      <td>None</td>\n",
       "      <td>None</td>\n",
       "      <td>None</td>\n",
       "      <td>None</td>\n",
       "      <td>None</td>\n",
       "      <td>None</td>\n",
       "      <td>None</td>\n",
       "      <td>V</td>\n",
       "      <td>None</td>\n",
       "      <td>None</td>\n",
       "      <td>None</td>\n",
       "      <td>None</td>\n",
       "      <td>None</td>\n",
       "      <td>LST_UPDT_TS</td>\n",
       "      <td>LST_UPDT_TS</td>\n",
       "      <td></td>\n",
       "      <td>None</td>\n",
       "      <td>None</td>\n",
       "      <td>None</td>\n",
       "      <td>None</td>\n",
       "      <td>None</td>\n",
       "      <td>None</td>\n",
       "      <td>None</td>\n",
       "      <td>None</td>\n",
       "    </tr>\n",
       "    <tr>\n",
       "      <th>5</th>\n",
       "      <td>LST_UPDT_BTCH_ID</td>\n",
       "      <td>None</td>\n",
       "      <td>The ETL Batch Id associated with the last time the row was changed in the table.</td>\n",
       "      <td>None</td>\n",
       "      <td>None</td>\n",
       "      <td>None</td>\n",
       "      <td>None</td>\n",
       "      <td>None</td>\n",
       "      <td>None</td>\n",
       "      <td>None</td>\n",
       "      <td>None</td>\n",
       "      <td>None</td>\n",
       "      <td>V</td>\n",
       "      <td>None</td>\n",
       "      <td>None</td>\n",
       "      <td>None</td>\n",
       "      <td>None</td>\n",
       "      <td>None</td>\n",
       "      <td>LST_UPDT_BTCH_ID</td>\n",
       "      <td>LST_UPDT_BTCH_ID</td>\n",
       "      <td></td>\n",
       "      <td>None</td>\n",
       "      <td>None</td>\n",
       "      <td>None</td>\n",
       "      <td>None</td>\n",
       "      <td>None</td>\n",
       "      <td>None</td>\n",
       "      <td>None</td>\n",
       "      <td>None</td>\n",
       "    </tr>\n",
       "  </tbody>\n",
       "</table></div>"
      ],
      "text/plain": [
       "<IPython.core.display.HTML object>"
      ]
     },
     "metadata": {},
     "output_type": "display_data"
    }
   ],
   "source": [
    "pd.set_option('display.max_rows', None)\n",
    "# use this to display a table with a scroll bar\n",
    "display(HTML(\"<div style='height: 450px; overflow: auto; width: fit-content'>\" +\n",
    "             dflocal.to_html() +\n",
    "             \"</div>\"))"
   ]
  },
  {
   "cell_type": "markdown",
   "id": "f1fd7e39-3b62-4860-b0b8-a5878c569b10",
   "metadata": {},
   "source": [
    "### Now let's drop the table we created for this demo"
   ]
  },
  {
   "cell_type": "code",
   "execution_count": 70,
   "id": "c89a3b37-3cd6-4527-b007-f81b0cf2df0f",
   "metadata": {},
   "outputs": [],
   "source": [
    "try:\n",
    "    db_drop_table('jsumme17_demo_species')\n",
    "except: \n",
    "    pass"
   ]
  },
  {
   "cell_type": "markdown",
   "id": "13333883-6505-4e72-9a8e-364bb35323ab",
   "metadata": {},
   "source": [
    "#### Cleanup / remove connection"
   ]
  },
  {
   "cell_type": "code",
   "execution_count": 72,
   "id": "560e44aa",
   "metadata": {},
   "outputs": [
    {
     "data": {
      "text/plain": [
       "True"
      ]
     },
     "execution_count": 72,
     "metadata": {},
     "output_type": "execute_result"
    }
   ],
   "source": [
    "remove_context()"
   ]
  },
  {
   "cell_type": "code",
   "execution_count": null,
   "id": "5bed755c-2135-4da4-b478-5171faf6b96a",
   "metadata": {},
   "outputs": [],
   "source": []
  }
 ],
 "metadata": {
  "kernelspec": {
   "display_name": "Python3.10",
   "language": "python",
   "name": "python310"
  },
  "language_info": {
   "codemirror_mode": {
    "name": "ipython",
    "version": 3
   },
   "file_extension": ".py",
   "mimetype": "text/x-python",
   "name": "python",
   "nbconvert_exporter": "python",
   "pygments_lexer": "ipython3",
   "version": "3.10.13"
  }
 },
 "nbformat": 4,
 "nbformat_minor": 5
}
